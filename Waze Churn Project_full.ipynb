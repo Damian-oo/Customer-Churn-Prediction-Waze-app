{
 "cells": [
  {
   "cell_type": "markdown",
   "id": "7bf89add-c3bc-4ed1-aac9-dd6cca7e915b",
   "metadata": {},
   "source": [
    "## <center> About Waze </center>\n",
    "\n",
    "##### Waze is an app that provides satellite navigation software on smartphones and other computers that support the Global Positioning System (GPS). Waze's free navigation app makes it easier for drivers around the world to get to where they want to go. Waze's community of map editors, beta testers, translators, partners, and users helps make each drive better and safer"
   ]
  },
  {
   "cell_type": "markdown",
   "id": "9037c02d-f324-443b-9a89-0826d8cf3eaf",
   "metadata": {
    "jp-MarkdownHeadingCollapsed": true
   },
   "source": [
    "## <center>   Project Goal  </center>\n",
    "\n",
    "#### The final goal of this project is to develop a ML model to predict which users are most likely to stop using Waze app. This information will allow to make further decisions that will help prevent churn, improve user retention, and thus, grow Waze's business."
   ]
  },
  {
   "cell_type": "markdown",
   "id": "0beb97ea-4183-4d49-a931-a782b16b085f",
   "metadata": {},
   "source": [
    "## <center> Churn problem </center>\n",
    "#### Churn quantifies the number of users who have uninstalled the Waze app or stopped using the app. "
   ]
  },
  {
   "cell_type": "markdown",
   "id": "f1293146-2546-4282-8847-180e022d2098",
   "metadata": {},
   "source": [
    "## <center> Main parts of this project include following steps: </center>\n",
    "\n",
    "1. Gather and import data to Python, then inspect it in general perspective \n",
    "2. Cleaning and pre-processing data to prepare it for further analysis\n",
    "3. perform EDA to understand data structure\n",
    "4. Calculate descriptive statistics for quantitative variables, conduct a statistical hypothesis tests for insights\n",
    "5. Build and evaluate a logistic regression model to predict outcomes  \n",
    "6. Perform feature engineering and build more complex models e.g. Random forest and XGBoost"
   ]
  },
  {
   "cell_type": "markdown",
   "id": "d91d8927-13c1-411f-87aa-eefa25eb182d",
   "metadata": {},
   "source": [
    "## <center>  1. Gather and import data to Python, then inspect it in general perspective   </center>\n",
    "\n",
    "#### This will include:\n",
    "- x"
   ]
  },
  {
   "cell_type": "markdown",
   "id": "7ac5bad7-c978-4b10-91fd-a4766362ee99",
   "metadata": {},
   "source": [
    "We import necessary libraries i.e. pandas and numpy"
   ]
  },
  {
   "cell_type": "code",
   "execution_count": 171,
   "id": "2becab8d-0154-43c7-af0b-61de1b5825e6",
   "metadata": {},
   "outputs": [],
   "source": [
    "import pandas as pd\n",
    "import numpy as np\n",
    "import matplotlib.pyplot as plt\n",
    "import seaborn as sns"
   ]
  },
  {
   "cell_type": "markdown",
   "id": "cef063fb-f253-43c3-8d1d-b80bb1302d75",
   "metadata": {},
   "source": [
    "And we load our dataset into dataFrame using standard **pandas.read_csv()** function"
   ]
  },
  {
   "cell_type": "code",
   "execution_count": 172,
   "id": "db67bc17-0e0e-4a25-ad26-d00f48af5e33",
   "metadata": {},
   "outputs": [],
   "source": [
    "df_waze_0 = pd.read_csv(\"C:/Coursera/Google Advanced Data Analytics/GADA_datasets/waze_dataset.csv\")"
   ]
  },
  {
   "cell_type": "markdown",
   "id": "16c7880f-eb5a-4485-bb94-d060647a324e",
   "metadata": {},
   "source": [
    "#### Except data itself, we also got provided a brief description of each column in our dataset:\n",
    "\n",
    "- ID - A sequential numbered index\n",
    "- label - Target variable (“retained” vs “churned”) for if a user has churned anytime during the course of the month \n",
    "- sessions - The number of occurrence of a user opening the app during the month\n",
    "- drives - An occurrence of driving at least 1 km during the month\n",
    "- device - The type of device a user starts a session with\n",
    "- total_sessions - A model estimate of the total number of sessions since a user has onboarded\n",
    "- n_days_after_onboarding - The number of days since a user signed up for the app\n",
    "-  total_navigations_fav1 - Total navigations since onboarding to the user’s favorite place 1\n",
    "- total_navigations_fav2 - Total navigations since onboarding to the user’s favorite place 2\n",
    "- driven_km_drives - Total kilometers driven during the month\n",
    "- duration_minutes_drives - Total duration driven in minutes during the month\n",
    "- activity_days - Number of days the user opens the app during the month \n",
    "- driving_days - Number of days the user drives (at least 1 km) during the month"
   ]
  },
  {
   "cell_type": "markdown",
   "id": "e0bf3c16-002b-450e-ac0a-909cd3ad044c",
   "metadata": {},
   "source": [
    "As a next step, we will view and inspect summary information of our dataset by using following methods and attributes from pandas module:\n",
    "\n",
    "- head()\n",
    "- info()\n",
    "- shape"
   ]
  },
  {
   "cell_type": "code",
   "execution_count": 173,
   "id": "90b4c850-9fe8-4c6b-9a24-bcb17a743898",
   "metadata": {},
   "outputs": [
    {
     "data": {
      "text/html": [
       "<div>\n",
       "<style scoped>\n",
       "    .dataframe tbody tr th:only-of-type {\n",
       "        vertical-align: middle;\n",
       "    }\n",
       "\n",
       "    .dataframe tbody tr th {\n",
       "        vertical-align: top;\n",
       "    }\n",
       "\n",
       "    .dataframe thead th {\n",
       "        text-align: right;\n",
       "    }\n",
       "</style>\n",
       "<table border=\"1\" class=\"dataframe\">\n",
       "  <thead>\n",
       "    <tr style=\"text-align: right;\">\n",
       "      <th></th>\n",
       "      <th>ID</th>\n",
       "      <th>label</th>\n",
       "      <th>sessions</th>\n",
       "      <th>drives</th>\n",
       "      <th>total_sessions</th>\n",
       "      <th>n_days_after_onboarding</th>\n",
       "      <th>total_navigations_fav1</th>\n",
       "      <th>total_navigations_fav2</th>\n",
       "      <th>driven_km_drives</th>\n",
       "      <th>duration_minutes_drives</th>\n",
       "      <th>activity_days</th>\n",
       "      <th>driving_days</th>\n",
       "      <th>device</th>\n",
       "    </tr>\n",
       "  </thead>\n",
       "  <tbody>\n",
       "    <tr>\n",
       "      <th>0</th>\n",
       "      <td>0</td>\n",
       "      <td>retained</td>\n",
       "      <td>283</td>\n",
       "      <td>226</td>\n",
       "      <td>296.748273</td>\n",
       "      <td>2276</td>\n",
       "      <td>208</td>\n",
       "      <td>0</td>\n",
       "      <td>2628.845068</td>\n",
       "      <td>1985.775061</td>\n",
       "      <td>28</td>\n",
       "      <td>19</td>\n",
       "      <td>Android</td>\n",
       "    </tr>\n",
       "    <tr>\n",
       "      <th>1</th>\n",
       "      <td>1</td>\n",
       "      <td>retained</td>\n",
       "      <td>133</td>\n",
       "      <td>107</td>\n",
       "      <td>326.896596</td>\n",
       "      <td>1225</td>\n",
       "      <td>19</td>\n",
       "      <td>64</td>\n",
       "      <td>13715.920550</td>\n",
       "      <td>3160.472914</td>\n",
       "      <td>13</td>\n",
       "      <td>11</td>\n",
       "      <td>iPhone</td>\n",
       "    </tr>\n",
       "    <tr>\n",
       "      <th>2</th>\n",
       "      <td>2</td>\n",
       "      <td>retained</td>\n",
       "      <td>114</td>\n",
       "      <td>95</td>\n",
       "      <td>135.522926</td>\n",
       "      <td>2651</td>\n",
       "      <td>0</td>\n",
       "      <td>0</td>\n",
       "      <td>3059.148818</td>\n",
       "      <td>1610.735904</td>\n",
       "      <td>14</td>\n",
       "      <td>8</td>\n",
       "      <td>Android</td>\n",
       "    </tr>\n",
       "    <tr>\n",
       "      <th>3</th>\n",
       "      <td>3</td>\n",
       "      <td>retained</td>\n",
       "      <td>49</td>\n",
       "      <td>40</td>\n",
       "      <td>67.589221</td>\n",
       "      <td>15</td>\n",
       "      <td>322</td>\n",
       "      <td>7</td>\n",
       "      <td>913.591123</td>\n",
       "      <td>587.196542</td>\n",
       "      <td>7</td>\n",
       "      <td>3</td>\n",
       "      <td>iPhone</td>\n",
       "    </tr>\n",
       "    <tr>\n",
       "      <th>4</th>\n",
       "      <td>4</td>\n",
       "      <td>retained</td>\n",
       "      <td>84</td>\n",
       "      <td>68</td>\n",
       "      <td>168.247020</td>\n",
       "      <td>1562</td>\n",
       "      <td>166</td>\n",
       "      <td>5</td>\n",
       "      <td>3950.202008</td>\n",
       "      <td>1219.555924</td>\n",
       "      <td>27</td>\n",
       "      <td>18</td>\n",
       "      <td>Android</td>\n",
       "    </tr>\n",
       "    <tr>\n",
       "      <th>5</th>\n",
       "      <td>5</td>\n",
       "      <td>retained</td>\n",
       "      <td>113</td>\n",
       "      <td>103</td>\n",
       "      <td>279.544437</td>\n",
       "      <td>2637</td>\n",
       "      <td>0</td>\n",
       "      <td>0</td>\n",
       "      <td>901.238699</td>\n",
       "      <td>439.101397</td>\n",
       "      <td>15</td>\n",
       "      <td>11</td>\n",
       "      <td>iPhone</td>\n",
       "    </tr>\n",
       "    <tr>\n",
       "      <th>6</th>\n",
       "      <td>6</td>\n",
       "      <td>retained</td>\n",
       "      <td>3</td>\n",
       "      <td>2</td>\n",
       "      <td>236.725314</td>\n",
       "      <td>360</td>\n",
       "      <td>185</td>\n",
       "      <td>18</td>\n",
       "      <td>5249.172828</td>\n",
       "      <td>726.577205</td>\n",
       "      <td>28</td>\n",
       "      <td>23</td>\n",
       "      <td>iPhone</td>\n",
       "    </tr>\n",
       "    <tr>\n",
       "      <th>7</th>\n",
       "      <td>7</td>\n",
       "      <td>retained</td>\n",
       "      <td>39</td>\n",
       "      <td>35</td>\n",
       "      <td>176.072845</td>\n",
       "      <td>2999</td>\n",
       "      <td>0</td>\n",
       "      <td>0</td>\n",
       "      <td>7892.052468</td>\n",
       "      <td>2466.981741</td>\n",
       "      <td>22</td>\n",
       "      <td>20</td>\n",
       "      <td>iPhone</td>\n",
       "    </tr>\n",
       "    <tr>\n",
       "      <th>8</th>\n",
       "      <td>8</td>\n",
       "      <td>retained</td>\n",
       "      <td>57</td>\n",
       "      <td>46</td>\n",
       "      <td>183.532018</td>\n",
       "      <td>424</td>\n",
       "      <td>0</td>\n",
       "      <td>26</td>\n",
       "      <td>2651.709764</td>\n",
       "      <td>1594.342984</td>\n",
       "      <td>25</td>\n",
       "      <td>20</td>\n",
       "      <td>Android</td>\n",
       "    </tr>\n",
       "    <tr>\n",
       "      <th>9</th>\n",
       "      <td>9</td>\n",
       "      <td>churned</td>\n",
       "      <td>84</td>\n",
       "      <td>68</td>\n",
       "      <td>244.802115</td>\n",
       "      <td>2997</td>\n",
       "      <td>72</td>\n",
       "      <td>0</td>\n",
       "      <td>6043.460295</td>\n",
       "      <td>2341.838528</td>\n",
       "      <td>7</td>\n",
       "      <td>3</td>\n",
       "      <td>iPhone</td>\n",
       "    </tr>\n",
       "  </tbody>\n",
       "</table>\n",
       "</div>"
      ],
      "text/plain": [
       "   ID     label  sessions  drives  total_sessions  n_days_after_onboarding  \\\n",
       "0   0  retained       283     226      296.748273                     2276   \n",
       "1   1  retained       133     107      326.896596                     1225   \n",
       "2   2  retained       114      95      135.522926                     2651   \n",
       "3   3  retained        49      40       67.589221                       15   \n",
       "4   4  retained        84      68      168.247020                     1562   \n",
       "5   5  retained       113     103      279.544437                     2637   \n",
       "6   6  retained         3       2      236.725314                      360   \n",
       "7   7  retained        39      35      176.072845                     2999   \n",
       "8   8  retained        57      46      183.532018                      424   \n",
       "9   9   churned        84      68      244.802115                     2997   \n",
       "\n",
       "   total_navigations_fav1  total_navigations_fav2  driven_km_drives  \\\n",
       "0                     208                       0       2628.845068   \n",
       "1                      19                      64      13715.920550   \n",
       "2                       0                       0       3059.148818   \n",
       "3                     322                       7        913.591123   \n",
       "4                     166                       5       3950.202008   \n",
       "5                       0                       0        901.238699   \n",
       "6                     185                      18       5249.172828   \n",
       "7                       0                       0       7892.052468   \n",
       "8                       0                      26       2651.709764   \n",
       "9                      72                       0       6043.460295   \n",
       "\n",
       "   duration_minutes_drives  activity_days  driving_days   device  \n",
       "0              1985.775061             28            19  Android  \n",
       "1              3160.472914             13            11   iPhone  \n",
       "2              1610.735904             14             8  Android  \n",
       "3               587.196542              7             3   iPhone  \n",
       "4              1219.555924             27            18  Android  \n",
       "5               439.101397             15            11   iPhone  \n",
       "6               726.577205             28            23   iPhone  \n",
       "7              2466.981741             22            20   iPhone  \n",
       "8              1594.342984             25            20  Android  \n",
       "9              2341.838528              7             3   iPhone  "
      ]
     },
     "execution_count": 173,
     "metadata": {},
     "output_type": "execute_result"
    }
   ],
   "source": [
    "df_waze_0.head(10)"
   ]
  },
  {
   "cell_type": "code",
   "execution_count": 174,
   "id": "b007dd75-1468-4ed7-b552-35012daa82ee",
   "metadata": {},
   "outputs": [
    {
     "data": {
      "text/plain": [
       "(14999, 13)"
      ]
     },
     "execution_count": 174,
     "metadata": {},
     "output_type": "execute_result"
    }
   ],
   "source": [
    "df_waze_0.shape"
   ]
  },
  {
   "cell_type": "code",
   "execution_count": 175,
   "id": "61336777-4b42-401e-af2d-24423a3db2df",
   "metadata": {},
   "outputs": [
    {
     "name": "stdout",
     "output_type": "stream",
     "text": [
      "<class 'pandas.core.frame.DataFrame'>\n",
      "RangeIndex: 14999 entries, 0 to 14998\n",
      "Data columns (total 13 columns):\n",
      " #   Column                   Non-Null Count  Dtype  \n",
      "---  ------                   --------------  -----  \n",
      " 0   ID                       14999 non-null  int64  \n",
      " 1   label                    14299 non-null  object \n",
      " 2   sessions                 14999 non-null  int64  \n",
      " 3   drives                   14999 non-null  int64  \n",
      " 4   total_sessions           14999 non-null  float64\n",
      " 5   n_days_after_onboarding  14999 non-null  int64  \n",
      " 6   total_navigations_fav1   14999 non-null  int64  \n",
      " 7   total_navigations_fav2   14999 non-null  int64  \n",
      " 8   driven_km_drives         14999 non-null  float64\n",
      " 9   duration_minutes_drives  14999 non-null  float64\n",
      " 10  activity_days            14999 non-null  int64  \n",
      " 11  driving_days             14999 non-null  int64  \n",
      " 12  device                   14999 non-null  object \n",
      "dtypes: float64(3), int64(8), object(2)\n",
      "memory usage: 1.5+ MB\n"
     ]
    }
   ],
   "source": [
    "df_waze_0.info()"
   ]
  },
  {
   "cell_type": "markdown",
   "id": "9ba7dc80-64f0-4890-b359-4a1402e44445",
   "metadata": {},
   "source": [
    "As we can see above, the variables `label` and `device` are of type `object` (`string`); `total_sessions`, `driven_km_drives`, and `duration_minutes_drives` are of type `float64`; the rest of the variables are of type `int64`. There are 14,999 rows and 13 columns."
   ]
  },
  {
   "cell_type": "markdown",
   "id": "47b8db61-7670-4b25-b81a-d1b9622e865b",
   "metadata": {},
   "source": [
    "Above, with usage of **info()** method, we also got number of non-null values per each column. Below we provide the same information from another perspective - how many times per each column, null value occurs. To do so, we will use **isnull()** and **sum()** methods from *pandas* module."
   ]
  },
  {
   "cell_type": "code",
   "execution_count": 176,
   "id": "40e29113-1b52-43b9-a0b9-dbca91e906d5",
   "metadata": {},
   "outputs": [
    {
     "data": {
      "text/plain": [
       "ID                           0\n",
       "label                      700\n",
       "sessions                     0\n",
       "drives                       0\n",
       "total_sessions               0\n",
       "n_days_after_onboarding      0\n",
       "total_navigations_fav1       0\n",
       "total_navigations_fav2       0\n",
       "driven_km_drives             0\n",
       "duration_minutes_drives      0\n",
       "activity_days                0\n",
       "driving_days                 0\n",
       "device                       0\n",
       "dtype: int64"
      ]
     },
     "execution_count": 176,
     "metadata": {},
     "output_type": "execute_result"
    }
   ],
   "source": [
    "df_waze_0.isnull().sum()"
   ]
  },
  {
   "cell_type": "markdown",
   "id": "b23d5ae2-15b1-440c-8109-8a3db176b70f",
   "metadata": {},
   "source": [
    "We observe that the only null values in our dataframe are contained in `label` column, there are 700 of them"
   ]
  },
  {
   "cell_type": "markdown",
   "id": "a8dd5ffa-81f1-4ec9-96c8-1b94da922bf3",
   "metadata": {},
   "source": [
    "We will split out dataset for two parts: one where `label` is not null, and another where there are null values in `label` column. Next we will look if there are any differencies in distributions of another variables based on whether `label` columns is null or not"
   ]
  },
  {
   "cell_type": "code",
   "execution_count": 177,
   "id": "4b3dc9e2-9b3e-476e-b731-bf1038e01d2a",
   "metadata": {},
   "outputs": [],
   "source": [
    "df_waze_not_null = df_waze_0[~df_waze_0[\"label\"].isna()]\n",
    "df_waze_null = df_waze_0[df_waze_0[\"label\"].isna()]"
   ]
  },
  {
   "cell_type": "code",
   "execution_count": 178,
   "id": "90107bb9-a33a-4a1d-a00b-5d641dc487ed",
   "metadata": {},
   "outputs": [
    {
     "name": "stdout",
     "output_type": "stream",
     "text": [
      "(14299, 13)\n",
      "(700, 13)\n"
     ]
    }
   ],
   "source": [
    "print(df_waze_not_null.shape)\n",
    "print(df_waze_null.shape)"
   ]
  },
  {
   "cell_type": "markdown",
   "id": "3f4de3ac-d239-4634-a61c-4475cdf9746f",
   "metadata": {},
   "source": [
    "For quantitative variables, we will use **describe()** method to calculate summary statistics of each variable:"
   ]
  },
  {
   "cell_type": "code",
   "execution_count": 179,
   "id": "d4710f84-d187-43ec-b298-1b906d7f34d5",
   "metadata": {},
   "outputs": [
    {
     "data": {
      "text/html": [
       "<div>\n",
       "<style scoped>\n",
       "    .dataframe tbody tr th:only-of-type {\n",
       "        vertical-align: middle;\n",
       "    }\n",
       "\n",
       "    .dataframe tbody tr th {\n",
       "        vertical-align: top;\n",
       "    }\n",
       "\n",
       "    .dataframe thead th {\n",
       "        text-align: right;\n",
       "    }\n",
       "</style>\n",
       "<table border=\"1\" class=\"dataframe\">\n",
       "  <thead>\n",
       "    <tr style=\"text-align: right;\">\n",
       "      <th></th>\n",
       "      <th>ID</th>\n",
       "      <th>sessions</th>\n",
       "      <th>drives</th>\n",
       "      <th>total_sessions</th>\n",
       "      <th>n_days_after_onboarding</th>\n",
       "      <th>total_navigations_fav1</th>\n",
       "      <th>total_navigations_fav2</th>\n",
       "      <th>driven_km_drives</th>\n",
       "      <th>duration_minutes_drives</th>\n",
       "      <th>activity_days</th>\n",
       "      <th>driving_days</th>\n",
       "    </tr>\n",
       "  </thead>\n",
       "  <tbody>\n",
       "    <tr>\n",
       "      <th>count</th>\n",
       "      <td>14299.000000</td>\n",
       "      <td>14299.000000</td>\n",
       "      <td>14299.000000</td>\n",
       "      <td>14299.000000</td>\n",
       "      <td>14299.000000</td>\n",
       "      <td>14299.000000</td>\n",
       "      <td>14299.000000</td>\n",
       "      <td>14299.000000</td>\n",
       "      <td>14299.000000</td>\n",
       "      <td>14299.000000</td>\n",
       "      <td>14299.000000</td>\n",
       "    </tr>\n",
       "    <tr>\n",
       "      <th>mean</th>\n",
       "      <td>7503.573117</td>\n",
       "      <td>80.623820</td>\n",
       "      <td>67.255822</td>\n",
       "      <td>189.547409</td>\n",
       "      <td>1751.822505</td>\n",
       "      <td>121.747395</td>\n",
       "      <td>29.638296</td>\n",
       "      <td>4044.401535</td>\n",
       "      <td>1864.199794</td>\n",
       "      <td>15.544653</td>\n",
       "      <td>12.182530</td>\n",
       "    </tr>\n",
       "    <tr>\n",
       "      <th>std</th>\n",
       "      <td>4331.207621</td>\n",
       "      <td>80.736502</td>\n",
       "      <td>65.947295</td>\n",
       "      <td>136.189764</td>\n",
       "      <td>1008.663834</td>\n",
       "      <td>147.713428</td>\n",
       "      <td>45.350890</td>\n",
       "      <td>2504.977970</td>\n",
       "      <td>1448.005047</td>\n",
       "      <td>9.016088</td>\n",
       "      <td>7.833835</td>\n",
       "    </tr>\n",
       "    <tr>\n",
       "      <th>min</th>\n",
       "      <td>0.000000</td>\n",
       "      <td>0.000000</td>\n",
       "      <td>0.000000</td>\n",
       "      <td>0.220211</td>\n",
       "      <td>4.000000</td>\n",
       "      <td>0.000000</td>\n",
       "      <td>0.000000</td>\n",
       "      <td>60.441250</td>\n",
       "      <td>18.282082</td>\n",
       "      <td>0.000000</td>\n",
       "      <td>0.000000</td>\n",
       "    </tr>\n",
       "    <tr>\n",
       "      <th>25%</th>\n",
       "      <td>3749.500000</td>\n",
       "      <td>23.000000</td>\n",
       "      <td>20.000000</td>\n",
       "      <td>90.457733</td>\n",
       "      <td>878.500000</td>\n",
       "      <td>10.000000</td>\n",
       "      <td>0.000000</td>\n",
       "      <td>2217.319909</td>\n",
       "      <td>840.181344</td>\n",
       "      <td>8.000000</td>\n",
       "      <td>5.000000</td>\n",
       "    </tr>\n",
       "    <tr>\n",
       "      <th>50%</th>\n",
       "      <td>7504.000000</td>\n",
       "      <td>56.000000</td>\n",
       "      <td>48.000000</td>\n",
       "      <td>158.718571</td>\n",
       "      <td>1749.000000</td>\n",
       "      <td>71.000000</td>\n",
       "      <td>9.000000</td>\n",
       "      <td>3496.545617</td>\n",
       "      <td>1479.394387</td>\n",
       "      <td>16.000000</td>\n",
       "      <td>12.000000</td>\n",
       "    </tr>\n",
       "    <tr>\n",
       "      <th>75%</th>\n",
       "      <td>11257.500000</td>\n",
       "      <td>111.000000</td>\n",
       "      <td>93.000000</td>\n",
       "      <td>253.540450</td>\n",
       "      <td>2627.500000</td>\n",
       "      <td>178.000000</td>\n",
       "      <td>43.000000</td>\n",
       "      <td>5299.972162</td>\n",
       "      <td>2466.928876</td>\n",
       "      <td>23.000000</td>\n",
       "      <td>19.000000</td>\n",
       "    </tr>\n",
       "    <tr>\n",
       "      <th>max</th>\n",
       "      <td>14998.000000</td>\n",
       "      <td>743.000000</td>\n",
       "      <td>596.000000</td>\n",
       "      <td>1216.154633</td>\n",
       "      <td>3500.000000</td>\n",
       "      <td>1236.000000</td>\n",
       "      <td>415.000000</td>\n",
       "      <td>21183.401890</td>\n",
       "      <td>15851.727160</td>\n",
       "      <td>31.000000</td>\n",
       "      <td>30.000000</td>\n",
       "    </tr>\n",
       "  </tbody>\n",
       "</table>\n",
       "</div>"
      ],
      "text/plain": [
       "                 ID      sessions        drives  total_sessions  \\\n",
       "count  14299.000000  14299.000000  14299.000000    14299.000000   \n",
       "mean    7503.573117     80.623820     67.255822      189.547409   \n",
       "std     4331.207621     80.736502     65.947295      136.189764   \n",
       "min        0.000000      0.000000      0.000000        0.220211   \n",
       "25%     3749.500000     23.000000     20.000000       90.457733   \n",
       "50%     7504.000000     56.000000     48.000000      158.718571   \n",
       "75%    11257.500000    111.000000     93.000000      253.540450   \n",
       "max    14998.000000    743.000000    596.000000     1216.154633   \n",
       "\n",
       "       n_days_after_onboarding  total_navigations_fav1  \\\n",
       "count             14299.000000            14299.000000   \n",
       "mean               1751.822505              121.747395   \n",
       "std                1008.663834              147.713428   \n",
       "min                   4.000000                0.000000   \n",
       "25%                 878.500000               10.000000   \n",
       "50%                1749.000000               71.000000   \n",
       "75%                2627.500000              178.000000   \n",
       "max                3500.000000             1236.000000   \n",
       "\n",
       "       total_navigations_fav2  driven_km_drives  duration_minutes_drives  \\\n",
       "count            14299.000000      14299.000000             14299.000000   \n",
       "mean                29.638296       4044.401535              1864.199794   \n",
       "std                 45.350890       2504.977970              1448.005047   \n",
       "min                  0.000000         60.441250                18.282082   \n",
       "25%                  0.000000       2217.319909               840.181344   \n",
       "50%                  9.000000       3496.545617              1479.394387   \n",
       "75%                 43.000000       5299.972162              2466.928876   \n",
       "max                415.000000      21183.401890             15851.727160   \n",
       "\n",
       "       activity_days  driving_days  \n",
       "count   14299.000000  14299.000000  \n",
       "mean       15.544653     12.182530  \n",
       "std         9.016088      7.833835  \n",
       "min         0.000000      0.000000  \n",
       "25%         8.000000      5.000000  \n",
       "50%        16.000000     12.000000  \n",
       "75%        23.000000     19.000000  \n",
       "max        31.000000     30.000000  "
      ]
     },
     "execution_count": 179,
     "metadata": {},
     "output_type": "execute_result"
    }
   ],
   "source": [
    "df_waze_not_null.describe()"
   ]
  },
  {
   "cell_type": "code",
   "execution_count": 180,
   "id": "1c5048af-100f-41c2-839b-b4a11b1076cf",
   "metadata": {},
   "outputs": [
    {
     "data": {
      "text/html": [
       "<div>\n",
       "<style scoped>\n",
       "    .dataframe tbody tr th:only-of-type {\n",
       "        vertical-align: middle;\n",
       "    }\n",
       "\n",
       "    .dataframe tbody tr th {\n",
       "        vertical-align: top;\n",
       "    }\n",
       "\n",
       "    .dataframe thead th {\n",
       "        text-align: right;\n",
       "    }\n",
       "</style>\n",
       "<table border=\"1\" class=\"dataframe\">\n",
       "  <thead>\n",
       "    <tr style=\"text-align: right;\">\n",
       "      <th></th>\n",
       "      <th>ID</th>\n",
       "      <th>sessions</th>\n",
       "      <th>drives</th>\n",
       "      <th>total_sessions</th>\n",
       "      <th>n_days_after_onboarding</th>\n",
       "      <th>total_navigations_fav1</th>\n",
       "      <th>total_navigations_fav2</th>\n",
       "      <th>driven_km_drives</th>\n",
       "      <th>duration_minutes_drives</th>\n",
       "      <th>activity_days</th>\n",
       "      <th>driving_days</th>\n",
       "    </tr>\n",
       "  </thead>\n",
       "  <tbody>\n",
       "    <tr>\n",
       "      <th>count</th>\n",
       "      <td>700.000000</td>\n",
       "      <td>700.000000</td>\n",
       "      <td>700.000000</td>\n",
       "      <td>700.000000</td>\n",
       "      <td>700.000000</td>\n",
       "      <td>700.000000</td>\n",
       "      <td>700.000000</td>\n",
       "      <td>700.000000</td>\n",
       "      <td>700.000000</td>\n",
       "      <td>700.000000</td>\n",
       "      <td>700.000000</td>\n",
       "    </tr>\n",
       "    <tr>\n",
       "      <th>mean</th>\n",
       "      <td>7405.584286</td>\n",
       "      <td>80.837143</td>\n",
       "      <td>67.798571</td>\n",
       "      <td>198.483348</td>\n",
       "      <td>1709.295714</td>\n",
       "      <td>118.717143</td>\n",
       "      <td>30.371429</td>\n",
       "      <td>3935.967029</td>\n",
       "      <td>1795.123358</td>\n",
       "      <td>15.382857</td>\n",
       "      <td>12.125714</td>\n",
       "    </tr>\n",
       "    <tr>\n",
       "      <th>std</th>\n",
       "      <td>4306.900234</td>\n",
       "      <td>79.987440</td>\n",
       "      <td>65.271926</td>\n",
       "      <td>140.561715</td>\n",
       "      <td>1005.306562</td>\n",
       "      <td>156.308140</td>\n",
       "      <td>46.306984</td>\n",
       "      <td>2443.107121</td>\n",
       "      <td>1419.242246</td>\n",
       "      <td>8.772714</td>\n",
       "      <td>7.626373</td>\n",
       "    </tr>\n",
       "    <tr>\n",
       "      <th>min</th>\n",
       "      <td>77.000000</td>\n",
       "      <td>0.000000</td>\n",
       "      <td>0.000000</td>\n",
       "      <td>5.582648</td>\n",
       "      <td>16.000000</td>\n",
       "      <td>0.000000</td>\n",
       "      <td>0.000000</td>\n",
       "      <td>290.119811</td>\n",
       "      <td>66.588493</td>\n",
       "      <td>0.000000</td>\n",
       "      <td>0.000000</td>\n",
       "    </tr>\n",
       "    <tr>\n",
       "      <th>25%</th>\n",
       "      <td>3744.500000</td>\n",
       "      <td>23.000000</td>\n",
       "      <td>20.000000</td>\n",
       "      <td>94.056340</td>\n",
       "      <td>869.000000</td>\n",
       "      <td>4.000000</td>\n",
       "      <td>0.000000</td>\n",
       "      <td>2119.344818</td>\n",
       "      <td>779.009271</td>\n",
       "      <td>8.000000</td>\n",
       "      <td>6.000000</td>\n",
       "    </tr>\n",
       "    <tr>\n",
       "      <th>50%</th>\n",
       "      <td>7443.000000</td>\n",
       "      <td>56.000000</td>\n",
       "      <td>47.500000</td>\n",
       "      <td>177.255925</td>\n",
       "      <td>1650.500000</td>\n",
       "      <td>62.500000</td>\n",
       "      <td>10.000000</td>\n",
       "      <td>3421.156721</td>\n",
       "      <td>1414.966279</td>\n",
       "      <td>15.000000</td>\n",
       "      <td>12.000000</td>\n",
       "    </tr>\n",
       "    <tr>\n",
       "      <th>75%</th>\n",
       "      <td>11007.000000</td>\n",
       "      <td>112.250000</td>\n",
       "      <td>94.000000</td>\n",
       "      <td>266.058022</td>\n",
       "      <td>2508.750000</td>\n",
       "      <td>169.250000</td>\n",
       "      <td>43.000000</td>\n",
       "      <td>5166.097373</td>\n",
       "      <td>2443.955404</td>\n",
       "      <td>23.000000</td>\n",
       "      <td>18.000000</td>\n",
       "    </tr>\n",
       "    <tr>\n",
       "      <th>max</th>\n",
       "      <td>14993.000000</td>\n",
       "      <td>556.000000</td>\n",
       "      <td>445.000000</td>\n",
       "      <td>1076.879741</td>\n",
       "      <td>3498.000000</td>\n",
       "      <td>1096.000000</td>\n",
       "      <td>352.000000</td>\n",
       "      <td>15135.391280</td>\n",
       "      <td>9746.253023</td>\n",
       "      <td>31.000000</td>\n",
       "      <td>30.000000</td>\n",
       "    </tr>\n",
       "  </tbody>\n",
       "</table>\n",
       "</div>"
      ],
      "text/plain": [
       "                 ID    sessions      drives  total_sessions  \\\n",
       "count    700.000000  700.000000  700.000000      700.000000   \n",
       "mean    7405.584286   80.837143   67.798571      198.483348   \n",
       "std     4306.900234   79.987440   65.271926      140.561715   \n",
       "min       77.000000    0.000000    0.000000        5.582648   \n",
       "25%     3744.500000   23.000000   20.000000       94.056340   \n",
       "50%     7443.000000   56.000000   47.500000      177.255925   \n",
       "75%    11007.000000  112.250000   94.000000      266.058022   \n",
       "max    14993.000000  556.000000  445.000000     1076.879741   \n",
       "\n",
       "       n_days_after_onboarding  total_navigations_fav1  \\\n",
       "count               700.000000              700.000000   \n",
       "mean               1709.295714              118.717143   \n",
       "std                1005.306562              156.308140   \n",
       "min                  16.000000                0.000000   \n",
       "25%                 869.000000                4.000000   \n",
       "50%                1650.500000               62.500000   \n",
       "75%                2508.750000              169.250000   \n",
       "max                3498.000000             1096.000000   \n",
       "\n",
       "       total_navigations_fav2  driven_km_drives  duration_minutes_drives  \\\n",
       "count              700.000000        700.000000               700.000000   \n",
       "mean                30.371429       3935.967029              1795.123358   \n",
       "std                 46.306984       2443.107121              1419.242246   \n",
       "min                  0.000000        290.119811                66.588493   \n",
       "25%                  0.000000       2119.344818               779.009271   \n",
       "50%                 10.000000       3421.156721              1414.966279   \n",
       "75%                 43.000000       5166.097373              2443.955404   \n",
       "max                352.000000      15135.391280              9746.253023   \n",
       "\n",
       "       activity_days  driving_days  \n",
       "count     700.000000    700.000000  \n",
       "mean       15.382857     12.125714  \n",
       "std         8.772714      7.626373  \n",
       "min         0.000000      0.000000  \n",
       "25%         8.000000      6.000000  \n",
       "50%        15.000000     12.000000  \n",
       "75%        23.000000     18.000000  \n",
       "max        31.000000     30.000000  "
      ]
     },
     "execution_count": 180,
     "metadata": {},
     "output_type": "execute_result"
    }
   ],
   "source": [
    "df_waze_null.describe()"
   ]
  },
  {
   "cell_type": "markdown",
   "id": "403a3dcc-24a7-4191-97b3-b4aca10a804b",
   "metadata": {},
   "source": [
    "Comparison of observation where `label` value is missing with those that are not missing didn't reveal anything noteworthy. By this, we mean that means and standard deviations are very consistent across both groups."
   ]
  },
  {
   "cell_type": "markdown",
   "id": "e2fd3d5f-d42c-4668-be8b-eb6da972c24b",
   "metadata": {},
   "source": [
    "For qualitative variable `device` - we will calculate distributions for both group by using **value_counts()** method from *pandas*."
   ]
  },
  {
   "cell_type": "code",
   "execution_count": 181,
   "id": "9332ac20-071d-4bcd-a57f-66c82aef6ffa",
   "metadata": {},
   "outputs": [
    {
     "name": "stdout",
     "output_type": "stream",
     "text": [
      "device\n",
      "iPhone     9225\n",
      "Android    5074\n",
      "Name: count, dtype: int64\n",
      "device\n",
      "iPhone     0.64515\n",
      "Android    0.35485\n",
      "Name: proportion, dtype: float64\n"
     ]
    }
   ],
   "source": [
    "print(df_waze_not_null['device'].value_counts())\n",
    "print(df_waze_not_null['device'].value_counts(normalize = True))"
   ]
  },
  {
   "cell_type": "code",
   "execution_count": 182,
   "id": "e0be915f-94f4-4859-8ab6-e62d0079d9ea",
   "metadata": {},
   "outputs": [
    {
     "name": "stdout",
     "output_type": "stream",
     "text": [
      "device\n",
      "iPhone     447\n",
      "Android    253\n",
      "Name: count, dtype: int64\n",
      "device\n",
      "iPhone     0.638571\n",
      "Android    0.361429\n",
      "Name: proportion, dtype: float64\n"
     ]
    }
   ],
   "source": [
    "print(df_waze_null['device'].value_counts())\n",
    "print(df_waze_null['device'].value_counts(normalize = True))"
   ]
  },
  {
   "cell_type": "markdown",
   "id": "2b5ac060-aea8-4459-aa21-79b7bb49b3bb",
   "metadata": {},
   "source": [
    "Also there, we see that there is nothing unusual in those distributions. Both are very similar.\n",
    "\n",
    "There is nothing to suggest a non-random cause of the missing data in our dataset."
   ]
  },
  {
   "cell_type": "markdown",
   "id": "5695cc78-e4b0-4c63-b000-e2b40a20a55a",
   "metadata": {},
   "source": [
    "In next step, we want to check for distribution in our target variable - `label`. We will use a **value_counts()** method again, once for numbers, and once for percentages, with parameter *normalize = True*."
   ]
  },
  {
   "cell_type": "code",
   "execution_count": 183,
   "id": "132647a9-6538-4f8b-b7e7-23b4771e9bff",
   "metadata": {},
   "outputs": [
    {
     "name": "stdout",
     "output_type": "stream",
     "text": [
      "label\n",
      "retained    11763\n",
      "churned      2536\n",
      "Name: count, dtype: int64\n",
      "label\n",
      "retained    0.822645\n",
      "churned     0.177355\n",
      "Name: proportion, dtype: float64\n"
     ]
    }
   ],
   "source": [
    "print(df_waze_0[\"label\"].value_counts())\n",
    "print(df_waze_0[\"label\"].value_counts(normalize = True))"
   ]
  },
  {
   "cell_type": "markdown",
   "id": "6c049710-421b-4cea-9fa1-395c496f65ed",
   "metadata": {},
   "source": [
    "Our dataset contains over 80% of retained users."
   ]
  },
  {
   "cell_type": "markdown",
   "id": "7bc95e9a-fac4-48bc-b6a8-3c68f7abbdc2",
   "metadata": {},
   "source": [
    "Next, we will look for median values of numerical variables for retained and churned users of Waze app. We use median instead of mean because it is resistant for outliers. We will use **groupby()** and **median()** methods from *pandas* module. "
   ]
  },
  {
   "cell_type": "code",
   "execution_count": 184,
   "id": "e7745ed6-1e37-4781-b9ed-b93f829723a4",
   "metadata": {},
   "outputs": [
    {
     "data": {
      "text/html": [
       "<div>\n",
       "<style scoped>\n",
       "    .dataframe tbody tr th:only-of-type {\n",
       "        vertical-align: middle;\n",
       "    }\n",
       "\n",
       "    .dataframe tbody tr th {\n",
       "        vertical-align: top;\n",
       "    }\n",
       "\n",
       "    .dataframe thead th {\n",
       "        text-align: right;\n",
       "    }\n",
       "</style>\n",
       "<table border=\"1\" class=\"dataframe\">\n",
       "  <thead>\n",
       "    <tr style=\"text-align: right;\">\n",
       "      <th></th>\n",
       "      <th>ID</th>\n",
       "      <th>sessions</th>\n",
       "      <th>drives</th>\n",
       "      <th>total_sessions</th>\n",
       "      <th>n_days_after_onboarding</th>\n",
       "      <th>total_navigations_fav1</th>\n",
       "      <th>total_navigations_fav2</th>\n",
       "      <th>driven_km_drives</th>\n",
       "      <th>duration_minutes_drives</th>\n",
       "      <th>activity_days</th>\n",
       "      <th>driving_days</th>\n",
       "    </tr>\n",
       "    <tr>\n",
       "      <th>label</th>\n",
       "      <th></th>\n",
       "      <th></th>\n",
       "      <th></th>\n",
       "      <th></th>\n",
       "      <th></th>\n",
       "      <th></th>\n",
       "      <th></th>\n",
       "      <th></th>\n",
       "      <th></th>\n",
       "      <th></th>\n",
       "      <th></th>\n",
       "    </tr>\n",
       "  </thead>\n",
       "  <tbody>\n",
       "    <tr>\n",
       "      <th>churned</th>\n",
       "      <td>7477.5</td>\n",
       "      <td>59.0</td>\n",
       "      <td>50.0</td>\n",
       "      <td>164.339042</td>\n",
       "      <td>1321.0</td>\n",
       "      <td>84.5</td>\n",
       "      <td>11.0</td>\n",
       "      <td>3652.655666</td>\n",
       "      <td>1607.183785</td>\n",
       "      <td>8.0</td>\n",
       "      <td>6.0</td>\n",
       "    </tr>\n",
       "    <tr>\n",
       "      <th>retained</th>\n",
       "      <td>7509.0</td>\n",
       "      <td>56.0</td>\n",
       "      <td>47.0</td>\n",
       "      <td>157.586756</td>\n",
       "      <td>1843.0</td>\n",
       "      <td>68.0</td>\n",
       "      <td>9.0</td>\n",
       "      <td>3464.684614</td>\n",
       "      <td>1458.046141</td>\n",
       "      <td>17.0</td>\n",
       "      <td>14.0</td>\n",
       "    </tr>\n",
       "  </tbody>\n",
       "</table>\n",
       "</div>"
      ],
      "text/plain": [
       "              ID  sessions  drives  total_sessions  n_days_after_onboarding  \\\n",
       "label                                                                         \n",
       "churned   7477.5      59.0    50.0      164.339042                   1321.0   \n",
       "retained  7509.0      56.0    47.0      157.586756                   1843.0   \n",
       "\n",
       "          total_navigations_fav1  total_navigations_fav2  driven_km_drives  \\\n",
       "label                                                                        \n",
       "churned                     84.5                    11.0       3652.655666   \n",
       "retained                    68.0                     9.0       3464.684614   \n",
       "\n",
       "          duration_minutes_drives  activity_days  driving_days  \n",
       "label                                                           \n",
       "churned               1607.183785            8.0           6.0  \n",
       "retained              1458.046141           17.0          14.0  "
      ]
     },
     "execution_count": 184,
     "metadata": {},
     "output_type": "execute_result"
    }
   ],
   "source": [
    "df_waze_0.groupby(\"label\").median(numeric_only = True)"
   ]
  },
  {
   "cell_type": "markdown",
   "id": "8168d14b-ed8a-4616-be86-c067c28052d2",
   "metadata": {},
   "source": [
    "This comparison offers an interesting snapshot of the two groups, churned vs. retained:\n",
    "\n",
    "Users who churned averaged about 3 more drives per month, but they got an over 2 times lower activity on app, counted in days. They also have more than 2 times less driving days throughout whole month than retained users. However, despite this fact, churned users drived more kms. It seems that users who left the app were doing longer drives in shorter period of time. To confirm this, we will create another column `km_driven_per_drive` which will help us calculate median kilometers per drive in the last month for both retained and churned users."
   ]
  },
  {
   "cell_type": "code",
   "execution_count": 185,
   "id": "06e66570-2838-45a5-86f2-b414af93e1c0",
   "metadata": {},
   "outputs": [],
   "source": [
    "df_waze_0[\"km_driven_per_drive\"] = df_waze_0[\"driven_km_drives\"] / df_waze_0[\"drives\"]"
   ]
  },
  {
   "cell_type": "markdown",
   "id": "49b60ebf-92d1-48e8-976e-f22841c10beb",
   "metadata": {},
   "source": [
    "As we divide by `drives` column, we want to check whether this column contains some zeros, and therefore whether our new created column contains some infinity values (np.inf)."
   ]
  },
  {
   "cell_type": "code",
   "execution_count": 186,
   "id": "48bed88d-1b94-4338-8a75-eb3a02dffdc7",
   "metadata": {},
   "outputs": [
    {
     "data": {
      "text/html": [
       "<div>\n",
       "<style scoped>\n",
       "    .dataframe tbody tr th:only-of-type {\n",
       "        vertical-align: middle;\n",
       "    }\n",
       "\n",
       "    .dataframe tbody tr th {\n",
       "        vertical-align: top;\n",
       "    }\n",
       "\n",
       "    .dataframe thead th {\n",
       "        text-align: right;\n",
       "    }\n",
       "</style>\n",
       "<table border=\"1\" class=\"dataframe\">\n",
       "  <thead>\n",
       "    <tr style=\"text-align: right;\">\n",
       "      <th></th>\n",
       "      <th>ID</th>\n",
       "      <th>label</th>\n",
       "      <th>sessions</th>\n",
       "      <th>drives</th>\n",
       "      <th>total_sessions</th>\n",
       "      <th>n_days_after_onboarding</th>\n",
       "      <th>total_navigations_fav1</th>\n",
       "      <th>total_navigations_fav2</th>\n",
       "      <th>driven_km_drives</th>\n",
       "      <th>duration_minutes_drives</th>\n",
       "      <th>activity_days</th>\n",
       "      <th>driving_days</th>\n",
       "      <th>device</th>\n",
       "      <th>km_driven_per_drive</th>\n",
       "    </tr>\n",
       "  </thead>\n",
       "  <tbody>\n",
       "    <tr>\n",
       "      <th>25</th>\n",
       "      <td>25</td>\n",
       "      <td>retained</td>\n",
       "      <td>0</td>\n",
       "      <td>0</td>\n",
       "      <td>139.194969</td>\n",
       "      <td>2731</td>\n",
       "      <td>13</td>\n",
       "      <td>4</td>\n",
       "      <td>5702.339466</td>\n",
       "      <td>4582.737478</td>\n",
       "      <td>6</td>\n",
       "      <td>2</td>\n",
       "      <td>Android</td>\n",
       "      <td>inf</td>\n",
       "    </tr>\n",
       "    <tr>\n",
       "      <th>97</th>\n",
       "      <td>97</td>\n",
       "      <td>retained</td>\n",
       "      <td>0</td>\n",
       "      <td>0</td>\n",
       "      <td>559.547112</td>\n",
       "      <td>2879</td>\n",
       "      <td>0</td>\n",
       "      <td>0</td>\n",
       "      <td>6668.844350</td>\n",
       "      <td>3511.370419</td>\n",
       "      <td>28</td>\n",
       "      <td>24</td>\n",
       "      <td>Android</td>\n",
       "      <td>inf</td>\n",
       "    </tr>\n",
       "    <tr>\n",
       "      <th>217</th>\n",
       "      <td>217</td>\n",
       "      <td>retained</td>\n",
       "      <td>0</td>\n",
       "      <td>0</td>\n",
       "      <td>33.710210</td>\n",
       "      <td>629</td>\n",
       "      <td>160</td>\n",
       "      <td>0</td>\n",
       "      <td>6103.881670</td>\n",
       "      <td>1767.846528</td>\n",
       "      <td>8</td>\n",
       "      <td>2</td>\n",
       "      <td>iPhone</td>\n",
       "      <td>inf</td>\n",
       "    </tr>\n",
       "    <tr>\n",
       "      <th>339</th>\n",
       "      <td>339</td>\n",
       "      <td>retained</td>\n",
       "      <td>0</td>\n",
       "      <td>0</td>\n",
       "      <td>0.220211</td>\n",
       "      <td>347</td>\n",
       "      <td>130</td>\n",
       "      <td>0</td>\n",
       "      <td>2520.850896</td>\n",
       "      <td>1539.318152</td>\n",
       "      <td>20</td>\n",
       "      <td>15</td>\n",
       "      <td>iPhone</td>\n",
       "      <td>inf</td>\n",
       "    </tr>\n",
       "    <tr>\n",
       "      <th>485</th>\n",
       "      <td>485</td>\n",
       "      <td>NaN</td>\n",
       "      <td>0</td>\n",
       "      <td>0</td>\n",
       "      <td>90.747466</td>\n",
       "      <td>579</td>\n",
       "      <td>229</td>\n",
       "      <td>0</td>\n",
       "      <td>1363.206140</td>\n",
       "      <td>66.588493</td>\n",
       "      <td>15</td>\n",
       "      <td>11</td>\n",
       "      <td>iPhone</td>\n",
       "      <td>inf</td>\n",
       "    </tr>\n",
       "    <tr>\n",
       "      <th>...</th>\n",
       "      <td>...</td>\n",
       "      <td>...</td>\n",
       "      <td>...</td>\n",
       "      <td>...</td>\n",
       "      <td>...</td>\n",
       "      <td>...</td>\n",
       "      <td>...</td>\n",
       "      <td>...</td>\n",
       "      <td>...</td>\n",
       "      <td>...</td>\n",
       "      <td>...</td>\n",
       "      <td>...</td>\n",
       "      <td>...</td>\n",
       "      <td>...</td>\n",
       "    </tr>\n",
       "    <tr>\n",
       "      <th>14411</th>\n",
       "      <td>14411</td>\n",
       "      <td>retained</td>\n",
       "      <td>0</td>\n",
       "      <td>0</td>\n",
       "      <td>472.078785</td>\n",
       "      <td>1746</td>\n",
       "      <td>126</td>\n",
       "      <td>0</td>\n",
       "      <td>3148.136679</td>\n",
       "      <td>1685.365455</td>\n",
       "      <td>20</td>\n",
       "      <td>18</td>\n",
       "      <td>Android</td>\n",
       "      <td>inf</td>\n",
       "    </tr>\n",
       "    <tr>\n",
       "      <th>14549</th>\n",
       "      <td>14549</td>\n",
       "      <td>retained</td>\n",
       "      <td>0</td>\n",
       "      <td>0</td>\n",
       "      <td>96.781778</td>\n",
       "      <td>2732</td>\n",
       "      <td>425</td>\n",
       "      <td>16</td>\n",
       "      <td>1394.604767</td>\n",
       "      <td>573.591169</td>\n",
       "      <td>18</td>\n",
       "      <td>10</td>\n",
       "      <td>iPhone</td>\n",
       "      <td>inf</td>\n",
       "    </tr>\n",
       "    <tr>\n",
       "      <th>14562</th>\n",
       "      <td>14562</td>\n",
       "      <td>retained</td>\n",
       "      <td>0</td>\n",
       "      <td>0</td>\n",
       "      <td>20.067490</td>\n",
       "      <td>1355</td>\n",
       "      <td>83</td>\n",
       "      <td>98</td>\n",
       "      <td>1805.177261</td>\n",
       "      <td>271.398262</td>\n",
       "      <td>23</td>\n",
       "      <td>17</td>\n",
       "      <td>iPhone</td>\n",
       "      <td>inf</td>\n",
       "    </tr>\n",
       "    <tr>\n",
       "      <th>14668</th>\n",
       "      <td>14668</td>\n",
       "      <td>retained</td>\n",
       "      <td>0</td>\n",
       "      <td>0</td>\n",
       "      <td>5.626862</td>\n",
       "      <td>592</td>\n",
       "      <td>0</td>\n",
       "      <td>0</td>\n",
       "      <td>7959.247975</td>\n",
       "      <td>869.674910</td>\n",
       "      <td>13</td>\n",
       "      <td>9</td>\n",
       "      <td>Android</td>\n",
       "      <td>inf</td>\n",
       "    </tr>\n",
       "    <tr>\n",
       "      <th>14861</th>\n",
       "      <td>14861</td>\n",
       "      <td>retained</td>\n",
       "      <td>0</td>\n",
       "      <td>0</td>\n",
       "      <td>94.920955</td>\n",
       "      <td>3047</td>\n",
       "      <td>13</td>\n",
       "      <td>3</td>\n",
       "      <td>7924.880981</td>\n",
       "      <td>5294.748260</td>\n",
       "      <td>26</td>\n",
       "      <td>22</td>\n",
       "      <td>iPhone</td>\n",
       "      <td>inf</td>\n",
       "    </tr>\n",
       "  </tbody>\n",
       "</table>\n",
       "<p>106 rows × 14 columns</p>\n",
       "</div>"
      ],
      "text/plain": [
       "          ID     label  sessions  drives  total_sessions  \\\n",
       "25        25  retained         0       0      139.194969   \n",
       "97        97  retained         0       0      559.547112   \n",
       "217      217  retained         0       0       33.710210   \n",
       "339      339  retained         0       0        0.220211   \n",
       "485      485       NaN         0       0       90.747466   \n",
       "...      ...       ...       ...     ...             ...   \n",
       "14411  14411  retained         0       0      472.078785   \n",
       "14549  14549  retained         0       0       96.781778   \n",
       "14562  14562  retained         0       0       20.067490   \n",
       "14668  14668  retained         0       0        5.626862   \n",
       "14861  14861  retained         0       0       94.920955   \n",
       "\n",
       "       n_days_after_onboarding  total_navigations_fav1  \\\n",
       "25                        2731                      13   \n",
       "97                        2879                       0   \n",
       "217                        629                     160   \n",
       "339                        347                     130   \n",
       "485                        579                     229   \n",
       "...                        ...                     ...   \n",
       "14411                     1746                     126   \n",
       "14549                     2732                     425   \n",
       "14562                     1355                      83   \n",
       "14668                      592                       0   \n",
       "14861                     3047                      13   \n",
       "\n",
       "       total_navigations_fav2  driven_km_drives  duration_minutes_drives  \\\n",
       "25                          4       5702.339466              4582.737478   \n",
       "97                          0       6668.844350              3511.370419   \n",
       "217                         0       6103.881670              1767.846528   \n",
       "339                         0       2520.850896              1539.318152   \n",
       "485                         0       1363.206140                66.588493   \n",
       "...                       ...               ...                      ...   \n",
       "14411                       0       3148.136679              1685.365455   \n",
       "14549                      16       1394.604767               573.591169   \n",
       "14562                      98       1805.177261               271.398262   \n",
       "14668                       0       7959.247975               869.674910   \n",
       "14861                       3       7924.880981              5294.748260   \n",
       "\n",
       "       activity_days  driving_days   device  km_driven_per_drive  \n",
       "25                 6             2  Android                  inf  \n",
       "97                28            24  Android                  inf  \n",
       "217                8             2   iPhone                  inf  \n",
       "339               20            15   iPhone                  inf  \n",
       "485               15            11   iPhone                  inf  \n",
       "...              ...           ...      ...                  ...  \n",
       "14411             20            18  Android                  inf  \n",
       "14549             18            10   iPhone                  inf  \n",
       "14562             23            17   iPhone                  inf  \n",
       "14668             13             9  Android                  inf  \n",
       "14861             26            22   iPhone                  inf  \n",
       "\n",
       "[106 rows x 14 columns]"
      ]
     },
     "execution_count": 186,
     "metadata": {},
     "output_type": "execute_result"
    }
   ],
   "source": [
    "df_waze_0[ df_waze_0[\"km_driven_per_drive\"] == np.inf ]"
   ]
  },
  {
   "cell_type": "markdown",
   "id": "7eb80f16-7b36-40c5-9b6e-7883f643a5bd",
   "metadata": {},
   "source": [
    "As we see above, there are 106 np.inf values for our new column. We dont want them, so we assign those obsevations manually with zero value."
   ]
  },
  {
   "cell_type": "code",
   "execution_count": 187,
   "id": "1da45440-956f-4795-a94e-22ddef82a30b",
   "metadata": {
    "scrolled": true
   },
   "outputs": [],
   "source": [
    "df_waze_0[\"km_driven_per_drive\"] = df_waze_0[\"km_driven_per_drive\"].replace(np.inf, 0).fillna(0)"
   ]
  },
  {
   "cell_type": "code",
   "execution_count": 188,
   "id": "feff9fce-5856-4a91-8353-f2a523550dc5",
   "metadata": {},
   "outputs": [
    {
     "data": {
      "text/html": [
       "<div>\n",
       "<style scoped>\n",
       "    .dataframe tbody tr th:only-of-type {\n",
       "        vertical-align: middle;\n",
       "    }\n",
       "\n",
       "    .dataframe tbody tr th {\n",
       "        vertical-align: top;\n",
       "    }\n",
       "\n",
       "    .dataframe thead th {\n",
       "        text-align: right;\n",
       "    }\n",
       "</style>\n",
       "<table border=\"1\" class=\"dataframe\">\n",
       "  <thead>\n",
       "    <tr style=\"text-align: right;\">\n",
       "      <th></th>\n",
       "      <th>ID</th>\n",
       "      <th>label</th>\n",
       "      <th>sessions</th>\n",
       "      <th>drives</th>\n",
       "      <th>total_sessions</th>\n",
       "      <th>n_days_after_onboarding</th>\n",
       "      <th>total_navigations_fav1</th>\n",
       "      <th>total_navigations_fav2</th>\n",
       "      <th>driven_km_drives</th>\n",
       "      <th>duration_minutes_drives</th>\n",
       "      <th>activity_days</th>\n",
       "      <th>driving_days</th>\n",
       "      <th>device</th>\n",
       "      <th>km_driven_per_drive</th>\n",
       "    </tr>\n",
       "  </thead>\n",
       "  <tbody>\n",
       "  </tbody>\n",
       "</table>\n",
       "</div>"
      ],
      "text/plain": [
       "Empty DataFrame\n",
       "Columns: [ID, label, sessions, drives, total_sessions, n_days_after_onboarding, total_navigations_fav1, total_navigations_fav2, driven_km_drives, duration_minutes_drives, activity_days, driving_days, device, km_driven_per_drive]\n",
       "Index: []"
      ]
     },
     "execution_count": 188,
     "metadata": {},
     "output_type": "execute_result"
    }
   ],
   "source": [
    "df_waze_0[ df_waze_0[\"km_driven_per_drive\"] == np.inf ]"
   ]
  },
  {
   "cell_type": "markdown",
   "id": "21976352-15a1-4b70-9ea8-4f978610dd42",
   "metadata": {},
   "source": [
    "As we checked above, our operation was succeed. We can now calculate median values."
   ]
  },
  {
   "cell_type": "code",
   "execution_count": 189,
   "id": "23505248-ee22-4c8e-88b7-151a6a6c4678",
   "metadata": {
    "scrolled": true
   },
   "outputs": [
    {
     "data": {
      "text/html": [
       "<div>\n",
       "<style scoped>\n",
       "    .dataframe tbody tr th:only-of-type {\n",
       "        vertical-align: middle;\n",
       "    }\n",
       "\n",
       "    .dataframe tbody tr th {\n",
       "        vertical-align: top;\n",
       "    }\n",
       "\n",
       "    .dataframe thead th {\n",
       "        text-align: right;\n",
       "    }\n",
       "</style>\n",
       "<table border=\"1\" class=\"dataframe\">\n",
       "  <thead>\n",
       "    <tr style=\"text-align: right;\">\n",
       "      <th></th>\n",
       "      <th>km_driven_per_drive</th>\n",
       "    </tr>\n",
       "    <tr>\n",
       "      <th>label</th>\n",
       "      <th></th>\n",
       "    </tr>\n",
       "  </thead>\n",
       "  <tbody>\n",
       "    <tr>\n",
       "      <th>churned</th>\n",
       "      <td>72.771939</td>\n",
       "    </tr>\n",
       "    <tr>\n",
       "      <th>retained</th>\n",
       "      <td>73.006576</td>\n",
       "    </tr>\n",
       "  </tbody>\n",
       "</table>\n",
       "</div>"
      ],
      "text/plain": [
       "          km_driven_per_drive\n",
       "label                        \n",
       "churned             72.771939\n",
       "retained            73.006576"
      ]
     },
     "execution_count": 189,
     "metadata": {},
     "output_type": "execute_result"
    }
   ],
   "source": [
    "df_waze_0[[\"km_driven_per_drive\", \"label\"]].groupby(\"label\").median()"
   ]
  },
  {
   "cell_type": "markdown",
   "id": "851eeb6a-b145-42c6-9190-570f8f3c3075",
   "metadata": {},
   "source": [
    "The users who are more loyal to our app have averaged almost one more km per drive than churned users."
   ]
  },
  {
   "cell_type": "markdown",
   "id": "a38afe08-7a5c-47d8-a106-f40c02c4794d",
   "metadata": {},
   "source": [
    "We will also try the same thing, just investigating number of kms per driving days instead of particular drives."
   ]
  },
  {
   "cell_type": "code",
   "execution_count": 190,
   "id": "162e8967-b747-471e-9597-0f9e1fb9afe7",
   "metadata": {},
   "outputs": [],
   "source": [
    "df_waze_0[\"km_driven_per_driving_day\"] = df_waze_0[\"driven_km_drives\"] / df_waze_0[\"driving_days\"]"
   ]
  },
  {
   "cell_type": "code",
   "execution_count": 191,
   "id": "bc488347-2680-469b-92e3-1ff8282b6ffd",
   "metadata": {},
   "outputs": [],
   "source": [
    "df_waze_0[\"km_driven_per_driving_day\"] = df_waze_0[\"km_driven_per_driving_day\"].replace(np.inf, 0).fillna(0)"
   ]
  },
  {
   "cell_type": "code",
   "execution_count": 192,
   "id": "c5c19f60-85fd-47bb-a316-e14312b47898",
   "metadata": {},
   "outputs": [
    {
     "data": {
      "text/html": [
       "<div>\n",
       "<style scoped>\n",
       "    .dataframe tbody tr th:only-of-type {\n",
       "        vertical-align: middle;\n",
       "    }\n",
       "\n",
       "    .dataframe tbody tr th {\n",
       "        vertical-align: top;\n",
       "    }\n",
       "\n",
       "    .dataframe thead th {\n",
       "        text-align: right;\n",
       "    }\n",
       "</style>\n",
       "<table border=\"1\" class=\"dataframe\">\n",
       "  <thead>\n",
       "    <tr style=\"text-align: right;\">\n",
       "      <th></th>\n",
       "      <th>km_driven_per_driving_day</th>\n",
       "    </tr>\n",
       "    <tr>\n",
       "      <th>label</th>\n",
       "      <th></th>\n",
       "    </tr>\n",
       "  </thead>\n",
       "  <tbody>\n",
       "    <tr>\n",
       "      <th>churned</th>\n",
       "      <td>407.597934</td>\n",
       "    </tr>\n",
       "    <tr>\n",
       "      <th>retained</th>\n",
       "      <td>256.056187</td>\n",
       "    </tr>\n",
       "  </tbody>\n",
       "</table>\n",
       "</div>"
      ],
      "text/plain": [
       "          km_driven_per_driving_day\n",
       "label                              \n",
       "churned                  407.597934\n",
       "retained                 256.056187"
      ]
     },
     "execution_count": 192,
     "metadata": {},
     "output_type": "execute_result"
    }
   ],
   "source": [
    "df_waze_0[[\"km_driven_per_driving_day\", \"label\"]].groupby(\"label\").median()"
   ]
  },
  {
   "cell_type": "markdown",
   "id": "0dc99a16-d1b7-4aa0-b9c1-235d91eac850",
   "metadata": {},
   "source": [
    "We also check the ratio of amount of drives for each driving day for our studied groups:"
   ]
  },
  {
   "cell_type": "code",
   "execution_count": 254,
   "id": "d62ee850-6b7a-4854-8a4d-638e02623b2b",
   "metadata": {},
   "outputs": [
    {
     "data": {
      "text/html": [
       "<div>\n",
       "<style scoped>\n",
       "    .dataframe tbody tr th:only-of-type {\n",
       "        vertical-align: middle;\n",
       "    }\n",
       "\n",
       "    .dataframe tbody tr th {\n",
       "        vertical-align: top;\n",
       "    }\n",
       "\n",
       "    .dataframe thead th {\n",
       "        text-align: right;\n",
       "    }\n",
       "</style>\n",
       "<table border=\"1\" class=\"dataframe\">\n",
       "  <thead>\n",
       "    <tr style=\"text-align: right;\">\n",
       "      <th></th>\n",
       "      <th>drives_per_driving_day</th>\n",
       "    </tr>\n",
       "    <tr>\n",
       "      <th>label</th>\n",
       "      <th></th>\n",
       "    </tr>\n",
       "  </thead>\n",
       "  <tbody>\n",
       "    <tr>\n",
       "      <th>churned</th>\n",
       "      <td>5.483333</td>\n",
       "    </tr>\n",
       "    <tr>\n",
       "      <th>retained</th>\n",
       "      <td>3.470588</td>\n",
       "    </tr>\n",
       "  </tbody>\n",
       "</table>\n",
       "</div>"
      ],
      "text/plain": [
       "          drives_per_driving_day\n",
       "label                           \n",
       "churned                 5.483333\n",
       "retained                3.470588"
      ]
     },
     "execution_count": 254,
     "metadata": {},
     "output_type": "execute_result"
    }
   ],
   "source": [
    "df_waze_0[\"drives_per_driving_day\"] = df_waze_0[\"drives\"] / df_waze_0[\"driving_days\"]\n",
    "df_waze_0[\"drives_per_driving_day\"] = df_waze_0[\"drives_per_driving_day\"].replace(np.inf, 0).fillna(0)\n",
    "df_waze_0[[\"drives_per_driving_day\", \"label\"]].groupby(\"label\").median()"
   ]
  },
  {
   "cell_type": "markdown",
   "id": "0b28db6d-1dd1-40fe-aedb-82658e93fc52",
   "metadata": {},
   "source": [
    "The median user who churned drove 698 kilometers each day. They drove last month almost 2.5 times(!) more than retained users per driving day. What's more, we see that those users also have more drives per each day, with very similar proportion (240%-250% more) comparing to retained users group. \n",
    "<br>\n",
    "It is more than clear that all users, no matter whether they churned or not, are driving a lot. With almost 300kms and 700kms per each group, it is safe to assume that those numbers does not represent casual drivers. It is really likely that our dataset represents some kind of proffesional drivers. It would be good idea to recommend gather more data on those super drivers. Maybe the reason why they drive so much is also the reason why they leave our app more often, because it does not meet their specific needs which could differ from more casual drivers. "
   ]
  },
  {
   "cell_type": "markdown",
   "id": "e09fed2c-394c-404a-8770-ee430ba1d9ab",
   "metadata": {},
   "source": [
    "Also, we want to check whether there is any relationship between churn and our only qualitative explanatory variable."
   ]
  },
  {
   "cell_type": "code",
   "execution_count": 194,
   "id": "1858192b-13e5-4651-8738-5c88ec1115ad",
   "metadata": {},
   "outputs": [
    {
     "data": {
      "text/plain": [
       "label     device \n",
       "churned   iPhone     1645\n",
       "          Android     891\n",
       "retained  iPhone     7580\n",
       "          Android    4183\n",
       "Name: count, dtype: int64"
      ]
     },
     "execution_count": 194,
     "metadata": {},
     "output_type": "execute_result"
    }
   ],
   "source": [
    "df_waze_0.groupby(\"label\")[\"device\"].value_counts()"
   ]
  },
  {
   "cell_type": "code",
   "execution_count": 195,
   "id": "4f486852-a307-49aa-862e-5099095b8281",
   "metadata": {},
   "outputs": [
    {
     "data": {
      "text/plain": [
       "label     device \n",
       "churned   iPhone     0.648659\n",
       "          Android    0.351341\n",
       "retained  iPhone     0.644393\n",
       "          Android    0.355607\n",
       "Name: proportion, dtype: float64"
      ]
     },
     "execution_count": 195,
     "metadata": {},
     "output_type": "execute_result"
    }
   ],
   "source": [
    "df_waze_0.groupby(\"label\")[\"device\"].value_counts(normalize = True)"
   ]
  },
  {
   "cell_type": "markdown",
   "id": "8994c482-fb7c-4660-97f2-3c47c0161b6b",
   "metadata": {},
   "source": [
    "The ratio between iPhone and Android users is very consistent between churned group and those who retained with our app."
   ]
  },
  {
   "cell_type": "markdown",
   "id": "4e937b10-f0f7-4fd9-b220-07571d2c02da",
   "metadata": {},
   "source": [
    "## <center>  2. Cleaning and pre-processing data to prepare it for further analysis   </center>\n"
   ]
  },
  {
   "cell_type": "markdown",
   "id": "0c2978ca-bb84-4b88-a02d-2f32f8d633ce",
   "metadata": {},
   "source": [
    "Given our scenario, we will choose which columns are most applicable. Since we are interested in user churn, the `label` column is necessary. Beside that, we will recognize all columns related to any kind of user behavior as applicable to our task. The only column that does not provide useful information is `ID` as we do not want to identificate particular users. Therefore, we will drop this column."
   ]
  },
  {
   "cell_type": "code",
   "execution_count": 196,
   "id": "d8fe28c3-e059-4a36-b9ff-cc91b3dd7492",
   "metadata": {},
   "outputs": [],
   "source": [
    "df_waze_0 = df_waze_0.drop(\"ID\", axis = 1)"
   ]
  },
  {
   "cell_type": "code",
   "execution_count": 197,
   "id": "410caa2c-25f1-47e0-9b9d-87be62e0d8a8",
   "metadata": {},
   "outputs": [
    {
     "data": {
      "text/html": [
       "<div>\n",
       "<style scoped>\n",
       "    .dataframe tbody tr th:only-of-type {\n",
       "        vertical-align: middle;\n",
       "    }\n",
       "\n",
       "    .dataframe tbody tr th {\n",
       "        vertical-align: top;\n",
       "    }\n",
       "\n",
       "    .dataframe thead th {\n",
       "        text-align: right;\n",
       "    }\n",
       "</style>\n",
       "<table border=\"1\" class=\"dataframe\">\n",
       "  <thead>\n",
       "    <tr style=\"text-align: right;\">\n",
       "      <th></th>\n",
       "      <th>label</th>\n",
       "      <th>sessions</th>\n",
       "      <th>drives</th>\n",
       "      <th>total_sessions</th>\n",
       "      <th>n_days_after_onboarding</th>\n",
       "      <th>total_navigations_fav1</th>\n",
       "      <th>total_navigations_fav2</th>\n",
       "      <th>driven_km_drives</th>\n",
       "      <th>duration_minutes_drives</th>\n",
       "      <th>activity_days</th>\n",
       "      <th>driving_days</th>\n",
       "      <th>device</th>\n",
       "      <th>km_driven_per_drive</th>\n",
       "      <th>km_driven_per_driving_day</th>\n",
       "      <th>drives_per_driving_day</th>\n",
       "    </tr>\n",
       "  </thead>\n",
       "  <tbody>\n",
       "    <tr>\n",
       "      <th>0</th>\n",
       "      <td>retained</td>\n",
       "      <td>283</td>\n",
       "      <td>226</td>\n",
       "      <td>296.748273</td>\n",
       "      <td>2276</td>\n",
       "      <td>208</td>\n",
       "      <td>0</td>\n",
       "      <td>2628.845068</td>\n",
       "      <td>1985.775061</td>\n",
       "      <td>28</td>\n",
       "      <td>19</td>\n",
       "      <td>Android</td>\n",
       "      <td>11.632058</td>\n",
       "      <td>138.360267</td>\n",
       "      <td>11.894737</td>\n",
       "    </tr>\n",
       "    <tr>\n",
       "      <th>1</th>\n",
       "      <td>retained</td>\n",
       "      <td>133</td>\n",
       "      <td>107</td>\n",
       "      <td>326.896596</td>\n",
       "      <td>1225</td>\n",
       "      <td>19</td>\n",
       "      <td>64</td>\n",
       "      <td>13715.920550</td>\n",
       "      <td>3160.472914</td>\n",
       "      <td>13</td>\n",
       "      <td>11</td>\n",
       "      <td>iPhone</td>\n",
       "      <td>128.186173</td>\n",
       "      <td>1246.901868</td>\n",
       "      <td>9.727273</td>\n",
       "    </tr>\n",
       "    <tr>\n",
       "      <th>2</th>\n",
       "      <td>retained</td>\n",
       "      <td>114</td>\n",
       "      <td>95</td>\n",
       "      <td>135.522926</td>\n",
       "      <td>2651</td>\n",
       "      <td>0</td>\n",
       "      <td>0</td>\n",
       "      <td>3059.148818</td>\n",
       "      <td>1610.735904</td>\n",
       "      <td>14</td>\n",
       "      <td>8</td>\n",
       "      <td>Android</td>\n",
       "      <td>32.201567</td>\n",
       "      <td>382.393602</td>\n",
       "      <td>11.875000</td>\n",
       "    </tr>\n",
       "    <tr>\n",
       "      <th>3</th>\n",
       "      <td>retained</td>\n",
       "      <td>49</td>\n",
       "      <td>40</td>\n",
       "      <td>67.589221</td>\n",
       "      <td>15</td>\n",
       "      <td>322</td>\n",
       "      <td>7</td>\n",
       "      <td>913.591123</td>\n",
       "      <td>587.196542</td>\n",
       "      <td>7</td>\n",
       "      <td>3</td>\n",
       "      <td>iPhone</td>\n",
       "      <td>22.839778</td>\n",
       "      <td>304.530374</td>\n",
       "      <td>13.333333</td>\n",
       "    </tr>\n",
       "    <tr>\n",
       "      <th>4</th>\n",
       "      <td>retained</td>\n",
       "      <td>84</td>\n",
       "      <td>68</td>\n",
       "      <td>168.247020</td>\n",
       "      <td>1562</td>\n",
       "      <td>166</td>\n",
       "      <td>5</td>\n",
       "      <td>3950.202008</td>\n",
       "      <td>1219.555924</td>\n",
       "      <td>27</td>\n",
       "      <td>18</td>\n",
       "      <td>Android</td>\n",
       "      <td>58.091206</td>\n",
       "      <td>219.455667</td>\n",
       "      <td>3.777778</td>\n",
       "    </tr>\n",
       "  </tbody>\n",
       "</table>\n",
       "</div>"
      ],
      "text/plain": [
       "      label  sessions  drives  total_sessions  n_days_after_onboarding  \\\n",
       "0  retained       283     226      296.748273                     2276   \n",
       "1  retained       133     107      326.896596                     1225   \n",
       "2  retained       114      95      135.522926                     2651   \n",
       "3  retained        49      40       67.589221                       15   \n",
       "4  retained        84      68      168.247020                     1562   \n",
       "\n",
       "   total_navigations_fav1  total_navigations_fav2  driven_km_drives  \\\n",
       "0                     208                       0       2628.845068   \n",
       "1                      19                      64      13715.920550   \n",
       "2                       0                       0       3059.148818   \n",
       "3                     322                       7        913.591123   \n",
       "4                     166                       5       3950.202008   \n",
       "\n",
       "   duration_minutes_drives  activity_days  driving_days   device  \\\n",
       "0              1985.775061             28            19  Android   \n",
       "1              3160.472914             13            11   iPhone   \n",
       "2              1610.735904             14             8  Android   \n",
       "3               587.196542              7             3   iPhone   \n",
       "4              1219.555924             27            18  Android   \n",
       "\n",
       "   km_driven_per_drive  km_driven_per_driving_day  drives_per_driving_day  \n",
       "0            11.632058                 138.360267               11.894737  \n",
       "1           128.186173                1246.901868                9.727273  \n",
       "2            32.201567                 382.393602               11.875000  \n",
       "3            22.839778                 304.530374               13.333333  \n",
       "4            58.091206                 219.455667                3.777778  "
      ]
     },
     "execution_count": 197,
     "metadata": {},
     "output_type": "execute_result"
    }
   ],
   "source": [
    "df_waze_0.head()"
   ]
  },
  {
   "cell_type": "markdown",
   "id": "62309020-f69d-4bf3-a254-612a16abcb5b",
   "metadata": {},
   "source": [
    "Next step will include handling with outliers. To identify them, we will use mean and median values as well as boxplots which will provide us visual representation of potential outliers. "
   ]
  },
  {
   "cell_type": "code",
   "execution_count": 198,
   "id": "5f90970f-04fc-462d-bd8c-7d2ea49cbee9",
   "metadata": {},
   "outputs": [
    {
     "data": {
      "text/html": [
       "<div>\n",
       "<style scoped>\n",
       "    .dataframe tbody tr th:only-of-type {\n",
       "        vertical-align: middle;\n",
       "    }\n",
       "\n",
       "    .dataframe tbody tr th {\n",
       "        vertical-align: top;\n",
       "    }\n",
       "\n",
       "    .dataframe thead th {\n",
       "        text-align: right;\n",
       "    }\n",
       "</style>\n",
       "<table border=\"1\" class=\"dataframe\">\n",
       "  <thead>\n",
       "    <tr style=\"text-align: right;\">\n",
       "      <th></th>\n",
       "      <th>sessions</th>\n",
       "      <th>drives</th>\n",
       "      <th>total_sessions</th>\n",
       "      <th>n_days_after_onboarding</th>\n",
       "      <th>total_navigations_fav1</th>\n",
       "      <th>total_navigations_fav2</th>\n",
       "      <th>driven_km_drives</th>\n",
       "      <th>duration_minutes_drives</th>\n",
       "      <th>activity_days</th>\n",
       "      <th>driving_days</th>\n",
       "      <th>km_driven_per_drive</th>\n",
       "      <th>km_driven_per_driving_day</th>\n",
       "      <th>drives_per_driving_day</th>\n",
       "    </tr>\n",
       "  </thead>\n",
       "  <tbody>\n",
       "    <tr>\n",
       "      <th>count</th>\n",
       "      <td>14999.000000</td>\n",
       "      <td>14999.000000</td>\n",
       "      <td>14999.000000</td>\n",
       "      <td>14999.000000</td>\n",
       "      <td>14999.000000</td>\n",
       "      <td>14999.000000</td>\n",
       "      <td>14999.000000</td>\n",
       "      <td>14999.000000</td>\n",
       "      <td>14999.000000</td>\n",
       "      <td>14999.000000</td>\n",
       "      <td>14999.000000</td>\n",
       "      <td>14999.000000</td>\n",
       "      <td>14992.000000</td>\n",
       "    </tr>\n",
       "    <tr>\n",
       "      <th>mean</th>\n",
       "      <td>80.633776</td>\n",
       "      <td>67.281152</td>\n",
       "      <td>189.964447</td>\n",
       "      <td>1749.837789</td>\n",
       "      <td>121.605974</td>\n",
       "      <td>29.672512</td>\n",
       "      <td>4039.340921</td>\n",
       "      <td>1860.976012</td>\n",
       "      <td>15.537102</td>\n",
       "      <td>12.179879</td>\n",
       "      <td>232.817946</td>\n",
       "      <td>578.963113</td>\n",
       "      <td>9.387368</td>\n",
       "    </tr>\n",
       "    <tr>\n",
       "      <th>std</th>\n",
       "      <td>80.699065</td>\n",
       "      <td>65.913872</td>\n",
       "      <td>136.405128</td>\n",
       "      <td>1008.513876</td>\n",
       "      <td>148.121544</td>\n",
       "      <td>45.394651</td>\n",
       "      <td>2502.149334</td>\n",
       "      <td>1446.702288</td>\n",
       "      <td>9.004655</td>\n",
       "      <td>7.824036</td>\n",
       "      <td>620.622351</td>\n",
       "      <td>1030.094384</td>\n",
       "      <td>19.826097</td>\n",
       "    </tr>\n",
       "    <tr>\n",
       "      <th>min</th>\n",
       "      <td>0.000000</td>\n",
       "      <td>0.000000</td>\n",
       "      <td>0.220211</td>\n",
       "      <td>4.000000</td>\n",
       "      <td>0.000000</td>\n",
       "      <td>0.000000</td>\n",
       "      <td>60.441250</td>\n",
       "      <td>18.282082</td>\n",
       "      <td>0.000000</td>\n",
       "      <td>0.000000</td>\n",
       "      <td>0.000000</td>\n",
       "      <td>0.000000</td>\n",
       "      <td>0.000000</td>\n",
       "    </tr>\n",
       "    <tr>\n",
       "      <th>25%</th>\n",
       "      <td>23.000000</td>\n",
       "      <td>20.000000</td>\n",
       "      <td>90.661156</td>\n",
       "      <td>878.000000</td>\n",
       "      <td>9.000000</td>\n",
       "      <td>0.000000</td>\n",
       "      <td>2212.600607</td>\n",
       "      <td>835.996260</td>\n",
       "      <td>8.000000</td>\n",
       "      <td>5.000000</td>\n",
       "      <td>32.424301</td>\n",
       "      <td>136.238895</td>\n",
       "      <td>1.250000</td>\n",
       "    </tr>\n",
       "    <tr>\n",
       "      <th>50%</th>\n",
       "      <td>56.000000</td>\n",
       "      <td>48.000000</td>\n",
       "      <td>159.568115</td>\n",
       "      <td>1741.000000</td>\n",
       "      <td>71.000000</td>\n",
       "      <td>9.000000</td>\n",
       "      <td>3493.858085</td>\n",
       "      <td>1478.249859</td>\n",
       "      <td>16.000000</td>\n",
       "      <td>12.000000</td>\n",
       "      <td>72.854343</td>\n",
       "      <td>272.889272</td>\n",
       "      <td>3.666667</td>\n",
       "    </tr>\n",
       "    <tr>\n",
       "      <th>75%</th>\n",
       "      <td>112.000000</td>\n",
       "      <td>93.000000</td>\n",
       "      <td>254.192341</td>\n",
       "      <td>2623.500000</td>\n",
       "      <td>178.000000</td>\n",
       "      <td>43.000000</td>\n",
       "      <td>5289.861262</td>\n",
       "      <td>2464.362632</td>\n",
       "      <td>23.000000</td>\n",
       "      <td>19.000000</td>\n",
       "      <td>179.347527</td>\n",
       "      <td>558.686918</td>\n",
       "      <td>9.000000</td>\n",
       "    </tr>\n",
       "    <tr>\n",
       "      <th>max</th>\n",
       "      <td>743.000000</td>\n",
       "      <td>596.000000</td>\n",
       "      <td>1216.154633</td>\n",
       "      <td>3500.000000</td>\n",
       "      <td>1236.000000</td>\n",
       "      <td>415.000000</td>\n",
       "      <td>21183.401890</td>\n",
       "      <td>15851.727160</td>\n",
       "      <td>31.000000</td>\n",
       "      <td>30.000000</td>\n",
       "      <td>15777.426560</td>\n",
       "      <td>15420.234110</td>\n",
       "      <td>395.000000</td>\n",
       "    </tr>\n",
       "  </tbody>\n",
       "</table>\n",
       "</div>"
      ],
      "text/plain": [
       "           sessions        drives  total_sessions  n_days_after_onboarding  \\\n",
       "count  14999.000000  14999.000000    14999.000000             14999.000000   \n",
       "mean      80.633776     67.281152      189.964447              1749.837789   \n",
       "std       80.699065     65.913872      136.405128              1008.513876   \n",
       "min        0.000000      0.000000        0.220211                 4.000000   \n",
       "25%       23.000000     20.000000       90.661156               878.000000   \n",
       "50%       56.000000     48.000000      159.568115              1741.000000   \n",
       "75%      112.000000     93.000000      254.192341              2623.500000   \n",
       "max      743.000000    596.000000     1216.154633              3500.000000   \n",
       "\n",
       "       total_navigations_fav1  total_navigations_fav2  driven_km_drives  \\\n",
       "count            14999.000000            14999.000000      14999.000000   \n",
       "mean               121.605974               29.672512       4039.340921   \n",
       "std                148.121544               45.394651       2502.149334   \n",
       "min                  0.000000                0.000000         60.441250   \n",
       "25%                  9.000000                0.000000       2212.600607   \n",
       "50%                 71.000000                9.000000       3493.858085   \n",
       "75%                178.000000               43.000000       5289.861262   \n",
       "max               1236.000000              415.000000      21183.401890   \n",
       "\n",
       "       duration_minutes_drives  activity_days  driving_days  \\\n",
       "count             14999.000000   14999.000000  14999.000000   \n",
       "mean               1860.976012      15.537102     12.179879   \n",
       "std                1446.702288       9.004655      7.824036   \n",
       "min                  18.282082       0.000000      0.000000   \n",
       "25%                 835.996260       8.000000      5.000000   \n",
       "50%                1478.249859      16.000000     12.000000   \n",
       "75%                2464.362632      23.000000     19.000000   \n",
       "max               15851.727160      31.000000     30.000000   \n",
       "\n",
       "       km_driven_per_drive  km_driven_per_driving_day  drives_per_driving_day  \n",
       "count         14999.000000               14999.000000            14992.000000  \n",
       "mean            232.817946                 578.963113                9.387368  \n",
       "std             620.622351                1030.094384               19.826097  \n",
       "min               0.000000                   0.000000                0.000000  \n",
       "25%              32.424301                 136.238895                1.250000  \n",
       "50%              72.854343                 272.889272                3.666667  \n",
       "75%             179.347527                 558.686918                9.000000  \n",
       "max           15777.426560               15420.234110              395.000000  "
      ]
     },
     "execution_count": 198,
     "metadata": {},
     "output_type": "execute_result"
    }
   ],
   "source": [
    "df_waze_0.describe()"
   ]
  },
  {
   "cell_type": "markdown",
   "id": "e03d7317-7329-4143-8ca3-1dea4ea95c58",
   "metadata": {},
   "source": [
    "In seaborn library, there is an option to turn on another theme by **sns.set()** instruction. It is different from default matplotlib.pyplot theme, if we wanted to return to this default option, we should execute **sns.reset_orig()** command."
   ]
  },
  {
   "cell_type": "code",
   "execution_count": 199,
   "id": "1350e0ac-6c60-4378-a189-66333b8aa7a4",
   "metadata": {},
   "outputs": [],
   "source": [
    "sns.set()\n",
    "#sns.reset_orig()"
   ]
  },
  {
   "cell_type": "code",
   "execution_count": 200,
   "id": "9977eecf-9efe-40ea-83a7-13246632d7da",
   "metadata": {
    "scrolled": true
   },
   "outputs": [],
   "source": [
    "# example plot\n",
    "\n",
    "# fig, ax = plt.subplots(figsize = (6,1.5))\n",
    "# sns.boxplot(x = df_waze_0[\"sessions\"], ax = ax)\n",
    "# plt.show()"
   ]
  },
  {
   "cell_type": "code",
   "execution_count": 201,
   "id": "f3ad4ee9-5c96-4874-9459-ef5809221a1f",
   "metadata": {
    "scrolled": true
   },
   "outputs": [],
   "source": [
    "# function for plotting boxplot in plt\n",
    "\n",
    "# def boxplot_plt(col_arg, figsize_arg = None):\n",
    "#    # fig, ax = plt.subplots(figsize = (6,1.5))\n",
    "\n",
    "#     if figsize_arg == None:\n",
    "#         fig, ax = plt.subplots()\n",
    "#     else:\n",
    "#         fig, ax = plt.subplots(figsize = figsize_arg)\n",
    "#     ax = plt.boxplot( col_arg, orientation = 'horizontal', widths = 0.5)\n",
    "#     plt.show()\n",
    "\n",
    "# boxplot_plt( col_arg = df_waze_0[\"sessions\"], figsize_arg = (6,2))"
   ]
  },
  {
   "cell_type": "markdown",
   "id": "07e67749-4e75-4d8c-9400-2dfaca7308cc",
   "metadata": {},
   "source": [
    "## Analysis of boxplots"
   ]
  },
  {
   "cell_type": "markdown",
   "id": "1014c95d-8ad4-4860-aa91-4f177e29337d",
   "metadata": {},
   "source": [
    "Below, we define our custom function to plot a boxplot for certain numerical variable given by user. User can also modify size of plotted figure by entering a two-value tuple as a second argument."
   ]
  },
  {
   "cell_type": "code",
   "execution_count": 202,
   "id": "2ccd377f-40f8-46f6-bed5-79fe94d85579",
   "metadata": {},
   "outputs": [],
   "source": [
    "import pandas.api.types as ptypes"
   ]
  },
  {
   "cell_type": "code",
   "execution_count": 203,
   "id": "41b9478d-92e9-47fa-99f0-904da908b5fd",
   "metadata": {},
   "outputs": [],
   "source": [
    "def boxplot_sns(df_name_arg, col_arg, figsize_arg = None, **kwargs):   # **kwargs = any keyword arguments for sns.boxtplot() function\n",
    "\n",
    "    if not isinstance(df_name_arg, pd.DataFrame):\n",
    "        print(\"Please enter dataframe as first argument!\")\n",
    "        return\n",
    "\n",
    "    if col_arg not in df_name_arg.columns:\n",
    "        print(\"Please enter valid column name!\")\n",
    "        return\n",
    "    \n",
    "    if not ptypes.is_numeric_dtype(df_name_arg[col_arg]) :\n",
    "        print(\"Please enter numeric column as second argument!\")\n",
    "        return   # end function\n",
    "\n",
    "    if not (isinstance(figsize_arg, tuple) or isinstance(figsize_arg, list)):\n",
    "        print(\"Please enter tuple or list as third argument!\")\n",
    "        return\n",
    "\n",
    "    if not len(figsize_arg) == 2:\n",
    "        print(\"Your given tuple or list for size of figure  should contain 2 numeric values!\")\n",
    "        return\n",
    "    \n",
    "    if figsize_arg is None:\n",
    "        fig, ax = plt.subplots()\n",
    "    else:\n",
    "        fig, ax = plt.subplots( figsize = figsize_arg )\n",
    "    \n",
    "    sns.boxplot(x = df_name_arg[col_arg], ax = ax, **kwargs)    \n",
    "    plt.show()\n",
    "    # fig, ax = plt.subplots\n",
    "    # sns.boxplot(x = df_waze_0[\"sessions\"], ax = ax)\n",
    "    # plt.show()"
   ]
  },
  {
   "cell_type": "markdown",
   "id": "5126eb9b-869e-4560-a7f7-b61682a0e48e",
   "metadata": {},
   "source": [
    "We get a list of all numerical variables included in our dataset:"
   ]
  },
  {
   "cell_type": "code",
   "execution_count": 204,
   "id": "04a54270-0f19-4019-afa6-e5af2f4f7707",
   "metadata": {},
   "outputs": [
    {
     "data": {
      "text/plain": [
       "np.int64(49)"
      ]
     },
     "execution_count": 204,
     "metadata": {},
     "output_type": "execute_result"
    }
   ],
   "source": [
    "df_waze_0[\"sessions\"].count() // 300"
   ]
  },
  {
   "cell_type": "code",
   "execution_count": 205,
   "id": "8ea8c30b-431c-4fc6-8ab5-988c2cd3f8ac",
   "metadata": {
    "scrolled": true
   },
   "outputs": [],
   "source": [
    "num_cols = df_waze_0.select_dtypes(include=['number']).columns.tolist()"
   ]
  },
  {
   "cell_type": "markdown",
   "id": "dbe49b12-8253-4da6-98fb-eb9c8fcbba75",
   "metadata": {},
   "source": [
    "Now we execute our **boxplot_sns()** function to each of numerical column contained in a list above:"
   ]
  },
  {
   "cell_type": "code",
   "execution_count": 206,
   "id": "d3722262-ae7c-43d0-9d13-da7bbd29d308",
   "metadata": {
    "scrolled": true
   },
   "outputs": [
    {
     "data": {
      "image/png": "[encoded data removed]",
      "text/plain": [
       "<Figure size 500x100 with 1 Axes>"
      ]
     },
     "metadata": {},
     "output_type": "display_data"
    },
    {
     "data": {
      "image/png": "[encoded data removed]",
      "text/plain": [
       "<Figure size 500x100 with 1 Axes>"
      ]
     },
     "metadata": {},
     "output_type": "display_data"
    },
    {
     "data": {
      "image/png": "[encoded data removed]",
      "text/plain": [
       "<Figure size 500x100 with 1 Axes>"
      ]
     },
     "metadata": {},
     "output_type": "display_data"
    },
    {
     "data": {
      "image/png": "[encoded data removed]",
      "text/plain": [
       "<Figure size 500x100 with 1 Axes>"
      ]
     },
     "metadata": {},
     "output_type": "display_data"
    },
    {
     "data": {
      "image/png": "[encoded data removed]",
      "text/plain": [
       "<Figure size 500x100 with 1 Axes>"
      ]
     },
     "metadata": {},
     "output_type": "display_data"
    },
    {
     "data": {
      "image/png": "[encoded data removed]",
      "text/plain": [
       "<Figure size 500x100 with 1 Axes>"
      ]
     },
     "metadata": {},
     "output_type": "display_data"
    },
    {
     "data": {
      "image/png": "[encoded data removed]",
      "text/plain": [
       "<Figure size 500x100 with 1 Axes>"
      ]
     },
     "metadata": {},
     "output_type": "display_data"
    },
    {
     "data": {
      "image/png": "[encoded data removed]",
      "text/plain": [
       "<Figure size 500x100 with 1 Axes>"
      ]
     },
     "metadata": {},
     "output_type": "display_data"
    },
    {
     "data": {
      "image/png": "[encoded data removed]",
      "text/plain": [
       "<Figure size 500x100 with 1 Axes>"
      ]
     },
     "metadata": {},
     "output_type": "display_data"
    },
    {
     "data": {
      "image/png": "[encoded data removed]",
      "text/plain": [
       "<Figure size 500x100 with 1 Axes>"
      ]
     },
     "metadata": {},
     "output_type": "display_data"
    },
    {
     "data": {
      "image/png": "[encoded data removed]",
      "text/plain": [
       "<Figure size 500x100 with 1 Axes>"
      ]
     },
     "metadata": {},
     "output_type": "display_data"
    },
    {
     "data": {
      "image/png": "[encoded data removed]",
      "text/plain": [
       "<Figure size 500x100 with 1 Axes>"
      ]
     },
     "metadata": {},
     "output_type": "display_data"
    },
    {
     "data": {
      "image/png": "[encoded data removed]",
      "text/plain": [
       "<Figure size 500x100 with 1 Axes>"
      ]
     },
     "metadata": {},
     "output_type": "display_data"
    }
   ],
   "source": [
    "for col in num_cols:\n",
    "    boxplot_sns( df_waze_0, col, (5, 1), fliersize = 3)"
   ]
  },
  {
   "cell_type": "markdown",
   "id": "ebb18488-6d32-49c3-a16a-fdd5e0506378",
   "metadata": {},
   "source": [
    "Let's remind, in boxplot chart outliers are being shown as points reaching over \"Minimum\" and \"Maximum\". Values of those \"Minimum\" and \"Maximum\" are Q1-1.5\\*IQR and Q3+1.5\\*IQR respectively. Obviously, there could be situation, where no single value could be classified as an outlier, if that is the case, no points behind whiskers are visualized.\n",
    "<br>\n",
    "However, in most of our numeric columns, there are values that we can identify as outliers. Only `n_days_after_onboarding`,`activity_days` and `driving_days`don't have any outliers. In all other numeric columns we have some outliers, in all of them they are bigger than our \"Maximum\", which tells us that distributions of those variables are right-skewed. We will look for confirmation of this fact by creating histplots of our numeric columns."
   ]
  },
  {
   "cell_type": "markdown",
   "id": "8d500c0f-fe14-4c92-a184-53c0c34ab69e",
   "metadata": {},
   "source": [
    "## Analysis of histplots"
   ]
  },
  {
   "cell_type": "code",
   "execution_count": 207,
   "id": "650c77d4-d990-4504-8e55-c7d99440db98",
   "metadata": {},
   "outputs": [],
   "source": [
    "def histplot_sns(df_name_arg, col_arg, figsize_arg = None, bins_arg = None, median_text_arg = True, **kwargs):    # **kwargs = any keyword arguments for sns.histplot() function\n",
    "\n",
    "# -------------  validation of values enter by user ----------------\n",
    "    if not isinstance(df_name_arg, pd.DataFrame):\n",
    "        print(\"Please enter dataframe as first argument!\")\n",
    "        return\n",
    "\n",
    "    if col_arg not in df_name_arg.columns:\n",
    "        print(\"Please enter valid column name!\")\n",
    "        return\n",
    "\n",
    "    if not ptypes.is_numeric_dtype(df_name_arg[col_arg]) :\n",
    "        print(\"Please enter numeric column as second argument!\")\n",
    "        return   # end function\n",
    "\n",
    "    if not (isinstance(figsize_arg, tuple) or isinstance(figsize_arg, list)):\n",
    "        print(\"Please enter tuple or list as third argument!\")\n",
    "        return\n",
    "\n",
    "    if not len(figsize_arg) == 2:\n",
    "        print(\"Your given tuple or list for size of figure should contain 2 numeric values!\")\n",
    "        return\n",
    "\n",
    "\n",
    "#-----------------------------------------------------------\n",
    "    \n",
    "    if figsize_arg is None:\n",
    "        fig, ax = plt.subplots()\n",
    "    else:\n",
    "        fig, ax = plt.subplots( figsize = figsize_arg )\n",
    "\n",
    "    median_value = df_name_arg[col_arg].median().round(decimals = 2)\n",
    "    if bins_arg != \"auto\":\n",
    "         bins_arg = df_name_arg[col_arg].count() // 300\n",
    "   # print(bins_arg)\n",
    "    sns.histplot(x = df_name_arg[col_arg], ax = ax, bins = bins_arg, **kwargs)  \n",
    "    \n",
    "    ax.axvline(x=median_value, color='r', linestyle='--', linewidth=1.5)\n",
    "\n",
    "    if median_text_arg:\n",
    "        ax.text(0.25, 0.85, f'median={median_value}', color='red',\n",
    "            ha='left', va='top', transform=ax.transAxes)\n",
    "    else:\n",
    "        print('Median for {} column:'.format(col_arg), median_value)\n",
    "    \n",
    "    ax.set_title(\"{} - histogram\".format(col_arg))\n",
    "    plt.show()\n"
   ]
  },
  {
   "cell_type": "markdown",
   "id": "b2ddaac4-11fc-4417-9d1e-d1ecb5850271",
   "metadata": {},
   "source": [
    "### `sessions`"
   ]
  },
  {
   "cell_type": "code",
   "execution_count": 208,
   "id": "a7f09f3c-a1fa-4a26-b820-5f6f33a1bfe4",
   "metadata": {},
   "outputs": [
    {
     "data": {
      "image/png": "[encoded data removed]",
      "text/plain": [
       "<Figure size 500x200 with 1 Axes>"
      ]
     },
     "metadata": {},
     "output_type": "display_data"
    }
   ],
   "source": [
    "histplot_sns(df_waze_0, \"sessions\", (5,2))"
   ]
  },
  {
   "cell_type": "markdown",
   "id": "ba84de35-e328-488c-88be-bdca590d4d3c",
   "metadata": {},
   "source": [
    "The distibutions of a `sessions` variable is strictly right-skewed. Most of users open app few times, with half of the users open app 56 or less times. But, as indicated previously in boxplot, there are users who have opened Waze app even +700 times during this month."
   ]
  },
  {
   "cell_type": "markdown",
   "id": "f3a55009-b00f-461e-a4fd-183f9f9cc7ee",
   "metadata": {},
   "source": [
    "### `drives`"
   ]
  },
  {
   "cell_type": "code",
   "execution_count": 209,
   "id": "067943c5-2164-490a-aaa0-0d744dd2a3db",
   "metadata": {},
   "outputs": [
    {
     "data": {
      "image/png": "[encoded data removed]",
      "text/plain": [
       "<Figure size 500x200 with 1 Axes>"
      ]
     },
     "metadata": {},
     "output_type": "display_data"
    }
   ],
   "source": [
    "histplot_sns(df_waze_0, \"drives\", (5,2))"
   ]
  },
  {
   "cell_type": "markdown",
   "id": "2706c1b4-e9d2-4139-aa17-b44640a6a8a0",
   "metadata": {},
   "source": [
    "We see that distribution of `drives` is also strictly right-skewed with most of users having few drives during month, but on the other hand there are users who drove a few houndred times, some of them got almost 600 drives during this month."
   ]
  },
  {
   "cell_type": "markdown",
   "id": "d591fd80-e9b7-4c3c-ac18-8102c9973f71",
   "metadata": {},
   "source": [
    "### `total_sessions`"
   ]
  },
  {
   "cell_type": "code",
   "execution_count": 210,
   "id": "fd493d34-844a-46e2-80ec-336f6630f87b",
   "metadata": {},
   "outputs": [
    {
     "data": {
      "image/png": "[encoded data removed]",
      "text/plain": [
       "<Figure size 500x200 with 1 Axes>"
      ]
     },
     "metadata": {},
     "output_type": "display_data"
    }
   ],
   "source": [
    "histplot_sns(df_waze_0, \"total_sessions\", (5,2))"
   ]
  },
  {
   "cell_type": "markdown",
   "id": "3336a214-f565-4377-963b-6da3653a2732",
   "metadata": {},
   "source": [
    "Distribution of `total_sessions` is also right-skewed, but most of users have total number of sessions between 50 and 130. However, half of observations have values bigger than 160 with few values even bigger than 1000."
   ]
  },
  {
   "cell_type": "markdown",
   "id": "0275b81a-8b2c-4eb6-bd90-d52d28a58d64",
   "metadata": {},
   "source": [
    "### `n_days_after_onboarding`"
   ]
  },
  {
   "cell_type": "code",
   "execution_count": 211,
   "id": "1a422e80-3d9c-4d2d-9e72-c3702489cdd7",
   "metadata": {},
   "outputs": [
    {
     "name": "stdout",
     "output_type": "stream",
     "text": [
      "Median for n_days_after_onboarding column: 1741.0\n"
     ]
    },
    {
     "data": {
      "image/png": "[encoded data removed]",
      "text/plain": [
       "<Figure size 500x230 with 1 Axes>"
      ]
     },
     "metadata": {},
     "output_type": "display_data"
    }
   ],
   "source": [
    "histplot_sns(df_waze_0, \"n_days_after_onboarding\", (5, 2.3), median_text_arg = False)"
   ]
  },
  {
   "cell_type": "markdown",
   "id": "9483416d-d4e0-4c03-89e6-bba4a12e6fb5",
   "metadata": {},
   "source": [
    "As we can see above, `n_days_after_onboarding` values are uniformly distributed between 0 and 3500, with median value equal to approximately 1700."
   ]
  },
  {
   "cell_type": "markdown",
   "id": "6683718d-f767-4182-b6fa-2b644bf437cd",
   "metadata": {},
   "source": [
    "### `driven_km_drives`"
   ]
  },
  {
   "cell_type": "code",
   "execution_count": 212,
   "id": "1ab85a9c-e877-4f5d-bb30-74c612d9d54e",
   "metadata": {
    "scrolled": true
   },
   "outputs": [
    {
     "data": {
      "image/png": "[encoded data removed]",
      "text/plain": [
       "<Figure size 500x200 with 1 Axes>"
      ]
     },
     "metadata": {},
     "output_type": "display_data"
    }
   ],
   "source": [
    "histplot_sns(df_waze_0, \"driven_km_drives\", (5,2))"
   ]
  },
  {
   "cell_type": "markdown",
   "id": "6df56191-12af-4c6e-8358-3a08ae316d48",
   "metadata": {},
   "source": [
    "The number of drives driven in the last month per user is a right-skewed distribution with half the users driving under 3,495 kilometers. As we discovered in the analysis before, the users in this dataset drive a lot.  The longest distance driven in the month was over half the circumferene of the earth. (20 000+ kms)"
   ]
  },
  {
   "cell_type": "markdown",
   "id": "04b196b2-3ef8-4acf-a840-e15de9388368",
   "metadata": {},
   "source": [
    "### `duration_minutes_drives`"
   ]
  },
  {
   "cell_type": "code",
   "execution_count": 213,
   "id": "e9bd20e3-0eb1-48a4-89fc-0909fd053799",
   "metadata": {},
   "outputs": [
    {
     "data": {
      "image/png": "[encoded data removed]",
      "text/plain": [
       "<Figure size 500x200 with 1 Axes>"
      ]
     },
     "metadata": {},
     "output_type": "display_data"
    }
   ],
   "source": [
    "histplot_sns(df_waze_0, \"duration_minutes_drives\", (5,2))"
   ]
  },
  {
   "cell_type": "markdown",
   "id": "e04b3883-b16c-480c-81be-eb20f91abf60",
   "metadata": {},
   "source": [
    "Duration of drives per user is also right-skewed with 50% of population driving less than 1480 minutes which is a little more than 1 day. However, there are users that drove even more than 15000 minutes (more than 10 days) during last month, which also indicates that they are really serious drivers. "
   ]
  },
  {
   "cell_type": "markdown",
   "id": "b2231431-800e-4a6c-9d60-7246b77fa24e",
   "metadata": {},
   "source": [
    "### `activity_days`"
   ]
  },
  {
   "cell_type": "code",
   "execution_count": 214,
   "id": "350b177b-1635-4ad2-b267-6d577d951f41",
   "metadata": {},
   "outputs": [
    {
     "name": "stdout",
     "output_type": "stream",
     "text": [
      "Median for activity_days column: 16.0\n"
     ]
    },
    {
     "data": {
      "image/png": "[encoded data removed]",
      "text/plain": [
       "<Figure size 500x230 with 1 Axes>"
      ]
     },
     "metadata": {},
     "output_type": "display_data"
    }
   ],
   "source": [
    "histplot_sns(df_waze_0, \"activity_days\", (5, 2.3), median_text_arg = False, discrete = True)"
   ]
  },
  {
   "cell_type": "markdown",
   "id": "db127368-b66e-418e-ad60-a6b2b8507ed1",
   "metadata": {},
   "source": [
    "Number of activity days per user is uniformly distributed with ~500 count for all values between 1 and 30, but we observe significantly lower values for users with least activity with 0 days and most with 31 days, there are only ~250 of them. It is also worth to note that distribution of `activity_days` is not highly corelated with `sessions` which could be a guess. In particular, `sessions` variable had strictly right-skewed distribution."
   ]
  },
  {
   "cell_type": "markdown",
   "id": "3f64fe8a-f67e-4460-8bf9-5c5f05859467",
   "metadata": {},
   "source": [
    "### `driving_days`"
   ]
  },
  {
   "cell_type": "code",
   "execution_count": 215,
   "id": "c2fe19ae-f7d1-4c15-ae30-3e71496cca0f",
   "metadata": {},
   "outputs": [
    {
     "name": "stdout",
     "output_type": "stream",
     "text": [
      "Median for driving_days column: 12.0\n"
     ]
    },
    {
     "data": {
      "image/png": "[encoded data removed]",
      "text/plain": [
       "<Figure size 500x230 with 1 Axes>"
      ]
     },
     "metadata": {},
     "output_type": "display_data"
    }
   ],
   "source": [
    "histplot_sns(df_waze_0, \"driving_days\", (5, 2.3), median_text_arg = False, discrete = True)"
   ]
  },
  {
   "cell_type": "markdown",
   "id": "6773a0d2-cc1c-43c5-be41-275fd11f90bf",
   "metadata": {},
   "source": [
    "When it comes to driving days, the biggest number of users have not drived at all this month - there are around 1000 them. Whatsmore, thre are ~500 users that are driving for each number of days between 1 and 20. Less users were driving for more than 20 days - distribution between 20 and 30 becomes right-skewed with fewest users that drived in each day of this month."
   ]
  },
  {
   "cell_type": "markdown",
   "id": "732b58c3-cccc-4a4c-ad27-21df0cf543b1",
   "metadata": {},
   "source": [
    "`device` column"
   ]
  },
  {
   "cell_type": "code",
   "execution_count": 216,
   "id": "cd74c506-3867-470c-8d93-4aa68748c45f",
   "metadata": {},
   "outputs": [],
   "source": [
    "def plt_piechart(df_name_arg, col_arg, figsize_arg = None):\n",
    "\n",
    "\n",
    "    if not isinstance(df_name_arg, pd.DataFrame):\n",
    "        print(\"Enter dataframe as first argument!\")\n",
    "        return \n",
    "\n",
    "    if not col_arg in df_name_arg.columns:\n",
    "        print(\"Enter a column name as second argument!\")\n",
    "        return\n",
    "\n",
    "    if not ptypes.is_object_dtype(df_name_arg[col_arg]) :\n",
    "        print(\"Please enter text column (object type) as second argument!\")\n",
    "        return\n",
    "\n",
    "    if not (isinstance (figsize_arg, tuple) or isinstance(figsize_arg, list)):\n",
    "        print(\"Please enter a tuple or list as third argument!\")\n",
    "        return\n",
    "\n",
    "    if not len(figsize_arg) == 2:\n",
    "        print(\"Please enter a tuple or list containing 2 values!\")\n",
    "        return\n",
    "     \n",
    "    fig, ax = plt.subplots(figsize= figsize_arg)\n",
    "    \n",
    "    counts = df_name_arg[col_arg].value_counts()\n",
    "\n",
    "    \n",
    "    ax.pie(counts,\n",
    "        labels=[\"{}: {}\".format(index, val) for index, val in counts.items()],\n",
    "        autopct='%1.1f%%'\n",
    "        )\n",
    "    ax.set_title(\"Users by {}\".format(col_arg))\n",
    "    plt.show()"
   ]
  },
  {
   "cell_type": "code",
   "execution_count": 217,
   "id": "649cedac-a9de-4509-a94b-4e9fe5c0546c",
   "metadata": {
    "scrolled": true
   },
   "outputs": [
    {
     "data": {
      "image/png": "[encoded data removed]",
      "text/plain": [
       "<Figure size 300x300 with 1 Axes>"
      ]
     },
     "metadata": {},
     "output_type": "display_data"
    }
   ],
   "source": [
    "plt_piechart(df_waze_0, \"device\", (3,3))"
   ]
  },
  {
   "cell_type": "markdown",
   "id": "f6f89644-bfb3-4e7f-9317-d0eb6f4b42bf",
   "metadata": {},
   "source": [
    "`label` column"
   ]
  },
  {
   "cell_type": "code",
   "execution_count": 218,
   "id": "2cb1d097-4948-4a70-8ed7-a33f96c88ec8",
   "metadata": {
    "scrolled": true
   },
   "outputs": [
    {
     "data": {
      "image/png": "[encoded data removed]",
      "text/plain": [
       "<Figure size 300x300 with 1 Axes>"
      ]
     },
     "metadata": {},
     "output_type": "display_data"
    }
   ],
   "source": [
    "plt_piechart(df_waze_0, \"label\", (3,3))"
   ]
  },
  {
   "cell_type": "markdown",
   "id": "33a104c3-e8f4-4524-8a57-a0d8a1dec9ec",
   "metadata": {},
   "source": [
    "#### Retention by device"
   ]
  },
  {
   "cell_type": "code",
   "execution_count": 219,
   "id": "31965f40-3b82-49d0-8c94-157b81700e85",
   "metadata": {},
   "outputs": [
    {
     "data": {
      "image/png": "[encoded data removed]",
      "text/plain": [
       "<Figure size 500x300 with 1 Axes>"
      ]
     },
     "metadata": {},
     "output_type": "display_data"
    }
   ],
   "source": [
    "# Histogram\n",
    "fig, ax = plt.subplots(figsize=(5,3))\n",
    "sns.histplot(data=df_waze_0,\n",
    "             x='device',\n",
    "             hue='label',\n",
    "             multiple='dodge',\n",
    "             shrink=0.9, \n",
    "             ax = ax\n",
    "             )\n",
    "ax.set_title('Retention by device')\n",
    "plt.show();"
   ]
  },
  {
   "cell_type": "markdown",
   "id": "340f6480-6e50-4d33-aa58-3df793005bc6",
   "metadata": {},
   "source": [
    "By plotting counts of retained and churned users per every device type, we see that for both devices, ratio of churned users is very similar"
   ]
  },
  {
   "cell_type": "markdown",
   "id": "21457971-2ed9-4c6e-83d3-190f5cbc37af",
   "metadata": {},
   "source": [
    "#### Retention by kilometers driven per driving day"
   ]
  },
  {
   "cell_type": "code",
   "execution_count": 220,
   "id": "13dde62b-6b5a-4dec-a968-3f409f45317c",
   "metadata": {},
   "outputs": [
    {
     "data": {
      "text/plain": [
       "Index(['label', 'sessions', 'drives', 'total_sessions',\n",
       "       'n_days_after_onboarding', 'total_navigations_fav1',\n",
       "       'total_navigations_fav2', 'driven_km_drives', 'duration_minutes_drives',\n",
       "       'activity_days', 'driving_days', 'device', 'km_driven_per_drive',\n",
       "       'km_driven_per_driving_day', 'drives_per_driving_day'],\n",
       "      dtype='object')"
      ]
     },
     "execution_count": 220,
     "metadata": {},
     "output_type": "execute_result"
    }
   ],
   "source": [
    "df_waze_0.columns"
   ]
  },
  {
   "cell_type": "code",
   "execution_count": 221,
   "id": "ca6cd6b8-4430-4f59-8b1a-d86a293e95e9",
   "metadata": {
    "scrolled": true
   },
   "outputs": [
    {
     "data": {
      "text/plain": [
       "count    14999.000000\n",
       "mean       578.963113\n",
       "std       1030.094384\n",
       "min          0.000000\n",
       "25%        136.238895\n",
       "50%        272.889272\n",
       "75%        558.686918\n",
       "max      15420.234110\n",
       "Name: km_driven_per_driving_day, dtype: float64"
      ]
     },
     "execution_count": 221,
     "metadata": {},
     "output_type": "execute_result"
    }
   ],
   "source": [
    "df_waze_0['km_driven_per_driving_day'].describe()"
   ]
  },
  {
   "cell_type": "markdown",
   "id": "7801e97b-3db2-4e2f-9850-4a6c3655a67d",
   "metadata": {},
   "source": [
    "We see that even though we already cut some outliers, maximum value of column `km_driven_per_driving_day` is still pretty high with 2237 kms. Let's assume that driver is riding with average speed 100km/h for 14 hours. That would be 1400km per day, and it is hard to imagine that someone could drive much longer distance throughout one day. So while plotting the following plot, we will focus only on values of `km_driven_per_driving_day` less or equal to 1400."
   ]
  },
  {
   "cell_type": "code",
   "execution_count": 222,
   "id": "a6f97204-f2c7-48b6-83ca-506e293a03d1",
   "metadata": {},
   "outputs": [
    {
     "data": {
      "image/png": "[encoded data removed]",
      "text/plain": [
       "<Figure size 800x320 with 1 Axes>"
      ]
     },
     "metadata": {},
     "output_type": "display_data"
    }
   ],
   "source": [
    "fig, ax = plt.subplots(figsize=(8,3.2))\n",
    "sns.histplot(data=df_waze_0,\n",
    "             x='km_driven_per_driving_day',\n",
    "             bins=range(0,1401,20),\n",
    "             hue='label',\n",
    "             multiple='fill', \n",
    "             legend = False,   # ignoring default legend\n",
    "             ax = ax)\n",
    "ax.set_ylabel('%', rotation=0)\n",
    "ax.set_title('Churn rate by km driven per driving day')\n",
    "ax.legend([\"churned\", \"retained\"], reverse = True, loc='upper right')  # adding legend by plt, to set a location to upper right\n",
    "plt.show();"
   ]
  },
  {
   "cell_type": "markdown",
   "id": "69d394bc-81b0-4a67-ae51-07650e5be8f7",
   "metadata": {},
   "source": [
    "As we can see above, there are some patterns to describe from foregoing plot. First, we see that in group of users that did not drive at all, there was much higher risk to churn than in cases where users were driving relatively small distances during month. We see that except \"group 0\", there is clear trend that with longer distances per day, users were more likely to churn. With that in mind, we could assume that there could be some issue with our app while driving very long distances, finally reasoning in users to leave our Waze app."
   ]
  },
  {
   "cell_type": "markdown",
   "id": "74af096e-d52b-4d2c-9d58-29795cd96e2f",
   "metadata": {},
   "source": [
    "#### Retention by number of driving days"
   ]
  },
  {
   "cell_type": "code",
   "execution_count": 223,
   "id": "2f1e2ece-e12c-4bcc-8a10-316bc1d52580",
   "metadata": {},
   "outputs": [
    {
     "data": {
      "image/png": "[encoded data removed]",
      "text/plain": [
       "<Figure size 800x320 with 1 Axes>"
      ]
     },
     "metadata": {},
     "output_type": "display_data"
    }
   ],
   "source": [
    "fig, ax = plt.subplots(figsize=(8,3.2))\n",
    "sns.histplot(data=df_waze_0,\n",
    "             x='driving_days',\n",
    "             bins=range(1,32),\n",
    "             hue='label',\n",
    "             multiple='fill', \n",
    "             legend = False,   # ignoring default legend\n",
    "             ax = ax)\n",
    "ax.set_ylabel('%', rotation=0)\n",
    "ax.set_title('Churn rate by number of driving days during month')\n",
    "ax.legend([\"churned\", \"retained\"], reverse = True, loc='upper right')  # adding legend by plt, to set a location to upper right\n",
    "plt.show();"
   ]
  },
  {
   "cell_type": "markdown",
   "id": "c0d67707-ae17-44c1-bc21-5282a362805b",
   "metadata": {},
   "source": [
    "We see from above chart, that the less days particular user is driving, the bigger probability that he will churn. It is rather logical, because if someone is driving less and less, then he would not have reason to use our app."
   ]
  },
  {
   "cell_type": "markdown",
   "id": "b4cf8673-3ff8-4775-969c-8abff4e793ec",
   "metadata": {},
   "source": [
    "#### Proportion of sessions during last month"
   ]
  },
  {
   "cell_type": "markdown",
   "id": "01352ad2-487b-4028-9da8-1bd12edebff7",
   "metadata": {},
   "source": [
    "We discovered earlier that there is surprisingly high ratio of sessions during last month to total sessions. To further inspect that, we will create and analyze new column with this ratio"
   ]
  },
  {
   "cell_type": "code",
   "execution_count": 259,
   "id": "a3a5fcca-48d5-41d5-8235-a3f4a5025f73",
   "metadata": {},
   "outputs": [],
   "source": [
    "df_waze_0[\"percentage_of_sessions_last_month\"] = ((df_waze_0[\"sessions\"] / df_waze_0[\"total_sessions\"].\n",
    "                                                   round(decimals=0)).\n",
    "                                                   round(decimals = 2).\n",
    "                                                   fillna(0))"
   ]
  },
  {
   "cell_type": "code",
   "execution_count": 260,
   "id": "e3ef5901-8efc-40f1-b15c-88c5268505db",
   "metadata": {},
   "outputs": [
    {
     "data": {
      "text/plain": [
       "count    14999.000000\n",
       "mean         0.443620\n",
       "std          0.278514\n",
       "min          0.000000\n",
       "25%          0.200000\n",
       "50%          0.430000\n",
       "75%          0.670000\n",
       "max          1.000000\n",
       "Name: percentage_of_sessions_last_month, dtype: float64"
      ]
     },
     "execution_count": 260,
     "metadata": {},
     "output_type": "execute_result"
    }
   ],
   "source": [
    "df_waze_0[\"percentage_of_sessions_last_month\"].describe()"
   ]
  },
  {
   "cell_type": "code",
   "execution_count": 226,
   "id": "a2957a1f-3662-4eaa-9b6a-7b4312dc744a",
   "metadata": {},
   "outputs": [
    {
     "data": {
      "image/png": "[encoded data removed]",
      "text/plain": [
       "<Figure size 800x320 with 1 Axes>"
      ]
     },
     "metadata": {},
     "output_type": "display_data"
    }
   ],
   "source": [
    "fig, ax = plt.subplots(figsize=(8,3.2))\n",
    "sns.histplot(data=df_waze_0,\n",
    "             x=\"percentage_of_sessions_last_month\",\n",
    "             #bins=range(0,1, 20),\n",
    "             hue='label',\n",
    "             multiple='stack', \n",
    "             legend = False,   # ignoring default legend\n",
    "             ax = ax)\n",
    "ax.set_ylabel('Count', rotation=90)\n",
    "ax.set_title('Percentages of sessions during last month - histogram')\n",
    "ax.legend([\"churned\", \"retained\"], reverse = True, loc='upper right')  # adding legend by plt, to set a location to upper right\n",
    "plt.show();"
   ]
  },
  {
   "cell_type": "markdown",
   "id": "86202296-af22-4bf7-991c-4e1192f9fd51",
   "metadata": {},
   "source": [
    "The plot above confirms our guesses that very high percentage of total sessions were made in last month. With many users that got more than 90% - that is reall difficult to explain. We will dig deeper by analyze users with at least half of sessions made during this month. We will check for how long this users are with our app by exploring distribution of `n_days_after_oboarding` columns."
   ]
  },
  {
   "cell_type": "code",
   "execution_count": 227,
   "id": "556120f7-998e-4f60-b829-482d9f17031e",
   "metadata": {},
   "outputs": [],
   "source": [
    "df_waze_test = df_waze_0[df_waze_0[\"percentage_of_sessions_last_month\"] >= 0.5]"
   ]
  },
  {
   "cell_type": "code",
   "execution_count": 228,
   "id": "0f4c4ac6-8cbb-49e5-a7a0-70a8afc63248",
   "metadata": {},
   "outputs": [
    {
     "name": "stdout",
     "output_type": "stream",
     "text": [
      "Median for n_days_after_onboarding column: 1750.0\n"
     ]
    },
    {
     "data": {
      "image/png": "[encoded data removed]",
      "text/plain": [
       "<Figure size 500x200 with 1 Axes>"
      ]
     },
     "metadata": {},
     "output_type": "display_data"
    }
   ],
   "source": [
    "histplot_sns(df_waze_test, \"n_days_after_onboarding\", (5,2), median_text_arg = False)"
   ]
  },
  {
   "cell_type": "markdown",
   "id": "771a355a-fa1f-4aa0-b3e2-9d8a401b0272",
   "metadata": {},
   "source": [
    "Actually, we observe something that is very strange. There are users that used our app years ago (maximum, almost 10 years!), and they all have unusual bigger activity on app during this month. It is worth to ask Waze why. "
   ]
  },
  {
   "cell_type": "markdown",
   "id": "7b25ef20-e3f5-4290-9fee-a0a5f3fcd250",
   "metadata": {},
   "source": [
    "## Analysis of quantiles"
   ]
  },
  {
   "cell_type": "markdown",
   "id": "976be5b1-0468-4036-b875-be67e2bab52b",
   "metadata": {},
   "source": [
    "For `n_days_after_onboarding`, `activity_days` and `driving_days` columns, for which we did not identify outlierss in boxplot and histplots, we see relatively small differences between 95% quantile and maximum value. All other considered numeric variables have big, meaningful difference between maximum and 95% quantile. We decide to cut all values bigger than 95% quantile and assign this threshold value for them. We will repeat this procedure for each of those columns."
   ]
  },
  {
   "cell_type": "code",
   "execution_count": 229,
   "id": "a8f13cb9-5083-4e2c-933c-8e6e0b089672",
   "metadata": {},
   "outputs": [],
   "source": [
    "num_cols_to_cut = (\n",
    "    df_waze_0\n",
    "    .select_dtypes(include=['number'])\n",
    "    .drop([\"n_days_after_onboarding\", \"activity_days\", \"driving_days\"], axis=1)\n",
    "    .columns\n",
    ")"
   ]
  },
  {
   "cell_type": "markdown",
   "id": "364c1c76-be22-4928-85e2-8848177ef56b",
   "metadata": {},
   "source": [
    "For further analysis of outliers, we will add some quantile values to our analysis. To do so, we will use **quantile()** method, quantiles of 0.75, 0.9, 0.95 and 1 (Maximum) will be calculated."
   ]
  },
  {
   "cell_type": "code",
   "execution_count": 230,
   "id": "4b06317b-0655-470d-a77b-d0f9c46d9a9f",
   "metadata": {
    "scrolled": true
   },
   "outputs": [
    {
     "data": {
      "text/html": [
       "<div>\n",
       "<style scoped>\n",
       "    .dataframe tbody tr th:only-of-type {\n",
       "        vertical-align: middle;\n",
       "    }\n",
       "\n",
       "    .dataframe tbody tr th {\n",
       "        vertical-align: top;\n",
       "    }\n",
       "\n",
       "    .dataframe thead th {\n",
       "        text-align: right;\n",
       "    }\n",
       "</style>\n",
       "<table border=\"1\" class=\"dataframe\">\n",
       "  <thead>\n",
       "    <tr style=\"text-align: right;\">\n",
       "      <th></th>\n",
       "      <th>sessions</th>\n",
       "      <th>drives</th>\n",
       "      <th>total_sessions</th>\n",
       "      <th>n_days_after_onboarding</th>\n",
       "      <th>total_navigations_fav1</th>\n",
       "      <th>total_navigations_fav2</th>\n",
       "      <th>driven_km_drives</th>\n",
       "      <th>duration_minutes_drives</th>\n",
       "      <th>activity_days</th>\n",
       "      <th>driving_days</th>\n",
       "      <th>km_driven_per_drive</th>\n",
       "      <th>km_driven_per_driving_day</th>\n",
       "      <th>drives_per_driving_day</th>\n",
       "      <th>percentage_of_sessions_last_month</th>\n",
       "    </tr>\n",
       "  </thead>\n",
       "  <tbody>\n",
       "    <tr>\n",
       "      <th>0.75</th>\n",
       "      <td>112.0</td>\n",
       "      <td>93.0</td>\n",
       "      <td>254.192341</td>\n",
       "      <td>2623.5</td>\n",
       "      <td>178.0</td>\n",
       "      <td>43.0</td>\n",
       "      <td>5289.861262</td>\n",
       "      <td>2464.362632</td>\n",
       "      <td>23.0</td>\n",
       "      <td>19.0</td>\n",
       "      <td>179.347527</td>\n",
       "      <td>558.686918</td>\n",
       "      <td>9.0</td>\n",
       "      <td>0.69</td>\n",
       "    </tr>\n",
       "    <tr>\n",
       "      <th>0.90</th>\n",
       "      <td>185.0</td>\n",
       "      <td>153.0</td>\n",
       "      <td>370.157341</td>\n",
       "      <td>3149.2</td>\n",
       "      <td>319.0</td>\n",
       "      <td>88.0</td>\n",
       "      <td>7411.759562</td>\n",
       "      <td>3737.615212</td>\n",
       "      <td>28.0</td>\n",
       "      <td>23.0</td>\n",
       "      <td>492.750391</td>\n",
       "      <td>1295.664093</td>\n",
       "      <td>21.0</td>\n",
       "      <td>0.87</td>\n",
       "    </tr>\n",
       "    <tr>\n",
       "      <th>0.95</th>\n",
       "      <td>243.0</td>\n",
       "      <td>201.0</td>\n",
       "      <td>454.363204</td>\n",
       "      <td>3314.0</td>\n",
       "      <td>424.0</td>\n",
       "      <td>124.0</td>\n",
       "      <td>8889.794236</td>\n",
       "      <td>4668.899349</td>\n",
       "      <td>29.0</td>\n",
       "      <td>25.0</td>\n",
       "      <td>908.458891</td>\n",
       "      <td>2237.150623</td>\n",
       "      <td>37.0</td>\n",
       "      <td>0.94</td>\n",
       "    </tr>\n",
       "    <tr>\n",
       "      <th>1.00</th>\n",
       "      <td>743.0</td>\n",
       "      <td>596.0</td>\n",
       "      <td>1216.154633</td>\n",
       "      <td>3500.0</td>\n",
       "      <td>1236.0</td>\n",
       "      <td>415.0</td>\n",
       "      <td>21183.401890</td>\n",
       "      <td>15851.727160</td>\n",
       "      <td>31.0</td>\n",
       "      <td>30.0</td>\n",
       "      <td>15777.426560</td>\n",
       "      <td>15420.234110</td>\n",
       "      <td>395.0</td>\n",
       "      <td>1.00</td>\n",
       "    </tr>\n",
       "  </tbody>\n",
       "</table>\n",
       "</div>"
      ],
      "text/plain": [
       "      sessions  drives  total_sessions  n_days_after_onboarding  \\\n",
       "0.75     112.0    93.0      254.192341                   2623.5   \n",
       "0.90     185.0   153.0      370.157341                   3149.2   \n",
       "0.95     243.0   201.0      454.363204                   3314.0   \n",
       "1.00     743.0   596.0     1216.154633                   3500.0   \n",
       "\n",
       "      total_navigations_fav1  total_navigations_fav2  driven_km_drives  \\\n",
       "0.75                   178.0                    43.0       5289.861262   \n",
       "0.90                   319.0                    88.0       7411.759562   \n",
       "0.95                   424.0                   124.0       8889.794236   \n",
       "1.00                  1236.0                   415.0      21183.401890   \n",
       "\n",
       "      duration_minutes_drives  activity_days  driving_days  \\\n",
       "0.75              2464.362632           23.0          19.0   \n",
       "0.90              3737.615212           28.0          23.0   \n",
       "0.95              4668.899349           29.0          25.0   \n",
       "1.00             15851.727160           31.0          30.0   \n",
       "\n",
       "      km_driven_per_drive  km_driven_per_driving_day  drives_per_driving_day  \\\n",
       "0.75           179.347527                 558.686918                     9.0   \n",
       "0.90           492.750391                1295.664093                    21.0   \n",
       "0.95           908.458891                2237.150623                    37.0   \n",
       "1.00         15777.426560               15420.234110                   395.0   \n",
       "\n",
       "      percentage_of_sessions_last_month  \n",
       "0.75                               0.69  \n",
       "0.90                               0.87  \n",
       "0.95                               0.94  \n",
       "1.00                               1.00  "
      ]
     },
     "execution_count": 230,
     "metadata": {},
     "output_type": "execute_result"
    }
   ],
   "source": [
    "df_waze_0.quantile([0.75, 0.9, 0.95, 1], numeric_only = True)"
   ]
  },
  {
   "cell_type": "code",
   "execution_count": 231,
   "id": "5bcdf443-e468-4773-aa26-0419e520ba20",
   "metadata": {},
   "outputs": [
    {
     "data": {
      "text/plain": [
       "np.float64(56.0)"
      ]
     },
     "execution_count": 231,
     "metadata": {},
     "output_type": "execute_result"
    }
   ],
   "source": [
    "df_waze_0[\"sessions\"].median()"
   ]
  },
  {
   "cell_type": "code",
   "execution_count": 232,
   "id": "25ba799a-4dcb-44c5-9036-c467736316bc",
   "metadata": {},
   "outputs": [],
   "source": [
    "def outlier_handler(df_arg, col_arg, percentile_arg):\n",
    "    # Calculate threshold\n",
    "    threshold = df_arg[col_arg].quantile(percentile_arg)\n",
    "    # Impute threshold for values > than threshold\n",
    "    df_arg.loc[df_arg[col_arg] > threshold, col_arg] = threshold\n",
    "\n",
    "    print('{:>25} | percentile: {} | threshold: {}'.format(col_arg, percentile_arg, threshold))"
   ]
  },
  {
   "cell_type": "code",
   "execution_count": 233,
   "id": "bcf31bc7-d77d-4495-9d16-005b4bfe974e",
   "metadata": {
    "scrolled": true
   },
   "outputs": [
    {
     "name": "stdout",
     "output_type": "stream",
     "text": [
      "                 sessions | percentile: 0.95 | threshold: 243.0\n",
      "                   drives | percentile: 0.95 | threshold: 201.0\n",
      "           total_sessions | percentile: 0.95 | threshold: 454.3632037399997\n",
      "   total_navigations_fav1 | percentile: 0.95 | threshold: 424.0\n",
      "   total_navigations_fav2 | percentile: 0.95 | threshold: 124.0\n",
      "         driven_km_drives | percentile: 0.95 | threshold: 8889.7942356\n",
      "  duration_minutes_drives | percentile: 0.95 | threshold: 4668.899348999998\n",
      "      km_driven_per_drive | percentile: 0.95 | threshold: 908.4588914\n",
      "km_driven_per_driving_day | percentile: 0.95 | threshold: 2237.1506231\n",
      "   drives_per_driving_day | percentile: 0.95 | threshold: 37.0\n",
      "percentage_of_sessions_last_month | percentile: 0.95 | threshold: 0.94\n"
     ]
    }
   ],
   "source": [
    "for c in num_cols_to_cut:\n",
    "    outlier_handler(df_waze_0, c, 0.95)"
   ]
  },
  {
   "cell_type": "markdown",
   "id": "1b8049e2-7d58-4454-b124-ee47974386de",
   "metadata": {},
   "source": [
    "Check if our operation was success by comparing 95% quantile and maximum values of selected columns, they should be equal."
   ]
  },
  {
   "cell_type": "code",
   "execution_count": 234,
   "id": "94c691a9-4b21-465c-9c26-15359e9dee61",
   "metadata": {},
   "outputs": [
    {
     "data": {
      "text/html": [
       "<div>\n",
       "<style scoped>\n",
       "    .dataframe tbody tr th:only-of-type {\n",
       "        vertical-align: middle;\n",
       "    }\n",
       "\n",
       "    .dataframe tbody tr th {\n",
       "        vertical-align: top;\n",
       "    }\n",
       "\n",
       "    .dataframe thead th {\n",
       "        text-align: right;\n",
       "    }\n",
       "</style>\n",
       "<table border=\"1\" class=\"dataframe\">\n",
       "  <thead>\n",
       "    <tr style=\"text-align: right;\">\n",
       "      <th></th>\n",
       "      <th>sessions</th>\n",
       "      <th>drives</th>\n",
       "      <th>total_sessions</th>\n",
       "      <th>total_navigations_fav1</th>\n",
       "      <th>total_navigations_fav2</th>\n",
       "      <th>driven_km_drives</th>\n",
       "      <th>duration_minutes_drives</th>\n",
       "      <th>km_driven_per_drive</th>\n",
       "      <th>km_driven_per_driving_day</th>\n",
       "      <th>drives_per_driving_day</th>\n",
       "      <th>percentage_of_sessions_last_month</th>\n",
       "    </tr>\n",
       "  </thead>\n",
       "  <tbody>\n",
       "    <tr>\n",
       "      <th>0.95</th>\n",
       "      <td>243.0</td>\n",
       "      <td>201.0</td>\n",
       "      <td>454.343512</td>\n",
       "      <td>424.0</td>\n",
       "      <td>124.0</td>\n",
       "      <td>8889.777661</td>\n",
       "      <td>4668.821721</td>\n",
       "      <td>908.455073</td>\n",
       "      <td>2237.138455</td>\n",
       "      <td>37.0</td>\n",
       "      <td>0.94</td>\n",
       "    </tr>\n",
       "    <tr>\n",
       "      <th>1.00</th>\n",
       "      <td>243.0</td>\n",
       "      <td>201.0</td>\n",
       "      <td>454.363204</td>\n",
       "      <td>424.0</td>\n",
       "      <td>124.0</td>\n",
       "      <td>8889.794236</td>\n",
       "      <td>4668.899349</td>\n",
       "      <td>908.458891</td>\n",
       "      <td>2237.150623</td>\n",
       "      <td>37.0</td>\n",
       "      <td>0.94</td>\n",
       "    </tr>\n",
       "  </tbody>\n",
       "</table>\n",
       "</div>"
      ],
      "text/plain": [
       "      sessions  drives  total_sessions  total_navigations_fav1  \\\n",
       "0.95     243.0   201.0      454.343512                   424.0   \n",
       "1.00     243.0   201.0      454.363204                   424.0   \n",
       "\n",
       "      total_navigations_fav2  driven_km_drives  duration_minutes_drives  \\\n",
       "0.95                   124.0       8889.777661              4668.821721   \n",
       "1.00                   124.0       8889.794236              4668.899349   \n",
       "\n",
       "      km_driven_per_drive  km_driven_per_driving_day  drives_per_driving_day  \\\n",
       "0.95           908.455073                2237.138455                    37.0   \n",
       "1.00           908.458891                2237.150623                    37.0   \n",
       "\n",
       "      percentage_of_sessions_last_month  \n",
       "0.95                               0.94  \n",
       "1.00                               0.94  "
      ]
     },
     "execution_count": 234,
     "metadata": {},
     "output_type": "execute_result"
    }
   ],
   "source": [
    "df_waze_0.quantile([0.95, 1], numeric_only = True)[num_cols_to_cut]"
   ]
  },
  {
   "cell_type": "markdown",
   "id": "bc5b2f99-2274-4562-8222-c7a0dacf2486",
   "metadata": {},
   "source": [
    "## <center> 3. Data exploration and hypothesis testing </center>"
   ]
  },
  {
   "cell_type": "code",
   "execution_count": 235,
   "id": "3288e165-4ca4-4646-86ae-d659cfe9eb90",
   "metadata": {},
   "outputs": [],
   "source": [
    "from scipy import stats"
   ]
  },
  {
   "cell_type": "markdown",
   "id": "830e6499-b262-45b9-9e78-76e522fb8302",
   "metadata": {},
   "source": [
    "Our task there will be to examine relationship between `device`    . However, `device` column is string, categorical variable. In order to conduct analysis, we need to change its type to integer."
   ]
  },
  {
   "cell_type": "code",
   "execution_count": 236,
   "id": "a17f2b34-534c-4a41-821a-65b7927ae98b",
   "metadata": {},
   "outputs": [
    {
     "data": {
      "text/plain": [
       "array(['Android', 'iPhone'], dtype=object)"
      ]
     },
     "execution_count": 236,
     "metadata": {},
     "output_type": "execute_result"
    }
   ],
   "source": [
    "df_waze_0[\"device\"].unique()"
   ]
  },
  {
   "cell_type": "code",
   "execution_count": 237,
   "id": "31035607-1578-4307-ac50-0fd7b0d4f35d",
   "metadata": {},
   "outputs": [],
   "source": [
    "map_dict = {\"iPhone\": 1, \"Android\": 2}"
   ]
  },
  {
   "cell_type": "code",
   "execution_count": 238,
   "id": "3d41c987-8753-4a39-9cf9-9733d3b4a491",
   "metadata": {},
   "outputs": [],
   "source": [
    "df_waze_0[\"device_int\"] = df_waze_0[\"device\"].map(map_dict)"
   ]
  },
  {
   "cell_type": "markdown",
   "id": "aa2993d6-18a1-43ea-a29c-8e25df0c007f",
   "metadata": {},
   "source": [
    "Now lets create a comparison of means of numeric columns in users grouped by device type."
   ]
  },
  {
   "cell_type": "code",
   "execution_count": 239,
   "id": "44743dad-6dbb-40ab-a0e8-0d02bf3753e8",
   "metadata": {},
   "outputs": [
    {
     "data": {
      "text/html": [
       "<div>\n",
       "<style scoped>\n",
       "    .dataframe tbody tr th:only-of-type {\n",
       "        vertical-align: middle;\n",
       "    }\n",
       "\n",
       "    .dataframe tbody tr th {\n",
       "        vertical-align: top;\n",
       "    }\n",
       "\n",
       "    .dataframe thead th {\n",
       "        text-align: right;\n",
       "    }\n",
       "</style>\n",
       "<table border=\"1\" class=\"dataframe\">\n",
       "  <thead>\n",
       "    <tr style=\"text-align: right;\">\n",
       "      <th></th>\n",
       "      <th>sessions</th>\n",
       "      <th>drives</th>\n",
       "      <th>total_sessions</th>\n",
       "      <th>n_days_after_onboarding</th>\n",
       "      <th>total_navigations_fav1</th>\n",
       "      <th>total_navigations_fav2</th>\n",
       "      <th>driven_km_drives</th>\n",
       "      <th>duration_minutes_drives</th>\n",
       "      <th>activity_days</th>\n",
       "      <th>driving_days</th>\n",
       "      <th>km_driven_per_drive</th>\n",
       "      <th>km_driven_per_driving_day</th>\n",
       "      <th>drives_per_driving_day</th>\n",
       "      <th>percentage_of_sessions_last_month</th>\n",
       "    </tr>\n",
       "    <tr>\n",
       "      <th>device_int</th>\n",
       "      <th></th>\n",
       "      <th></th>\n",
       "      <th></th>\n",
       "      <th></th>\n",
       "      <th></th>\n",
       "      <th></th>\n",
       "      <th></th>\n",
       "      <th></th>\n",
       "      <th></th>\n",
       "      <th></th>\n",
       "      <th></th>\n",
       "      <th></th>\n",
       "      <th></th>\n",
       "      <th></th>\n",
       "    </tr>\n",
       "  </thead>\n",
       "  <tbody>\n",
       "    <tr>\n",
       "      <th>1</th>\n",
       "      <td>77.090778</td>\n",
       "      <td>64.446340</td>\n",
       "      <td>184.912527</td>\n",
       "      <td>1740.824028</td>\n",
       "      <td>114.603081</td>\n",
       "      <td>27.155500</td>\n",
       "      <td>3938.767021</td>\n",
       "      <td>1782.653120</td>\n",
       "      <td>15.474979</td>\n",
       "      <td>12.159222</td>\n",
       "      <td>168.670556</td>\n",
       "      <td>482.262120</td>\n",
       "      <td>7.448506</td>\n",
       "      <td>0.448355</td>\n",
       "    </tr>\n",
       "    <tr>\n",
       "      <th>2</th>\n",
       "      <td>75.620800</td>\n",
       "      <td>63.353482</td>\n",
       "      <td>182.431351</td>\n",
       "      <td>1766.203679</td>\n",
       "      <td>114.074151</td>\n",
       "      <td>27.321006</td>\n",
       "      <td>3941.204654</td>\n",
       "      <td>1802.346681</td>\n",
       "      <td>15.649897</td>\n",
       "      <td>12.217383</td>\n",
       "      <td>165.781271</td>\n",
       "      <td>481.630152</td>\n",
       "      <td>7.299690</td>\n",
       "      <td>0.446974</td>\n",
       "    </tr>\n",
       "  </tbody>\n",
       "</table>\n",
       "</div>"
      ],
      "text/plain": [
       "             sessions     drives  total_sessions  n_days_after_onboarding  \\\n",
       "device_int                                                                  \n",
       "1           77.090778  64.446340      184.912527              1740.824028   \n",
       "2           75.620800  63.353482      182.431351              1766.203679   \n",
       "\n",
       "            total_navigations_fav1  total_navigations_fav2  driven_km_drives  \\\n",
       "device_int                                                                     \n",
       "1                       114.603081               27.155500       3938.767021   \n",
       "2                       114.074151               27.321006       3941.204654   \n",
       "\n",
       "            duration_minutes_drives  activity_days  driving_days  \\\n",
       "device_int                                                         \n",
       "1                       1782.653120      15.474979     12.159222   \n",
       "2                       1802.346681      15.649897     12.217383   \n",
       "\n",
       "            km_driven_per_drive  km_driven_per_driving_day  \\\n",
       "device_int                                                   \n",
       "1                    168.670556                 482.262120   \n",
       "2                    165.781271                 481.630152   \n",
       "\n",
       "            drives_per_driving_day  percentage_of_sessions_last_month  \n",
       "device_int                                                             \n",
       "1                         7.448506                           0.448355  \n",
       "2                         7.299690                           0.446974  "
      ]
     },
     "execution_count": 239,
     "metadata": {},
     "output_type": "execute_result"
    }
   ],
   "source": [
    "df_waze_0.groupby(\"device_int\").mean(numeric_only = True)"
   ]
  },
  {
   "cell_type": "markdown",
   "id": "ec5b5349-f768-428b-bf8e-0af53105eef8",
   "metadata": {},
   "source": [
    "We choose 3 numeric columns from above that we are interested in checking whether they are associated in significant way with `device` column. Those are `drives`, `km_driven_per_drive` and `drives_per_driving_day`."
   ]
  },
  {
   "cell_type": "code",
   "execution_count": 240,
   "id": "5592a27e-1f5f-4649-8d72-f27d72f529cb",
   "metadata": {},
   "outputs": [
    {
     "data": {
      "text/html": [
       "<div>\n",
       "<style scoped>\n",
       "    .dataframe tbody tr th:only-of-type {\n",
       "        vertical-align: middle;\n",
       "    }\n",
       "\n",
       "    .dataframe tbody tr th {\n",
       "        vertical-align: top;\n",
       "    }\n",
       "\n",
       "    .dataframe thead th {\n",
       "        text-align: right;\n",
       "    }\n",
       "</style>\n",
       "<table border=\"1\" class=\"dataframe\">\n",
       "  <thead>\n",
       "    <tr style=\"text-align: right;\">\n",
       "      <th></th>\n",
       "      <th>drives</th>\n",
       "      <th>km_driven_per_drive</th>\n",
       "      <th>drives_per_driving_day</th>\n",
       "    </tr>\n",
       "    <tr>\n",
       "      <th>device_int</th>\n",
       "      <th></th>\n",
       "      <th></th>\n",
       "      <th></th>\n",
       "    </tr>\n",
       "  </thead>\n",
       "  <tbody>\n",
       "    <tr>\n",
       "      <th>1</th>\n",
       "      <td>64.446340</td>\n",
       "      <td>168.670556</td>\n",
       "      <td>7.448506</td>\n",
       "    </tr>\n",
       "    <tr>\n",
       "      <th>2</th>\n",
       "      <td>63.353482</td>\n",
       "      <td>165.781271</td>\n",
       "      <td>7.299690</td>\n",
       "    </tr>\n",
       "  </tbody>\n",
       "</table>\n",
       "</div>"
      ],
      "text/plain": [
       "               drives  km_driven_per_drive  drives_per_driving_day\n",
       "device_int                                                        \n",
       "1           64.446340           168.670556                7.448506\n",
       "2           63.353482           165.781271                7.299690"
      ]
     },
     "execution_count": 240,
     "metadata": {},
     "output_type": "execute_result"
    }
   ],
   "source": [
    "df_waze_0.groupby(\"device_int\")[[\"drives\", \"km_driven_per_drive\", \"drives_per_driving_day\"]].mean()"
   ]
  },
  {
   "cell_type": "markdown",
   "id": "d8a826d1-d9bf-4837-b2d4-0c14914ae287",
   "metadata": {},
   "source": [
    "Based on the averages shown, it appears that drivers who use an iPhone device to interact with the application have a higher number of drives, higher distance per one drive and bigger number of drives per driving day on average. However, this differences might arise from random sampling, rather than being a true differences in the number of drives. To assess whether the differences are statistically significant, we can conduct a hypothesis tests."
   ]
  },
  {
   "cell_type": "markdown",
   "id": "bb3a7103-e090-4cbc-ac39-deb5c1d4a731",
   "metadata": {},
   "source": [
    "In the first place, we will focus on `drives` column"
   ]
  },
  {
   "cell_type": "markdown",
   "id": "c2f2d531-2d39-49c7-934a-f49f0030ecce",
   "metadata": {},
   "source": [
    "Our goal is to conduct a two-sample t-test. Lets recall the steps for conducting a hypothesis test:\n",
    "\n",
    "1.   State the null hypothesis and the alternative hypothesis\n",
    "2.   Choose a signficance level\n",
    "3.   Find the p-value\n",
    "4.   Reject or fail to reject the null hypothesis\n",
    "\n",
    "**Note:** This is a t-test for two independent samples. This is the appropriate test since the two groups are independent (Android users vs. iPhone users)."
   ]
  },
  {
   "cell_type": "markdown",
   "id": "c6b852b1-d9a6-4179-8874-37902b3ac791",
   "metadata": {},
   "source": [
    "\n",
    "**Hypotheses:**\n",
    "\n",
    "$H_0$: There is no difference in average number of drives between drivers who use iPhone devices and drivers who use Androids.\n",
    "\n",
    "$H_A$: There is a difference in average number of drives between drivers who use iPhone devices and drivers who use Androids."
   ]
  },
  {
   "cell_type": "markdown",
   "id": "46a70f74-2c34-4418-a0a5-6258b7ad1fc6",
   "metadata": {},
   "source": [
    "Next, lets choose standard value 5% as the significance level and proceed with a two-sample t-test.\n",
    "\n",
    "We can use the `stats.ttest_ind()` function to perform the test.\n",
    "\n",
    "**Technical note**: The default for the argument `equal_var` in `stats.ttest_ind()` is `True`, which assumes population variances are equal. This equal variance assumption might not hold in practice (that is, there is no strong reason to assume that the two groups have the same variance); you can relax this assumption by setting `equal_var` to `False`, and `stats.ttest_ind()` will perform the unequal variances $t$-test (known as Welch's `t`-test). Refer to the [scipy t-test documentation](https://docs.scipy.org/doc/scipy/reference/generated/scipy.stats.ttest_ind.html) for more information.\n",
    "\n",
    "\n",
    "1. Isolate the `drives` column for iPhone users.\n",
    "2. Isolate the `drives` column for Android users.\n",
    "3. Perform the t-test"
   ]
  },
  {
   "cell_type": "code",
   "execution_count": 241,
   "id": "e68e6ce4-2f4a-43ed-831e-911e925a5bab",
   "metadata": {},
   "outputs": [
    {
     "data": {
      "text/plain": [
       "TtestResult(statistic=np.float64(1.1643714136026293), pvalue=np.float64(0.24429844267242218), df=np.float64(11148.669519764011))"
      ]
     },
     "execution_count": 241,
     "metadata": {},
     "output_type": "execute_result"
    }
   ],
   "source": [
    "# 1. Isolate the `drives` column for iPhone users.\n",
    "iPhone_drives = df_waze_0[df_waze_0['device_int'] == 1]['drives']\n",
    "\n",
    "# 2. Isolate the `drives` column for Android users.\n",
    "Android_drives = df_waze_0[df_waze_0['device_int'] == 2]['drives']\n",
    "\n",
    "# 3. Perform the t-test\n",
    "stats.ttest_ind(a=iPhone_drives, b=Android_drives, equal_var=False)"
   ]
  },
  {
   "cell_type": "code",
   "execution_count": 242,
   "id": "b88cad15-e010-4820-a5d4-7a1e9c842945",
   "metadata": {
    "scrolled": true
   },
   "outputs": [],
   "source": [
    "statistic, pvalue = stats.ttest_ind(a=iPhone_drives, b=Android_drives, equal_var=False)"
   ]
  },
  {
   "cell_type": "markdown",
   "id": "99f91252-3373-4203-9f0d-ea92119eebef",
   "metadata": {},
   "source": [
    "Now lets define a function for code to be more reproducible."
   ]
  },
  {
   "cell_type": "code",
   "execution_count": 243,
   "id": "6db7917e-393b-45af-9ca3-05392ca40e9c",
   "metadata": {},
   "outputs": [],
   "source": [
    "def two_samples_ttest_ind(df_name_arg, col_cat_arg, col_num_arg, **kwargs):\n",
    "\n",
    "    if not isinstance(df_name_arg, pd.DataFrame):\n",
    "        print(\"Enter dataframe as first argument!\")\n",
    "        return \n",
    "\n",
    "    if not (col_cat_arg in df_name_arg.columns or col_cat_arg in df_name_arg.columns):\n",
    "        print(\"Enter a column name as second and thirdargument!\")\n",
    "        return\n",
    "\n",
    "    if not ptypes.is_numeric_dtype(df_name_arg[col_cat_arg]) :\n",
    "        print(\"Please enter numeric as second argument!\")\n",
    "        return\n",
    "\n",
    "    if not df_name_arg[col_cat_arg].nunique() == 2:\n",
    "        print(\"Please enter a column categorical that contains only 2 unique values!\")\n",
    "        return\n",
    "    \n",
    "    if not ptypes.is_numeric_dtype(df_name_arg[col_num_arg]) :\n",
    "        print(\"Please enter numeric column as third argument!\")\n",
    "        return\n",
    "\n",
    "    values = df_name_arg[col_cat_arg].unique()\n",
    "    \n",
    "    a_sample = df_name_arg[df_name_arg[col_cat_arg] == values[0]][col_num_arg]\n",
    "    b_sample = df_name_arg[df_name_arg[col_cat_arg] == values[1]][col_num_arg]\n",
    "\n",
    "    statistic, pvalue = stats.ttest_ind(a = a_sample, b = b_sample, equal_var=False)\n",
    "\n",
    "    print(\"Statistic value = {}, pvalue = {}\".format(round(statistic, 2), round(pvalue, 2)))\n",
    "        "
   ]
  },
  {
   "cell_type": "markdown",
   "id": "604ef918-a7c3-479d-8cc1-fe21da7e28f5",
   "metadata": {},
   "source": [
    "(1)"
   ]
  },
  {
   "cell_type": "code",
   "execution_count": 244,
   "id": "b6f3a5f0-5edf-4cc7-b478-fffe9868a166",
   "metadata": {},
   "outputs": [
    {
     "name": "stdout",
     "output_type": "stream",
     "text": [
      "Statistic value = -1.16, pvalue = 0.24\n"
     ]
    }
   ],
   "source": [
    "two_samples_ttest_ind(df_waze_0, \"device_int\", \"drives\")"
   ]
  },
  {
   "cell_type": "markdown",
   "id": "fb86bd9f-6345-4e41-b3c9-d8f9e60f8ee5",
   "metadata": {},
   "source": [
    "(2)"
   ]
  },
  {
   "cell_type": "code",
   "execution_count": 245,
   "id": "f94eb80d-3106-4c1a-bfc5-4cc2347f27d1",
   "metadata": {},
   "outputs": [
    {
     "name": "stdout",
     "output_type": "stream",
     "text": [
      "Statistic value = -0.74, pvalue = 0.46\n"
     ]
    }
   ],
   "source": [
    "two_samples_ttest_ind(df_waze_0, \"device_int\", \"km_driven_per_drive\")"
   ]
  },
  {
   "cell_type": "markdown",
   "id": "1d763d79-347e-430b-ba46-8db60adb144b",
   "metadata": {},
   "source": [
    "(3)"
   ]
  },
  {
   "cell_type": "code",
   "execution_count": 255,
   "id": "693a77e7-ffc5-4ac9-91da-8806748a0164",
   "metadata": {},
   "outputs": [
    {
     "name": "stdout",
     "output_type": "stream",
     "text": [
      "Statistic value = -0.69, pvalue = 0.49\n"
     ]
    }
   ],
   "source": [
    "two_samples_ttest_ind(df_waze_0, \"device_int\", \"drives_per_driving_day\")"
   ]
  },
  {
   "cell_type": "markdown",
   "id": "a7a5117f-8264-4e69-a130-34726884c092",
   "metadata": {},
   "source": [
    "In all three cases above we see that pvalues are bigger than significance level = 0.05, as a result *we fail to reject null hypothesis*, therefore we conclude that there is **not** a statistically significant difference in the average number of drives (1), in the average distance driven per drive (2), and in the number of driver per each driving day (3) between drivers who use iPhones and drivers who use Androids."
   ]
  },
  {
   "cell_type": "markdown",
   "id": "f2eb678f-3a06-448b-a8ef-b5a2b2e323ca",
   "metadata": {},
   "source": [
    "## <center>  4. Regression modeling   </center>"
   ]
  },
  {
   "cell_type": "markdown",
   "id": "5eb0d6fa-d08c-456d-b6ac-f7231fd1c1c9",
   "metadata": {},
   "source": [
    "#### Handling missing values"
   ]
  },
  {
   "cell_type": "code",
   "execution_count": 261,
   "id": "74e658a6-93f2-409d-a8c1-01f08a86c18d",
   "metadata": {},
   "outputs": [
    {
     "data": {
      "text/plain": [
       "label                                700\n",
       "sessions                               0\n",
       "drives                                 0\n",
       "total_sessions                         0\n",
       "n_days_after_onboarding                0\n",
       "total_navigations_fav1                 0\n",
       "total_navigations_fav2                 0\n",
       "driven_km_drives                       0\n",
       "duration_minutes_drives                0\n",
       "activity_days                          0\n",
       "driving_days                           0\n",
       "device                                 0\n",
       "km_driven_per_drive                    0\n",
       "km_driven_per_driving_day              0\n",
       "drives_per_driving_day                 0\n",
       "percentage_of_sessions_last_month      0\n",
       "device_int                             0\n",
       "dtype: int64"
      ]
     },
     "execution_count": 261,
     "metadata": {},
     "output_type": "execute_result"
    }
   ],
   "source": [
    "df_waze_0.isna().sum()"
   ]
  },
  {
   "cell_type": "markdown",
   "id": "231b1248-b409-46e1-b064-596f7e6f39f3",
   "metadata": {},
   "source": [
    "Earlier we discovered that there are 700 missing values in `label` column. It is key, target column, therefore we need to handle those missing values. After further analysis, we concluded that there were not any clear patterns to observations where `label` value was missing, so we decide to just delete rows where `label` is missing from further analysis and modeling."
   ]
  },
  {
   "cell_type": "code",
   "execution_count": 262,
   "id": "ddb7f0cc-488b-4343-956a-4698ced60289",
   "metadata": {},
   "outputs": [],
   "source": [
    "df_waze_1 = df_waze_0[~df_waze_0[\"label\"].isna()]"
   ]
  },
  {
   "cell_type": "code",
   "execution_count": 267,
   "id": "b098a1a7-8c6a-4f0b-9464-689ecd93a030",
   "metadata": {},
   "outputs": [
    {
     "data": {
      "text/plain": [
       "(14299, 17)"
      ]
     },
     "execution_count": 267,
     "metadata": {},
     "output_type": "execute_result"
    }
   ],
   "source": [
    "df_waze_1.shape"
   ]
  },
  {
   "cell_type": "code",
   "execution_count": 266,
   "id": "4d338739-cf03-49d4-a278-7ab42e68ddad",
   "metadata": {},
   "outputs": [
    {
     "data": {
      "text/plain": [
       "label                                0\n",
       "sessions                             0\n",
       "drives                               0\n",
       "total_sessions                       0\n",
       "n_days_after_onboarding              0\n",
       "total_navigations_fav1               0\n",
       "total_navigations_fav2               0\n",
       "driven_km_drives                     0\n",
       "duration_minutes_drives              0\n",
       "activity_days                        0\n",
       "driving_days                         0\n",
       "device                               0\n",
       "km_driven_per_drive                  0\n",
       "km_driven_per_driving_day            0\n",
       "drives_per_driving_day               0\n",
       "percentage_of_sessions_last_month    0\n",
       "device_int                           0\n",
       "dtype: int64"
      ]
     },
     "execution_count": 266,
     "metadata": {},
     "output_type": "execute_result"
    }
   ],
   "source": [
    "df_waze_1.isna().sum()"
   ]
  },
  {
   "cell_type": "markdown",
   "id": "9b95381e-abcf-4ec3-98a8-868a977f459b",
   "metadata": {},
   "source": [
    "We checked to ensure that our cut dataframe contains correct number of observations."
   ]
  },
  {
   "cell_type": "markdown",
   "id": "2a1f20aa-b538-41fe-bc36-8db08d130c60",
   "metadata": {},
   "source": [
    "Now lets import necessary packages for building a logistic regression model."
   ]
  },
  {
   "cell_type": "code",
   "execution_count": 268,
   "id": "c50d64c2-d2f4-46da-a1aa-7c544f4183f6",
   "metadata": {},
   "outputs": [],
   "source": [
    "# Packages for Logistic Regression & Confusion Matrix\n",
    "from sklearn.preprocessing import StandardScaler, OneHotEncoder\n",
    "from sklearn.model_selection import train_test_split\n",
    "from sklearn.metrics import classification_report, accuracy_score, precision_score, \\\n",
    "recall_score, f1_score, confusion_matrix, ConfusionMatrixDisplay\n",
    "from sklearn.linear_model import LogisticRegression"
   ]
  },
  {
   "cell_type": "markdown",
   "id": "446015b1-4156-4c8e-85c5-e9ac1cae43bc",
   "metadata": {},
   "source": [
    "We have already identified and handled outliers (cut to 0.95 percentiles) and handled missing values. Also, we have already created some new columns that could be useful:\n",
    "- `km_driven_per_drive`\n",
    "- `km_driven_per_driving_day`\n",
    "- `drives_per_driving_day`\n",
    "- `percentage_of_sessions_last_month`"
   ]
  },
  {
   "cell_type": "code",
   "execution_count": 271,
   "id": "a6a65986-787d-4b32-b714-e922a2ad1554",
   "metadata": {},
   "outputs": [
    {
     "data": {
      "text/html": [
       "<div>\n",
       "<style scoped>\n",
       "    .dataframe tbody tr th:only-of-type {\n",
       "        vertical-align: middle;\n",
       "    }\n",
       "\n",
       "    .dataframe tbody tr th {\n",
       "        vertical-align: top;\n",
       "    }\n",
       "\n",
       "    .dataframe thead th {\n",
       "        text-align: right;\n",
       "    }\n",
       "</style>\n",
       "<table border=\"1\" class=\"dataframe\">\n",
       "  <thead>\n",
       "    <tr style=\"text-align: right;\">\n",
       "      <th></th>\n",
       "      <th>label</th>\n",
       "      <th>sessions</th>\n",
       "      <th>drives</th>\n",
       "      <th>total_sessions</th>\n",
       "      <th>n_days_after_onboarding</th>\n",
       "      <th>total_navigations_fav1</th>\n",
       "      <th>total_navigations_fav2</th>\n",
       "      <th>driven_km_drives</th>\n",
       "      <th>duration_minutes_drives</th>\n",
       "      <th>activity_days</th>\n",
       "      <th>driving_days</th>\n",
       "      <th>device</th>\n",
       "      <th>km_driven_per_drive</th>\n",
       "      <th>km_driven_per_driving_day</th>\n",
       "      <th>drives_per_driving_day</th>\n",
       "      <th>percentage_of_sessions_last_month</th>\n",
       "      <th>device_int</th>\n",
       "    </tr>\n",
       "  </thead>\n",
       "  <tbody>\n",
       "    <tr>\n",
       "      <th>0</th>\n",
       "      <td>retained</td>\n",
       "      <td>243</td>\n",
       "      <td>201</td>\n",
       "      <td>296.748273</td>\n",
       "      <td>2276</td>\n",
       "      <td>208</td>\n",
       "      <td>0</td>\n",
       "      <td>2628.845068</td>\n",
       "      <td>1985.775061</td>\n",
       "      <td>28</td>\n",
       "      <td>19</td>\n",
       "      <td>Android</td>\n",
       "      <td>11.632058</td>\n",
       "      <td>138.360267</td>\n",
       "      <td>10.578947</td>\n",
       "      <td>0.82</td>\n",
       "      <td>2</td>\n",
       "    </tr>\n",
       "    <tr>\n",
       "      <th>1</th>\n",
       "      <td>retained</td>\n",
       "      <td>133</td>\n",
       "      <td>107</td>\n",
       "      <td>326.896596</td>\n",
       "      <td>1225</td>\n",
       "      <td>19</td>\n",
       "      <td>64</td>\n",
       "      <td>8889.794236</td>\n",
       "      <td>3160.472914</td>\n",
       "      <td>13</td>\n",
       "      <td>11</td>\n",
       "      <td>iPhone</td>\n",
       "      <td>128.186173</td>\n",
       "      <td>1246.901868</td>\n",
       "      <td>9.727273</td>\n",
       "      <td>0.41</td>\n",
       "      <td>1</td>\n",
       "    </tr>\n",
       "    <tr>\n",
       "      <th>2</th>\n",
       "      <td>retained</td>\n",
       "      <td>114</td>\n",
       "      <td>95</td>\n",
       "      <td>135.522926</td>\n",
       "      <td>2651</td>\n",
       "      <td>0</td>\n",
       "      <td>0</td>\n",
       "      <td>3059.148818</td>\n",
       "      <td>1610.735904</td>\n",
       "      <td>14</td>\n",
       "      <td>8</td>\n",
       "      <td>Android</td>\n",
       "      <td>32.201567</td>\n",
       "      <td>382.393602</td>\n",
       "      <td>11.875000</td>\n",
       "      <td>0.84</td>\n",
       "      <td>2</td>\n",
       "    </tr>\n",
       "  </tbody>\n",
       "</table>\n",
       "</div>"
      ],
      "text/plain": [
       "      label  sessions  drives  total_sessions  n_days_after_onboarding  \\\n",
       "0  retained       243     201      296.748273                     2276   \n",
       "1  retained       133     107      326.896596                     1225   \n",
       "2  retained       114      95      135.522926                     2651   \n",
       "\n",
       "   total_navigations_fav1  total_navigations_fav2  driven_km_drives  \\\n",
       "0                     208                       0       2628.845068   \n",
       "1                      19                      64       8889.794236   \n",
       "2                       0                       0       3059.148818   \n",
       "\n",
       "   duration_minutes_drives  activity_days  driving_days   device  \\\n",
       "0              1985.775061             28            19  Android   \n",
       "1              3160.472914             13            11   iPhone   \n",
       "2              1610.735904             14             8  Android   \n",
       "\n",
       "   km_driven_per_drive  km_driven_per_driving_day  drives_per_driving_day  \\\n",
       "0            11.632058                 138.360267               10.578947   \n",
       "1           128.186173                1246.901868                9.727273   \n",
       "2            32.201567                 382.393602               11.875000   \n",
       "\n",
       "   percentage_of_sessions_last_month  device_int  \n",
       "0                               0.82           2  \n",
       "1                               0.41           1  \n",
       "2                               0.84           2  "
      ]
     },
     "execution_count": 271,
     "metadata": {},
     "output_type": "execute_result"
    }
   ],
   "source": [
    "df_waze_1.head(3)"
   ]
  },
  {
   "cell_type": "markdown",
   "id": "bde5bb20-f35a-45f3-bac6-ba346b26b327",
   "metadata": {},
   "source": [
    "Lets create new column `average_speed_driven`, (speed in km/h) dividing `driven_km_drives` by `duration_hours_drives`."
   ]
  },
  {
   "cell_type": "code",
   "execution_count": 283,
   "id": "84ba74b1-8912-439f-b53a-1bc88be79c24",
   "metadata": {},
   "outputs": [],
   "source": [
    "df_waze_1[\"duration_hours_drives\"] = df_waze_1[\"duration_minutes_drives\"] / 60"
   ]
  },
  {
   "cell_type": "code",
   "execution_count": 300,
   "id": "b9470258-c4d3-4902-a5a8-8c2e46d8e969",
   "metadata": {},
   "outputs": [],
   "source": [
    "df_waze_1.drop(\"duration_hours_drives\", axis = 1, inplace = True)"
   ]
  },
  {
   "cell_type": "code",
   "execution_count": 285,
   "id": "8f42cccb-dffd-402b-9dba-5414b3f8ecd2",
   "metadata": {},
   "outputs": [],
   "source": [
    "df_waze_1[\"average_speed_by_drive_kmh\"] = df_waze_1[\"driven_km_drives\"] / df_waze_1[\"duration_hours_drives\"]"
   ]
  },
  {
   "cell_type": "code",
   "execution_count": 287,
   "id": "6bf69a78-bd51-4897-a1fa-ee53657e5133",
   "metadata": {
    "scrolled": true
   },
   "outputs": [
    {
     "data": {
      "image/png": "[encoded data removed]",
      "text/plain": [
       "<Figure size 600x150 with 1 Axes>"
      ]
     },
     "metadata": {},
     "output_type": "display_data"
    }
   ],
   "source": [
    "boxplot_sns(df_waze_1, \"average_speed_by_drive_kmh\", figsize_arg = (6, 1.5))"
   ]
  },
  {
   "cell_type": "markdown",
   "id": "e1eb7a27-c9f1-4529-a444-45fb755bdcc4",
   "metadata": {},
   "source": [
    "As we can see above, there is some really strange data. We see some values reaching few thousands km/h, and maximum of almost 22 000 km/h. Obviously, that cannot be true, so we assume that there is some issue with data or there is lack of additional information about `\"duration_minutes_drives` or `driven_km_drives` column. For more information about scale of inaccurate data, lets calculate quantiles of average speed column:"
   ]
  },
  {
   "cell_type": "code",
   "execution_count": 301,
   "id": "845bef95-8631-4ce8-ad6a-fc1affecae62",
   "metadata": {},
   "outputs": [
    {
     "data": {
      "text/plain": [
       "0.60      141.234655\n",
       "0.61      143.702738\n",
       "0.62      145.785760\n",
       "0.63      148.606069\n",
       "0.64      151.690253\n",
       "0.65      154.214624\n",
       "0.66      156.679776\n",
       "0.67      160.106741\n",
       "0.68      163.812680\n",
       "0.69      167.767385\n",
       "0.70      170.855938\n",
       "0.71      174.031647\n",
       "0.72      178.028781\n",
       "0.73      181.919651\n",
       "0.74      186.714177\n",
       "0.75      191.157779\n",
       "0.76      196.308525\n",
       "0.77      201.444392\n",
       "0.78      206.725387\n",
       "0.79      212.122154\n",
       "0.80      218.904988\n",
       "0.81      226.147567\n",
       "0.82      233.371784\n",
       "0.83      242.652367\n",
       "0.84      251.946473\n",
       "0.85      262.051735\n",
       "0.86      272.628170\n",
       "0.87      284.663238\n",
       "0.88      297.478528\n",
       "0.89      312.129652\n",
       "0.90      329.478160\n",
       "0.91      349.378838\n",
       "0.92      373.808138\n",
       "0.93      399.886052\n",
       "0.94      434.905804\n",
       "0.95      478.997285\n",
       "0.96      533.492207\n",
       "0.97      626.382040\n",
       "0.98      785.465722\n",
       "0.99     1172.984343\n",
       "1.00    21800.540069\n",
       "Name: average_speed_by_drive_kmh, dtype: float64"
      ]
     },
     "execution_count": 301,
     "metadata": {},
     "output_type": "execute_result"
    }
   ],
   "source": [
    "df_waze_1[\"average_speed_by_drive_kmh\"].quantile([x * 0.01 for x in range (60,101)])"
   ]
  },
  {
   "cell_type": "markdown",
   "id": "edafc64c-ffb0-44e7-a99d-f6b52f6330ad",
   "metadata": {},
   "source": [
    "We see that even third quartile is more than 191 km/h, which is very high speed, and probably it is not true. Therefore we abandon the idea of including this column in our model as well as two variables included to calculate this column"
   ]
  },
  {
   "cell_type": "markdown",
   "id": "d71ebb54-d5dc-4ad9-b5f8-b8c8ce8a41f5",
   "metadata": {},
   "source": [
    "Lets create a column `professional driver` indicating whether the driver passes our conditions of driving a lot so he is included in our group. The next step will be to determine some conditions that would be helpful."
   ]
  },
  {
   "cell_type": "markdown",
   "id": "8d93c961-90d1-4c56-93ac-e4a95fa7c618",
   "metadata": {},
   "source": [
    "Lets start with 13 driving days and 50 drives. We will check if certain user had `driving_days` >= 13 and `drives` >= 50."
   ]
  },
  {
   "cell_type": "code",
   "execution_count": 305,
   "id": "6b63a27f-8770-460d-99ae-c91cbb5b9622",
   "metadata": {},
   "outputs": [],
   "source": [
    "df_waze_1[\"professional_driver\"] = np.where((df_waze_1[\"driving_days\"] >= 13) & (df_waze_1[\"drives\"] >= 50),  1 , 0)"
   ]
  },
  {
   "cell_type": "code",
   "execution_count": 309,
   "id": "cc4a2b46-b6de-47f3-a620-5c636e6430d1",
   "metadata": {},
   "outputs": [
    {
     "data": {
      "text/plain": [
       "np.float64(0.2369)"
      ]
     },
     "execution_count": 309,
     "metadata": {},
     "output_type": "execute_result"
    }
   ],
   "source": [
    "df_waze_1[\"professional_driver\"].mean().round(decimals = 4)"
   ]
  },
  {
   "cell_type": "code",
   "execution_count": 311,
   "id": "94adcff1-c17b-4a0a-a01d-19b1769fb50a",
   "metadata": {
    "scrolled": true
   },
   "outputs": [
    {
     "data": {
      "text/plain": [
       "np.float64(0.4851)"
      ]
     },
     "execution_count": 311,
     "metadata": {},
     "output_type": "execute_result"
    }
   ],
   "source": [
    "(df_waze_1[\"driving_days\"] >= 13).mean().round(decimals = 4)"
   ]
  },
  {
   "cell_type": "code",
   "execution_count": 312,
   "id": "8e96713c-92f5-4bd8-9f93-3532fc6d4fc3",
   "metadata": {},
   "outputs": [
    {
     "data": {
      "text/plain": [
       "np.float64(0.4875)"
      ]
     },
     "execution_count": 312,
     "metadata": {},
     "output_type": "execute_result"
    }
   ],
   "source": [
    "(df_waze_1[\"drives\"] >= 50).mean().round(decimals=4)"
   ]
  },
  {
   "cell_type": "markdown",
   "id": "157777f7-72bc-4b48-880f-d6b7f5d7fed4",
   "metadata": {},
   "source": [
    "We see that with our implemented conditions, we got over 23,5% users classified as professional drivers. We checked that it is not the case that one of conditions filter a lot more than another, they just combine well together. As we are ok with those results, we dedcide to make this column like this without further modifications."
   ]
  },
  {
   "cell_type": "code",
   "execution_count": 314,
   "id": "b1395843-7091-4d68-b4a4-cc620251d377",
   "metadata": {},
   "outputs": [
    {
     "data": {
      "text/plain": [
       "professional_driver\n",
       "0    10911\n",
       "1     3388\n",
       "Name: count, dtype: int64"
      ]
     },
     "execution_count": 314,
     "metadata": {},
     "output_type": "execute_result"
    }
   ],
   "source": [
    "# 1. Check count of professionals and non-professionals\n",
    "df_waze_1['professional_driver'].value_counts()"
   ]
  },
  {
   "cell_type": "code",
   "execution_count": 315,
   "id": "1ddb0942-a289-423e-bb69-5f2ccde17e49",
   "metadata": {
    "scrolled": true
   },
   "outputs": [
    {
     "data": {
      "text/plain": [
       "professional_driver  label   \n",
       "0                    retained    0.791770\n",
       "                     churned     0.208230\n",
       "1                    retained    0.922078\n",
       "                     churned     0.077922\n",
       "Name: proportion, dtype: float64"
      ]
     },
     "execution_count": 315,
     "metadata": {},
     "output_type": "execute_result"
    }
   ],
   "source": [
    "# 2. Check in-class churn rate\n",
    "df_waze_1.groupby(['professional_driver'])['label'].value_counts(normalize=True)"
   ]
  },
  {
   "cell_type": "markdown",
   "id": "68fb54bb-71e7-4a6e-8e64-7bd250dfa84e",
   "metadata": {},
   "source": [
    "The churn rate for professional drivers is 7.8%, while the churn rate for non-professionals is 20.8%. This seems like it could add predictive signal to the model."
   ]
  },
  {
   "cell_type": "markdown",
   "id": "6c30ab5f-24c9-4e54-8d55-172c974cd85a",
   "metadata": {},
   "source": [
    "Before, we have already transformed `device` column to integer values. Now we will do the same thing with our target variable `label`"
   ]
  },
  {
   "cell_type": "code",
   "execution_count": 319,
   "id": "347e17aa-e246-4372-9920-b7cb7b149f94",
   "metadata": {},
   "outputs": [],
   "source": [
    "dict_map = {\"retained\": 1, \"churned\": 2}"
   ]
  },
  {
   "cell_type": "code",
   "execution_count": 320,
   "id": "bc601fa2-6891-494c-a151-41f020eb1175",
   "metadata": {},
   "outputs": [],
   "source": [
    "df_waze_1[\"label_int\"] = df_waze_1[\"label\"].map(dict_map)"
   ]
  },
  {
   "cell_type": "markdown",
   "id": "7cf19574-b88b-4d4c-a9da-3f40ab42579f",
   "metadata": {},
   "source": [
    "Lets create a dataset `df_waze_2` including only numeric columns."
   ]
  },
  {
   "cell_type": "code",
   "execution_count": 329,
   "id": "f1bfc17c-5d8e-4986-ba36-11fb063e2003",
   "metadata": {},
   "outputs": [],
   "source": [
    "df_waze_2 = df_waze_1.select_dtypes(include = 'number')"
   ]
  },
  {
   "cell_type": "markdown",
   "id": "da025dab-fe24-4d5f-a29b-ceb4122eecd0",
   "metadata": {},
   "source": [
    "### **Task 3b. Determine whether assumptions have been met**\n",
    "\n",
    "The following are the assumptions for logistic regression:\n",
    "\n",
    "* Independent observations (This refers to how the data was collected.)\n",
    "\n",
    "* No extreme outliers\n",
    "\n",
    "* Little to no multicollinearity among X predictors\n",
    "\n",
    "* Linear relationship between X and the **logit** of y\n",
    "\n",
    "For the first assumption, we can assume that observations are independent for this project.\n",
    "\n",
    "The second assumption has already been addressed.\n",
    "\n",
    "The last assumption will be verified after modeling.\n",
    "\n",
    "**Note:** In practice, modeling assumptions are often violated, and depending on the specifics of your use case and the severity of the violation, it might not affect your model much at all or it will result in a failed model."
   ]
  },
  {
   "cell_type": "markdown",
   "id": "626d363b-aea4-4eed-9e8f-aa15536eedff",
   "metadata": {},
   "source": [
    "#### **Collinearity**\n",
    "\n",
    "Check the correlation among predictor variables. First, generate a correlation matrix."
   ]
  },
  {
   "cell_type": "code",
   "execution_count": 334,
   "id": "80a11a7e-11a2-4f53-8039-13f52d8818e6",
   "metadata": {},
   "outputs": [
    {
     "data": {
      "text/html": [
       "<div>\n",
       "<style scoped>\n",
       "    .dataframe tbody tr th:only-of-type {\n",
       "        vertical-align: middle;\n",
       "    }\n",
       "\n",
       "    .dataframe tbody tr th {\n",
       "        vertical-align: top;\n",
       "    }\n",
       "\n",
       "    .dataframe thead th {\n",
       "        text-align: right;\n",
       "    }\n",
       "</style>\n",
       "<table border=\"1\" class=\"dataframe\">\n",
       "  <thead>\n",
       "    <tr style=\"text-align: right;\">\n",
       "      <th></th>\n",
       "      <th>sessions</th>\n",
       "      <th>drives</th>\n",
       "      <th>total_sessions</th>\n",
       "      <th>n_days_after_onboarding</th>\n",
       "      <th>total_navigations_fav1</th>\n",
       "      <th>total_navigations_fav2</th>\n",
       "      <th>driven_km_drives</th>\n",
       "      <th>duration_minutes_drives</th>\n",
       "      <th>activity_days</th>\n",
       "      <th>driving_days</th>\n",
       "      <th>km_driven_per_drive</th>\n",
       "      <th>km_driven_per_driving_day</th>\n",
       "      <th>drives_per_driving_day</th>\n",
       "      <th>percentage_of_sessions_last_month</th>\n",
       "      <th>device_int</th>\n",
       "      <th>average_speed_by_drive_kmh</th>\n",
       "      <th>professional_driver</th>\n",
       "      <th>label_int</th>\n",
       "    </tr>\n",
       "  </thead>\n",
       "  <tbody>\n",
       "    <tr>\n",
       "      <th>sessions</th>\n",
       "      <td>1.000</td>\n",
       "      <td>0.997</td>\n",
       "      <td>0.597</td>\n",
       "      <td>0.007</td>\n",
       "      <td>0.002</td>\n",
       "      <td>0.009</td>\n",
       "      <td>0.003</td>\n",
       "      <td>-0.005</td>\n",
       "      <td>0.025</td>\n",
       "      <td>0.020</td>\n",
       "      <td>-0.535</td>\n",
       "      <td>-0.008</td>\n",
       "      <td>0.424</td>\n",
       "      <td>0.576</td>\n",
       "      <td>-0.013</td>\n",
       "      <td>0.007</td>\n",
       "      <td>0.453</td>\n",
       "      <td>0.035</td>\n",
       "    </tr>\n",
       "    <tr>\n",
       "      <th>drives</th>\n",
       "      <td>0.997</td>\n",
       "      <td>1.000</td>\n",
       "      <td>0.596</td>\n",
       "      <td>0.007</td>\n",
       "      <td>0.001</td>\n",
       "      <td>0.010</td>\n",
       "      <td>0.003</td>\n",
       "      <td>-0.004</td>\n",
       "      <td>0.024</td>\n",
       "      <td>0.020</td>\n",
       "      <td>-0.539</td>\n",
       "      <td>-0.007</td>\n",
       "      <td>0.425</td>\n",
       "      <td>0.575</td>\n",
       "      <td>-0.012</td>\n",
       "      <td>0.006</td>\n",
       "      <td>0.453</td>\n",
       "      <td>0.036</td>\n",
       "    </tr>\n",
       "    <tr>\n",
       "      <th>total_sessions</th>\n",
       "      <td>0.597</td>\n",
       "      <td>0.596</td>\n",
       "      <td>1.000</td>\n",
       "      <td>0.007</td>\n",
       "      <td>0.000</td>\n",
       "      <td>0.010</td>\n",
       "      <td>0.001</td>\n",
       "      <td>-0.000</td>\n",
       "      <td>0.016</td>\n",
       "      <td>0.013</td>\n",
       "      <td>-0.312</td>\n",
       "      <td>-0.008</td>\n",
       "      <td>0.245</td>\n",
       "      <td>-0.151</td>\n",
       "      <td>-0.012</td>\n",
       "      <td>0.003</td>\n",
       "      <td>0.260</td>\n",
       "      <td>0.025</td>\n",
       "    </tr>\n",
       "    <tr>\n",
       "      <th>n_days_after_onboarding</th>\n",
       "      <td>0.007</td>\n",
       "      <td>0.007</td>\n",
       "      <td>0.007</td>\n",
       "      <td>1.000</td>\n",
       "      <td>-0.002</td>\n",
       "      <td>-0.005</td>\n",
       "      <td>-0.005</td>\n",
       "      <td>-0.010</td>\n",
       "      <td>-0.009</td>\n",
       "      <td>-0.007</td>\n",
       "      <td>0.003</td>\n",
       "      <td>0.011</td>\n",
       "      <td>-0.000</td>\n",
       "      <td>-0.001</td>\n",
       "      <td>0.011</td>\n",
       "      <td>0.011</td>\n",
       "      <td>0.004</td>\n",
       "      <td>-0.129</td>\n",
       "    </tr>\n",
       "    <tr>\n",
       "      <th>total_navigations_fav1</th>\n",
       "      <td>0.002</td>\n",
       "      <td>0.001</td>\n",
       "      <td>0.000</td>\n",
       "      <td>-0.002</td>\n",
       "      <td>1.000</td>\n",
       "      <td>0.003</td>\n",
       "      <td>-0.007</td>\n",
       "      <td>0.006</td>\n",
       "      <td>0.011</td>\n",
       "      <td>0.010</td>\n",
       "      <td>-0.010</td>\n",
       "      <td>-0.001</td>\n",
       "      <td>0.012</td>\n",
       "      <td>0.015</td>\n",
       "      <td>0.001</td>\n",
       "      <td>-0.012</td>\n",
       "      <td>0.003</td>\n",
       "      <td>0.052</td>\n",
       "    </tr>\n",
       "    <tr>\n",
       "      <th>total_navigations_fav2</th>\n",
       "      <td>0.009</td>\n",
       "      <td>0.010</td>\n",
       "      <td>0.010</td>\n",
       "      <td>-0.005</td>\n",
       "      <td>0.003</td>\n",
       "      <td>1.000</td>\n",
       "      <td>0.004</td>\n",
       "      <td>-0.003</td>\n",
       "      <td>-0.004</td>\n",
       "      <td>0.002</td>\n",
       "      <td>-0.005</td>\n",
       "      <td>-0.003</td>\n",
       "      <td>0.001</td>\n",
       "      <td>0.001</td>\n",
       "      <td>0.000</td>\n",
       "      <td>0.009</td>\n",
       "      <td>0.011</td>\n",
       "      <td>0.015</td>\n",
       "    </tr>\n",
       "    <tr>\n",
       "      <th>driven_km_drives</th>\n",
       "      <td>0.003</td>\n",
       "      <td>0.003</td>\n",
       "      <td>0.001</td>\n",
       "      <td>-0.005</td>\n",
       "      <td>-0.007</td>\n",
       "      <td>0.004</td>\n",
       "      <td>1.000</td>\n",
       "      <td>0.691</td>\n",
       "      <td>-0.007</td>\n",
       "      <td>-0.010</td>\n",
       "      <td>0.318</td>\n",
       "      <td>0.411</td>\n",
       "      <td>0.012</td>\n",
       "      <td>-0.003</td>\n",
       "      <td>0.002</td>\n",
       "      <td>0.095</td>\n",
       "      <td>-0.003</td>\n",
       "      <td>0.020</td>\n",
       "    </tr>\n",
       "    <tr>\n",
       "      <th>duration_minutes_drives</th>\n",
       "      <td>-0.005</td>\n",
       "      <td>-0.004</td>\n",
       "      <td>-0.000</td>\n",
       "      <td>-0.010</td>\n",
       "      <td>0.006</td>\n",
       "      <td>-0.003</td>\n",
       "      <td>0.691</td>\n",
       "      <td>1.000</td>\n",
       "      <td>-0.008</td>\n",
       "      <td>-0.009</td>\n",
       "      <td>0.228</td>\n",
       "      <td>0.288</td>\n",
       "      <td>0.005</td>\n",
       "      <td>-0.008</td>\n",
       "      <td>0.008</td>\n",
       "      <td>-0.257</td>\n",
       "      <td>-0.007</td>\n",
       "      <td>0.040</td>\n",
       "    </tr>\n",
       "    <tr>\n",
       "      <th>activity_days</th>\n",
       "      <td>0.025</td>\n",
       "      <td>0.024</td>\n",
       "      <td>0.016</td>\n",
       "      <td>-0.009</td>\n",
       "      <td>0.011</td>\n",
       "      <td>-0.004</td>\n",
       "      <td>-0.007</td>\n",
       "      <td>-0.008</td>\n",
       "      <td>1.000</td>\n",
       "      <td>0.948</td>\n",
       "      <td>-0.015</td>\n",
       "      <td>-0.490</td>\n",
       "      <td>-0.340</td>\n",
       "      <td>0.016</td>\n",
       "      <td>0.010</td>\n",
       "      <td>-0.012</td>\n",
       "      <td>0.489</td>\n",
       "      <td>-0.304</td>\n",
       "    </tr>\n",
       "    <tr>\n",
       "      <th>driving_days</th>\n",
       "      <td>0.020</td>\n",
       "      <td>0.020</td>\n",
       "      <td>0.013</td>\n",
       "      <td>-0.007</td>\n",
       "      <td>0.010</td>\n",
       "      <td>0.002</td>\n",
       "      <td>-0.010</td>\n",
       "      <td>-0.009</td>\n",
       "      <td>0.948</td>\n",
       "      <td>1.000</td>\n",
       "      <td>-0.012</td>\n",
       "      <td>-0.504</td>\n",
       "      <td>-0.350</td>\n",
       "      <td>0.011</td>\n",
       "      <td>0.004</td>\n",
       "      <td>-0.010</td>\n",
       "      <td>0.500</td>\n",
       "      <td>-0.294</td>\n",
       "    </tr>\n",
       "    <tr>\n",
       "      <th>km_driven_per_drive</th>\n",
       "      <td>-0.535</td>\n",
       "      <td>-0.539</td>\n",
       "      <td>-0.312</td>\n",
       "      <td>0.003</td>\n",
       "      <td>-0.010</td>\n",
       "      <td>-0.005</td>\n",
       "      <td>0.318</td>\n",
       "      <td>0.228</td>\n",
       "      <td>-0.015</td>\n",
       "      <td>-0.012</td>\n",
       "      <td>1.000</td>\n",
       "      <td>0.148</td>\n",
       "      <td>-0.229</td>\n",
       "      <td>-0.489</td>\n",
       "      <td>-0.004</td>\n",
       "      <td>0.022</td>\n",
       "      <td>-0.298</td>\n",
       "      <td>-0.013</td>\n",
       "    </tr>\n",
       "    <tr>\n",
       "      <th>km_driven_per_driving_day</th>\n",
       "      <td>-0.008</td>\n",
       "      <td>-0.007</td>\n",
       "      <td>-0.008</td>\n",
       "      <td>0.011</td>\n",
       "      <td>-0.001</td>\n",
       "      <td>-0.003</td>\n",
       "      <td>0.411</td>\n",
       "      <td>0.288</td>\n",
       "      <td>-0.490</td>\n",
       "      <td>-0.504</td>\n",
       "      <td>0.148</td>\n",
       "      <td>1.000</td>\n",
       "      <td>0.558</td>\n",
       "      <td>-0.005</td>\n",
       "      <td>-0.001</td>\n",
       "      <td>0.055</td>\n",
       "      <td>-0.259</td>\n",
       "      <td>0.177</td>\n",
       "    </tr>\n",
       "    <tr>\n",
       "      <th>drives_per_driving_day</th>\n",
       "      <td>0.424</td>\n",
       "      <td>0.425</td>\n",
       "      <td>0.245</td>\n",
       "      <td>-0.000</td>\n",
       "      <td>0.012</td>\n",
       "      <td>0.001</td>\n",
       "      <td>0.012</td>\n",
       "      <td>0.005</td>\n",
       "      <td>-0.340</td>\n",
       "      <td>-0.350</td>\n",
       "      <td>-0.229</td>\n",
       "      <td>0.558</td>\n",
       "      <td>1.000</td>\n",
       "      <td>0.254</td>\n",
       "      <td>-0.005</td>\n",
       "      <td>0.015</td>\n",
       "      <td>-0.093</td>\n",
       "      <td>0.141</td>\n",
       "    </tr>\n",
       "    <tr>\n",
       "      <th>percentage_of_sessions_last_month</th>\n",
       "      <td>0.576</td>\n",
       "      <td>0.575</td>\n",
       "      <td>-0.151</td>\n",
       "      <td>-0.001</td>\n",
       "      <td>0.015</td>\n",
       "      <td>0.001</td>\n",
       "      <td>-0.003</td>\n",
       "      <td>-0.008</td>\n",
       "      <td>0.016</td>\n",
       "      <td>0.011</td>\n",
       "      <td>-0.489</td>\n",
       "      <td>-0.005</td>\n",
       "      <td>0.254</td>\n",
       "      <td>1.000</td>\n",
       "      <td>-0.002</td>\n",
       "      <td>0.002</td>\n",
       "      <td>0.318</td>\n",
       "      <td>0.015</td>\n",
       "    </tr>\n",
       "    <tr>\n",
       "      <th>device_int</th>\n",
       "      <td>-0.013</td>\n",
       "      <td>-0.012</td>\n",
       "      <td>-0.012</td>\n",
       "      <td>0.011</td>\n",
       "      <td>0.001</td>\n",
       "      <td>0.000</td>\n",
       "      <td>0.002</td>\n",
       "      <td>0.008</td>\n",
       "      <td>0.010</td>\n",
       "      <td>0.004</td>\n",
       "      <td>-0.004</td>\n",
       "      <td>-0.001</td>\n",
       "      <td>-0.005</td>\n",
       "      <td>-0.002</td>\n",
       "      <td>1.000</td>\n",
       "      <td>-0.005</td>\n",
       "      <td>-0.000</td>\n",
       "      <td>-0.003</td>\n",
       "    </tr>\n",
       "    <tr>\n",
       "      <th>average_speed_by_drive_kmh</th>\n",
       "      <td>0.007</td>\n",
       "      <td>0.006</td>\n",
       "      <td>0.003</td>\n",
       "      <td>0.011</td>\n",
       "      <td>-0.012</td>\n",
       "      <td>0.009</td>\n",
       "      <td>0.095</td>\n",
       "      <td>-0.257</td>\n",
       "      <td>-0.012</td>\n",
       "      <td>-0.010</td>\n",
       "      <td>0.022</td>\n",
       "      <td>0.055</td>\n",
       "      <td>0.015</td>\n",
       "      <td>0.002</td>\n",
       "      <td>-0.005</td>\n",
       "      <td>1.000</td>\n",
       "      <td>-0.001</td>\n",
       "      <td>-0.014</td>\n",
       "    </tr>\n",
       "    <tr>\n",
       "      <th>professional_driver</th>\n",
       "      <td>0.453</td>\n",
       "      <td>0.453</td>\n",
       "      <td>0.260</td>\n",
       "      <td>0.004</td>\n",
       "      <td>0.003</td>\n",
       "      <td>0.011</td>\n",
       "      <td>-0.003</td>\n",
       "      <td>-0.007</td>\n",
       "      <td>0.489</td>\n",
       "      <td>0.500</td>\n",
       "      <td>-0.298</td>\n",
       "      <td>-0.259</td>\n",
       "      <td>-0.093</td>\n",
       "      <td>0.318</td>\n",
       "      <td>-0.000</td>\n",
       "      <td>-0.001</td>\n",
       "      <td>1.000</td>\n",
       "      <td>-0.145</td>\n",
       "    </tr>\n",
       "    <tr>\n",
       "      <th>label_int</th>\n",
       "      <td>0.035</td>\n",
       "      <td>0.036</td>\n",
       "      <td>0.025</td>\n",
       "      <td>-0.129</td>\n",
       "      <td>0.052</td>\n",
       "      <td>0.015</td>\n",
       "      <td>0.020</td>\n",
       "      <td>0.040</td>\n",
       "      <td>-0.304</td>\n",
       "      <td>-0.294</td>\n",
       "      <td>-0.013</td>\n",
       "      <td>0.177</td>\n",
       "      <td>0.141</td>\n",
       "      <td>0.015</td>\n",
       "      <td>-0.003</td>\n",
       "      <td>-0.014</td>\n",
       "      <td>-0.145</td>\n",
       "      <td>1.000</td>\n",
       "    </tr>\n",
       "  </tbody>\n",
       "</table>\n",
       "</div>"
      ],
      "text/plain": [
       "                                   sessions  drives  total_sessions  \\\n",
       "sessions                              1.000   0.997           0.597   \n",
       "drives                                0.997   1.000           0.596   \n",
       "total_sessions                        0.597   0.596           1.000   \n",
       "n_days_after_onboarding               0.007   0.007           0.007   \n",
       "total_navigations_fav1                0.002   0.001           0.000   \n",
       "total_navigations_fav2                0.009   0.010           0.010   \n",
       "driven_km_drives                      0.003   0.003           0.001   \n",
       "duration_minutes_drives              -0.005  -0.004          -0.000   \n",
       "activity_days                         0.025   0.024           0.016   \n",
       "driving_days                          0.020   0.020           0.013   \n",
       "km_driven_per_drive                  -0.535  -0.539          -0.312   \n",
       "km_driven_per_driving_day            -0.008  -0.007          -0.008   \n",
       "drives_per_driving_day                0.424   0.425           0.245   \n",
       "percentage_of_sessions_last_month     0.576   0.575          -0.151   \n",
       "device_int                           -0.013  -0.012          -0.012   \n",
       "average_speed_by_drive_kmh            0.007   0.006           0.003   \n",
       "professional_driver                   0.453   0.453           0.260   \n",
       "label_int                             0.035   0.036           0.025   \n",
       "\n",
       "                                   n_days_after_onboarding  \\\n",
       "sessions                                             0.007   \n",
       "drives                                               0.007   \n",
       "total_sessions                                       0.007   \n",
       "n_days_after_onboarding                              1.000   \n",
       "total_navigations_fav1                              -0.002   \n",
       "total_navigations_fav2                              -0.005   \n",
       "driven_km_drives                                    -0.005   \n",
       "duration_minutes_drives                             -0.010   \n",
       "activity_days                                       -0.009   \n",
       "driving_days                                        -0.007   \n",
       "km_driven_per_drive                                  0.003   \n",
       "km_driven_per_driving_day                            0.011   \n",
       "drives_per_driving_day                              -0.000   \n",
       "percentage_of_sessions_last_month                   -0.001   \n",
       "device_int                                           0.011   \n",
       "average_speed_by_drive_kmh                           0.011   \n",
       "professional_driver                                  0.004   \n",
       "label_int                                           -0.129   \n",
       "\n",
       "                                   total_navigations_fav1  \\\n",
       "sessions                                            0.002   \n",
       "drives                                              0.001   \n",
       "total_sessions                                      0.000   \n",
       "n_days_after_onboarding                            -0.002   \n",
       "total_navigations_fav1                              1.000   \n",
       "total_navigations_fav2                              0.003   \n",
       "driven_km_drives                                   -0.007   \n",
       "duration_minutes_drives                             0.006   \n",
       "activity_days                                       0.011   \n",
       "driving_days                                        0.010   \n",
       "km_driven_per_drive                                -0.010   \n",
       "km_driven_per_driving_day                          -0.001   \n",
       "drives_per_driving_day                              0.012   \n",
       "percentage_of_sessions_last_month                   0.015   \n",
       "device_int                                          0.001   \n",
       "average_speed_by_drive_kmh                         -0.012   \n",
       "professional_driver                                 0.003   \n",
       "label_int                                           0.052   \n",
       "\n",
       "                                   total_navigations_fav2  driven_km_drives  \\\n",
       "sessions                                            0.009             0.003   \n",
       "drives                                              0.010             0.003   \n",
       "total_sessions                                      0.010             0.001   \n",
       "n_days_after_onboarding                            -0.005            -0.005   \n",
       "total_navigations_fav1                              0.003            -0.007   \n",
       "total_navigations_fav2                              1.000             0.004   \n",
       "driven_km_drives                                    0.004             1.000   \n",
       "duration_minutes_drives                            -0.003             0.691   \n",
       "activity_days                                      -0.004            -0.007   \n",
       "driving_days                                        0.002            -0.010   \n",
       "km_driven_per_drive                                -0.005             0.318   \n",
       "km_driven_per_driving_day                          -0.003             0.411   \n",
       "drives_per_driving_day                              0.001             0.012   \n",
       "percentage_of_sessions_last_month                   0.001            -0.003   \n",
       "device_int                                          0.000             0.002   \n",
       "average_speed_by_drive_kmh                          0.009             0.095   \n",
       "professional_driver                                 0.011            -0.003   \n",
       "label_int                                           0.015             0.020   \n",
       "\n",
       "                                   duration_minutes_drives  activity_days  \\\n",
       "sessions                                            -0.005          0.025   \n",
       "drives                                              -0.004          0.024   \n",
       "total_sessions                                      -0.000          0.016   \n",
       "n_days_after_onboarding                             -0.010         -0.009   \n",
       "total_navigations_fav1                               0.006          0.011   \n",
       "total_navigations_fav2                              -0.003         -0.004   \n",
       "driven_km_drives                                     0.691         -0.007   \n",
       "duration_minutes_drives                              1.000         -0.008   \n",
       "activity_days                                       -0.008          1.000   \n",
       "driving_days                                        -0.009          0.948   \n",
       "km_driven_per_drive                                  0.228         -0.015   \n",
       "km_driven_per_driving_day                            0.288         -0.490   \n",
       "drives_per_driving_day                               0.005         -0.340   \n",
       "percentage_of_sessions_last_month                   -0.008          0.016   \n",
       "device_int                                           0.008          0.010   \n",
       "average_speed_by_drive_kmh                          -0.257         -0.012   \n",
       "professional_driver                                 -0.007          0.489   \n",
       "label_int                                            0.040         -0.304   \n",
       "\n",
       "                                   driving_days  km_driven_per_drive  \\\n",
       "sessions                                  0.020               -0.535   \n",
       "drives                                    0.020               -0.539   \n",
       "total_sessions                            0.013               -0.312   \n",
       "n_days_after_onboarding                  -0.007                0.003   \n",
       "total_navigations_fav1                    0.010               -0.010   \n",
       "total_navigations_fav2                    0.002               -0.005   \n",
       "driven_km_drives                         -0.010                0.318   \n",
       "duration_minutes_drives                  -0.009                0.228   \n",
       "activity_days                             0.948               -0.015   \n",
       "driving_days                              1.000               -0.012   \n",
       "km_driven_per_drive                      -0.012                1.000   \n",
       "km_driven_per_driving_day                -0.504                0.148   \n",
       "drives_per_driving_day                   -0.350               -0.229   \n",
       "percentage_of_sessions_last_month         0.011               -0.489   \n",
       "device_int                                0.004               -0.004   \n",
       "average_speed_by_drive_kmh               -0.010                0.022   \n",
       "professional_driver                       0.500               -0.298   \n",
       "label_int                                -0.294               -0.013   \n",
       "\n",
       "                                   km_driven_per_driving_day  \\\n",
       "sessions                                              -0.008   \n",
       "drives                                                -0.007   \n",
       "total_sessions                                        -0.008   \n",
       "n_days_after_onboarding                                0.011   \n",
       "total_navigations_fav1                                -0.001   \n",
       "total_navigations_fav2                                -0.003   \n",
       "driven_km_drives                                       0.411   \n",
       "duration_minutes_drives                                0.288   \n",
       "activity_days                                         -0.490   \n",
       "driving_days                                          -0.504   \n",
       "km_driven_per_drive                                    0.148   \n",
       "km_driven_per_driving_day                              1.000   \n",
       "drives_per_driving_day                                 0.558   \n",
       "percentage_of_sessions_last_month                     -0.005   \n",
       "device_int                                            -0.001   \n",
       "average_speed_by_drive_kmh                             0.055   \n",
       "professional_driver                                   -0.259   \n",
       "label_int                                              0.177   \n",
       "\n",
       "                                   drives_per_driving_day  \\\n",
       "sessions                                            0.424   \n",
       "drives                                              0.425   \n",
       "total_sessions                                      0.245   \n",
       "n_days_after_onboarding                            -0.000   \n",
       "total_navigations_fav1                              0.012   \n",
       "total_navigations_fav2                              0.001   \n",
       "driven_km_drives                                    0.012   \n",
       "duration_minutes_drives                             0.005   \n",
       "activity_days                                      -0.340   \n",
       "driving_days                                       -0.350   \n",
       "km_driven_per_drive                                -0.229   \n",
       "km_driven_per_driving_day                           0.558   \n",
       "drives_per_driving_day                              1.000   \n",
       "percentage_of_sessions_last_month                   0.254   \n",
       "device_int                                         -0.005   \n",
       "average_speed_by_drive_kmh                          0.015   \n",
       "professional_driver                                -0.093   \n",
       "label_int                                           0.141   \n",
       "\n",
       "                                   percentage_of_sessions_last_month  \\\n",
       "sessions                                                       0.576   \n",
       "drives                                                         0.575   \n",
       "total_sessions                                                -0.151   \n",
       "n_days_after_onboarding                                       -0.001   \n",
       "total_navigations_fav1                                         0.015   \n",
       "total_navigations_fav2                                         0.001   \n",
       "driven_km_drives                                              -0.003   \n",
       "duration_minutes_drives                                       -0.008   \n",
       "activity_days                                                  0.016   \n",
       "driving_days                                                   0.011   \n",
       "km_driven_per_drive                                           -0.489   \n",
       "km_driven_per_driving_day                                     -0.005   \n",
       "drives_per_driving_day                                         0.254   \n",
       "percentage_of_sessions_last_month                              1.000   \n",
       "device_int                                                    -0.002   \n",
       "average_speed_by_drive_kmh                                     0.002   \n",
       "professional_driver                                            0.318   \n",
       "label_int                                                      0.015   \n",
       "\n",
       "                                   device_int  average_speed_by_drive_kmh  \\\n",
       "sessions                               -0.013                       0.007   \n",
       "drives                                 -0.012                       0.006   \n",
       "total_sessions                         -0.012                       0.003   \n",
       "n_days_after_onboarding                 0.011                       0.011   \n",
       "total_navigations_fav1                  0.001                      -0.012   \n",
       "total_navigations_fav2                  0.000                       0.009   \n",
       "driven_km_drives                        0.002                       0.095   \n",
       "duration_minutes_drives                 0.008                      -0.257   \n",
       "activity_days                           0.010                      -0.012   \n",
       "driving_days                            0.004                      -0.010   \n",
       "km_driven_per_drive                    -0.004                       0.022   \n",
       "km_driven_per_driving_day              -0.001                       0.055   \n",
       "drives_per_driving_day                 -0.005                       0.015   \n",
       "percentage_of_sessions_last_month      -0.002                       0.002   \n",
       "device_int                              1.000                      -0.005   \n",
       "average_speed_by_drive_kmh             -0.005                       1.000   \n",
       "professional_driver                    -0.000                      -0.001   \n",
       "label_int                              -0.003                      -0.014   \n",
       "\n",
       "                                   professional_driver  label_int  \n",
       "sessions                                         0.453      0.035  \n",
       "drives                                           0.453      0.036  \n",
       "total_sessions                                   0.260      0.025  \n",
       "n_days_after_onboarding                          0.004     -0.129  \n",
       "total_navigations_fav1                           0.003      0.052  \n",
       "total_navigations_fav2                           0.011      0.015  \n",
       "driven_km_drives                                -0.003      0.020  \n",
       "duration_minutes_drives                         -0.007      0.040  \n",
       "activity_days                                    0.489     -0.304  \n",
       "driving_days                                     0.500     -0.294  \n",
       "km_driven_per_drive                             -0.298     -0.013  \n",
       "km_driven_per_driving_day                       -0.259      0.177  \n",
       "drives_per_driving_day                          -0.093      0.141  \n",
       "percentage_of_sessions_last_month                0.318      0.015  \n",
       "device_int                                      -0.000     -0.003  \n",
       "average_speed_by_drive_kmh                      -0.001     -0.014  \n",
       "professional_driver                              1.000     -0.145  \n",
       "label_int                                       -0.145      1.000  "
      ]
     },
     "execution_count": 334,
     "metadata": {},
     "output_type": "execute_result"
    }
   ],
   "source": [
    "# Generate a correlation matrix\n",
    "df_waze_2.corr(method='pearson').round(decimals = 3)"
   ]
  },
  {
   "cell_type": "markdown",
   "id": "7bb17981-1103-4057-8692-11f634bda6e3",
   "metadata": {},
   "source": [
    "Now, lets plot a correlation heatmap."
   ]
  },
  {
   "cell_type": "code",
   "execution_count": 335,
   "id": "17aea4c2-ad1c-4a0e-b206-67fa79cc8f61",
   "metadata": {},
   "outputs": [
    {
     "data": {
      "image/png": "[encoded data removed]",
      "text/plain": [
       "<Figure size 1500x1000 with 2 Axes>"
      ]
     },
     "metadata": {},
     "output_type": "display_data"
    }
   ],
   "source": [
    "fig, ax = plt.subplots(figsize = (15,10))\n",
    "sns.heatmap(df_waze_2.corr(method='pearson').round(decimals = 3), vmin = -1, vmax = 1, annot = True, cmap = 'coolwarm', ax = ax)\n",
    "ax.set_title(\"Correlation heatmap indicates many low correlated variables\", fontsize = 18)\n",
    "plt.show()"
   ]
  },
  {
   "cell_type": "code",
   "execution_count": null,
   "id": "95ed8619-a14d-4e99-9c35-2f048c7b137a",
   "metadata": {},
   "outputs": [],
   "source": []
  },
  {
   "cell_type": "code",
   "execution_count": null,
   "id": "6389446f-4da2-48d2-a778-e6d823b11289",
   "metadata": {},
   "outputs": [],
   "source": []
  },
  {
   "cell_type": "code",
   "execution_count": null,
   "id": "6d21f13b-2a07-46e9-a3d7-a219726abbb7",
   "metadata": {},
   "outputs": [],
   "source": []
  },
  {
   "cell_type": "code",
   "execution_count": null,
   "id": "c2dde378-ca33-4dca-9552-c250720d73f8",
   "metadata": {},
   "outputs": [],
   "source": []
  }
 ],
 "metadata": {
  "kernelspec": {
   "display_name": "my-python3-kernel",
   "language": "python",
   "name": "my-python3-kernel"
  },
  "language_info": {
   "codemirror_mode": {
    "name": "ipython",
    "version": 3
   },
   "file_extension": ".py",
   "mimetype": "text/x-python",
   "name": "python",
   "nbconvert_exporter": "python",
   "pygments_lexer": "ipython3",
   "version": "3.12.7"
  }
 },
 "nbformat": 4,
 "nbformat_minor": 5
}
