{
 "cells": [
  {
   "cell_type": "markdown",
   "id": "7bf89add-c3bc-4ed1-aac9-dd6cca7e915b",
   "metadata": {},
   "source": [
    "## <center> About Waze </center>\n",
    "\n",
    "##### Waze is an app that provides satellite navigation software on smartphones and other computers that support the Global Positioning System (GPS). Waze's free navigation app makes it easier for drivers around the world to get to where they want to go. Waze's community of map editors, beta testers, translators, partners, and users helps make each drive better and safer"
   ]
  },
  {
   "cell_type": "markdown",
   "id": "9037c02d-f324-443b-9a89-0826d8cf3eaf",
   "metadata": {
    "jp-MarkdownHeadingCollapsed": true
   },
   "source": [
    "## <center>   Project Goal  </center>\n",
    "\n",
    "#### The final goal of this project is to develop a ML model to predict which users are most likely to stop using Waze app. This information will allow to make further decisions that will help prevent churn, improve user retention, and thus, grow Waze's business."
   ]
  },
  {
   "cell_type": "markdown",
   "id": "0beb97ea-4183-4d49-a931-a782b16b085f",
   "metadata": {},
   "source": [
    "## <center> Churn problem </center>\n",
    "#### Churn quantifies the number of users who have uninstalled the Waze app or stopped using the app. "
   ]
  },
  {
   "cell_type": "markdown",
   "id": "f1293146-2546-4282-8847-180e022d2098",
   "metadata": {},
   "source": [
    "## <center> Main parts of this project include following steps: </center>\n",
    "\n",
    "1. Gather and import data to Python, then inspect it in general perspective \n",
    "2. Cleaning and pre-processing data to prepare it for further analysis\n",
    "3. perform EDA to understand data structure\n",
    "4. Calculate descriptive statistics for quantitative variables, conduct a statistical hypothesis tests for insights\n",
    "5. Build and evaluate a logistic regression model to predict outcomes  \n",
    "6. Perform feature engineering and build more complex models e.g. Random forest and XGBoost"
   ]
  },
  {
   "cell_type": "markdown",
   "id": "d91d8927-13c1-411f-87aa-eefa25eb182d",
   "metadata": {},
   "source": [
    "## <center>  1. Gather and import data to Python, then inspect it in general perspective   </center>\n",
    "\n",
    "#### This will include:\n",
    "- x"
   ]
  },
  {
   "cell_type": "markdown",
   "id": "7ac5bad7-c978-4b10-91fd-a4766362ee99",
   "metadata": {},
   "source": [
    "We import necessary libraries i.e. pandas and numpy"
   ]
  },
  {
   "cell_type": "code",
   "execution_count": 7,
   "id": "2becab8d-0154-43c7-af0b-61de1b5825e6",
   "metadata": {},
   "outputs": [],
   "source": [
    "import pandas as pd\n",
    "import numpy as np\n",
    "#import matplotlib.pyplot as plt\n",
    "#import seaborn as sns"
   ]
  },
  {
   "cell_type": "markdown",
   "id": "cef063fb-f253-43c3-8d1d-b80bb1302d75",
   "metadata": {},
   "source": [
    "And we load our dataset into dataFrame using standard **pandas.read_csv()** function"
   ]
  },
  {
   "cell_type": "code",
   "execution_count": 3,
   "id": "db67bc17-0e0e-4a25-ad26-d00f48af5e33",
   "metadata": {},
   "outputs": [],
   "source": [
    "df_waze_0 = pd.read_csv(\"C:/Coursera/Google Advanced Data Analytics\\GADA_datasets/waze_dataset.csv\")"
   ]
  },
  {
   "cell_type": "markdown",
   "id": "16c7880f-eb5a-4485-bb94-d060647a324e",
   "metadata": {},
   "source": [
    "#### Except data itself, we also got provided a brief description of each column in our dataset:\n",
    "\n",
    "- ID - A sequential numbered index\n",
    "- label - Target variable (“retained” vs “churned”) for if a user has churned anytime during the course of the month \n",
    "- sessions - The number of occurrence of a user opening the app during the month\n",
    "- drives - An occurrence of driving at least 1 km during the month\n",
    "- device - The type of device a user starts a session with\n",
    "- total_sessions - A model estimate of the total number of sessions since a user has onboarded\n",
    "- n_days_after_onboarding - The number of days since a user signed up for the app\n",
    "-  total_navigations_fav1 - Total navigations since onboarding to the user’s favorite place 1\n",
    "- total_navigations_fav2 - Total navigations since onboarding to the user’s favorite place 2\n",
    "- driven_km_drives - Total kilometers driven during the month\n",
    "- duration_minutes_drives - Total duration driven in minutes during the month\n",
    "- activity_days - Number of days the user opens the app during the month \n",
    "- driving_days - Number of days the user drives (at least 1 km) during the month"
   ]
  },
  {
   "cell_type": "markdown",
   "id": "e0bf3c16-002b-450e-ac0a-909cd3ad044c",
   "metadata": {},
   "source": [
    "As a next step, we will view and inspect summary information of our dataset by using following methods and attributes from pandas module:\n",
    "\n",
    "- head()\n",
    "- info()\n",
    "- shape"
   ]
  },
  {
   "cell_type": "code",
   "execution_count": 5,
   "id": "90b4c850-9fe8-4c6b-9a24-bcb17a743898",
   "metadata": {},
   "outputs": [
    {
     "data": {
      "text/html": [
       "<div>\n",
       "<style scoped>\n",
       "    .dataframe tbody tr th:only-of-type {\n",
       "        vertical-align: middle;\n",
       "    }\n",
       "\n",
       "    .dataframe tbody tr th {\n",
       "        vertical-align: top;\n",
       "    }\n",
       "\n",
       "    .dataframe thead th {\n",
       "        text-align: right;\n",
       "    }\n",
       "</style>\n",
       "<table border=\"1\" class=\"dataframe\">\n",
       "  <thead>\n",
       "    <tr style=\"text-align: right;\">\n",
       "      <th></th>\n",
       "      <th>ID</th>\n",
       "      <th>label</th>\n",
       "      <th>sessions</th>\n",
       "      <th>drives</th>\n",
       "      <th>total_sessions</th>\n",
       "      <th>n_days_after_onboarding</th>\n",
       "      <th>total_navigations_fav1</th>\n",
       "      <th>total_navigations_fav2</th>\n",
       "      <th>driven_km_drives</th>\n",
       "      <th>duration_minutes_drives</th>\n",
       "      <th>activity_days</th>\n",
       "      <th>driving_days</th>\n",
       "      <th>device</th>\n",
       "    </tr>\n",
       "  </thead>\n",
       "  <tbody>\n",
       "    <tr>\n",
       "      <th>0</th>\n",
       "      <td>0</td>\n",
       "      <td>retained</td>\n",
       "      <td>283</td>\n",
       "      <td>226</td>\n",
       "      <td>296.748273</td>\n",
       "      <td>2276</td>\n",
       "      <td>208</td>\n",
       "      <td>0</td>\n",
       "      <td>2628.845068</td>\n",
       "      <td>1985.775061</td>\n",
       "      <td>28</td>\n",
       "      <td>19</td>\n",
       "      <td>Android</td>\n",
       "    </tr>\n",
       "    <tr>\n",
       "      <th>1</th>\n",
       "      <td>1</td>\n",
       "      <td>retained</td>\n",
       "      <td>133</td>\n",
       "      <td>107</td>\n",
       "      <td>326.896596</td>\n",
       "      <td>1225</td>\n",
       "      <td>19</td>\n",
       "      <td>64</td>\n",
       "      <td>13715.920550</td>\n",
       "      <td>3160.472914</td>\n",
       "      <td>13</td>\n",
       "      <td>11</td>\n",
       "      <td>iPhone</td>\n",
       "    </tr>\n",
       "    <tr>\n",
       "      <th>2</th>\n",
       "      <td>2</td>\n",
       "      <td>retained</td>\n",
       "      <td>114</td>\n",
       "      <td>95</td>\n",
       "      <td>135.522926</td>\n",
       "      <td>2651</td>\n",
       "      <td>0</td>\n",
       "      <td>0</td>\n",
       "      <td>3059.148818</td>\n",
       "      <td>1610.735904</td>\n",
       "      <td>14</td>\n",
       "      <td>8</td>\n",
       "      <td>Android</td>\n",
       "    </tr>\n",
       "    <tr>\n",
       "      <th>3</th>\n",
       "      <td>3</td>\n",
       "      <td>retained</td>\n",
       "      <td>49</td>\n",
       "      <td>40</td>\n",
       "      <td>67.589221</td>\n",
       "      <td>15</td>\n",
       "      <td>322</td>\n",
       "      <td>7</td>\n",
       "      <td>913.591123</td>\n",
       "      <td>587.196542</td>\n",
       "      <td>7</td>\n",
       "      <td>3</td>\n",
       "      <td>iPhone</td>\n",
       "    </tr>\n",
       "    <tr>\n",
       "      <th>4</th>\n",
       "      <td>4</td>\n",
       "      <td>retained</td>\n",
       "      <td>84</td>\n",
       "      <td>68</td>\n",
       "      <td>168.247020</td>\n",
       "      <td>1562</td>\n",
       "      <td>166</td>\n",
       "      <td>5</td>\n",
       "      <td>3950.202008</td>\n",
       "      <td>1219.555924</td>\n",
       "      <td>27</td>\n",
       "      <td>18</td>\n",
       "      <td>Android</td>\n",
       "    </tr>\n",
       "    <tr>\n",
       "      <th>5</th>\n",
       "      <td>5</td>\n",
       "      <td>retained</td>\n",
       "      <td>113</td>\n",
       "      <td>103</td>\n",
       "      <td>279.544437</td>\n",
       "      <td>2637</td>\n",
       "      <td>0</td>\n",
       "      <td>0</td>\n",
       "      <td>901.238699</td>\n",
       "      <td>439.101397</td>\n",
       "      <td>15</td>\n",
       "      <td>11</td>\n",
       "      <td>iPhone</td>\n",
       "    </tr>\n",
       "    <tr>\n",
       "      <th>6</th>\n",
       "      <td>6</td>\n",
       "      <td>retained</td>\n",
       "      <td>3</td>\n",
       "      <td>2</td>\n",
       "      <td>236.725314</td>\n",
       "      <td>360</td>\n",
       "      <td>185</td>\n",
       "      <td>18</td>\n",
       "      <td>5249.172828</td>\n",
       "      <td>726.577205</td>\n",
       "      <td>28</td>\n",
       "      <td>23</td>\n",
       "      <td>iPhone</td>\n",
       "    </tr>\n",
       "    <tr>\n",
       "      <th>7</th>\n",
       "      <td>7</td>\n",
       "      <td>retained</td>\n",
       "      <td>39</td>\n",
       "      <td>35</td>\n",
       "      <td>176.072845</td>\n",
       "      <td>2999</td>\n",
       "      <td>0</td>\n",
       "      <td>0</td>\n",
       "      <td>7892.052468</td>\n",
       "      <td>2466.981741</td>\n",
       "      <td>22</td>\n",
       "      <td>20</td>\n",
       "      <td>iPhone</td>\n",
       "    </tr>\n",
       "    <tr>\n",
       "      <th>8</th>\n",
       "      <td>8</td>\n",
       "      <td>retained</td>\n",
       "      <td>57</td>\n",
       "      <td>46</td>\n",
       "      <td>183.532018</td>\n",
       "      <td>424</td>\n",
       "      <td>0</td>\n",
       "      <td>26</td>\n",
       "      <td>2651.709764</td>\n",
       "      <td>1594.342984</td>\n",
       "      <td>25</td>\n",
       "      <td>20</td>\n",
       "      <td>Android</td>\n",
       "    </tr>\n",
       "    <tr>\n",
       "      <th>9</th>\n",
       "      <td>9</td>\n",
       "      <td>churned</td>\n",
       "      <td>84</td>\n",
       "      <td>68</td>\n",
       "      <td>244.802115</td>\n",
       "      <td>2997</td>\n",
       "      <td>72</td>\n",
       "      <td>0</td>\n",
       "      <td>6043.460295</td>\n",
       "      <td>2341.838528</td>\n",
       "      <td>7</td>\n",
       "      <td>3</td>\n",
       "      <td>iPhone</td>\n",
       "    </tr>\n",
       "  </tbody>\n",
       "</table>\n",
       "</div>"
      ],
      "text/plain": [
       "   ID     label  sessions  drives  total_sessions  n_days_after_onboarding  \\\n",
       "0   0  retained       283     226      296.748273                     2276   \n",
       "1   1  retained       133     107      326.896596                     1225   \n",
       "2   2  retained       114      95      135.522926                     2651   \n",
       "3   3  retained        49      40       67.589221                       15   \n",
       "4   4  retained        84      68      168.247020                     1562   \n",
       "5   5  retained       113     103      279.544437                     2637   \n",
       "6   6  retained         3       2      236.725314                      360   \n",
       "7   7  retained        39      35      176.072845                     2999   \n",
       "8   8  retained        57      46      183.532018                      424   \n",
       "9   9   churned        84      68      244.802115                     2997   \n",
       "\n",
       "   total_navigations_fav1  total_navigations_fav2  driven_km_drives  \\\n",
       "0                     208                       0       2628.845068   \n",
       "1                      19                      64      13715.920550   \n",
       "2                       0                       0       3059.148818   \n",
       "3                     322                       7        913.591123   \n",
       "4                     166                       5       3950.202008   \n",
       "5                       0                       0        901.238699   \n",
       "6                     185                      18       5249.172828   \n",
       "7                       0                       0       7892.052468   \n",
       "8                       0                      26       2651.709764   \n",
       "9                      72                       0       6043.460295   \n",
       "\n",
       "   duration_minutes_drives  activity_days  driving_days   device  \n",
       "0              1985.775061             28            19  Android  \n",
       "1              3160.472914             13            11   iPhone  \n",
       "2              1610.735904             14             8  Android  \n",
       "3               587.196542              7             3   iPhone  \n",
       "4              1219.555924             27            18  Android  \n",
       "5               439.101397             15            11   iPhone  \n",
       "6               726.577205             28            23   iPhone  \n",
       "7              2466.981741             22            20   iPhone  \n",
       "8              1594.342984             25            20  Android  \n",
       "9              2341.838528              7             3   iPhone  "
      ]
     },
     "execution_count": 5,
     "metadata": {},
     "output_type": "execute_result"
    }
   ],
   "source": [
    "df_waze_0.head(10)"
   ]
  },
  {
   "cell_type": "code",
   "execution_count": 8,
   "id": "b007dd75-1468-4ed7-b552-35012daa82ee",
   "metadata": {},
   "outputs": [
    {
     "data": {
      "text/plain": [
       "(14999, 13)"
      ]
     },
     "execution_count": 8,
     "metadata": {},
     "output_type": "execute_result"
    }
   ],
   "source": [
    "df_waze_0.shape"
   ]
  },
  {
   "cell_type": "code",
   "execution_count": 9,
   "id": "61336777-4b42-401e-af2d-24423a3db2df",
   "metadata": {},
   "outputs": [
    {
     "name": "stdout",
     "output_type": "stream",
     "text": [
      "<class 'pandas.core.frame.DataFrame'>\n",
      "RangeIndex: 14999 entries, 0 to 14998\n",
      "Data columns (total 13 columns):\n",
      " #   Column                   Non-Null Count  Dtype  \n",
      "---  ------                   --------------  -----  \n",
      " 0   ID                       14999 non-null  int64  \n",
      " 1   label                    14299 non-null  object \n",
      " 2   sessions                 14999 non-null  int64  \n",
      " 3   drives                   14999 non-null  int64  \n",
      " 4   total_sessions           14999 non-null  float64\n",
      " 5   n_days_after_onboarding  14999 non-null  int64  \n",
      " 6   total_navigations_fav1   14999 non-null  int64  \n",
      " 7   total_navigations_fav2   14999 non-null  int64  \n",
      " 8   driven_km_drives         14999 non-null  float64\n",
      " 9   duration_minutes_drives  14999 non-null  float64\n",
      " 10  activity_days            14999 non-null  int64  \n",
      " 11  driving_days             14999 non-null  int64  \n",
      " 12  device                   14999 non-null  object \n",
      "dtypes: float64(3), int64(8), object(2)\n",
      "memory usage: 1.5+ MB\n"
     ]
    }
   ],
   "source": [
    "df_waze_0.info()"
   ]
  },
  {
   "cell_type": "markdown",
   "id": "9ba7dc80-64f0-4890-b359-4a1402e44445",
   "metadata": {},
   "source": [
    "As we can see above, the variables `label` and `device` are of type `object` (`string`); `total_sessions`, `driven_km_drives`, and `duration_minutes_drives` are of type `float64`; the rest of the variables are of type `int64`. There are 14,999 rows and 13 columns."
   ]
  },
  {
   "cell_type": "markdown",
   "id": "47b8db61-7670-4b25-b81a-d1b9622e865b",
   "metadata": {},
   "source": [
    "Above, with usage of **info()** method, we also got number of non-null values per each column. Below we provide the same information from another perspective - how many times per each column, null value occurs. To do so, we will use **isnull()** and **sum()** methods from *pandas* module."
   ]
  },
  {
   "cell_type": "code",
   "execution_count": 11,
   "id": "40e29113-1b52-43b9-a0b9-dbca91e906d5",
   "metadata": {},
   "outputs": [
    {
     "data": {
      "text/plain": [
       "ID                           0\n",
       "label                      700\n",
       "sessions                     0\n",
       "drives                       0\n",
       "total_sessions               0\n",
       "n_days_after_onboarding      0\n",
       "total_navigations_fav1       0\n",
       "total_navigations_fav2       0\n",
       "driven_km_drives             0\n",
       "duration_minutes_drives      0\n",
       "activity_days                0\n",
       "driving_days                 0\n",
       "device                       0\n",
       "dtype: int64"
      ]
     },
     "execution_count": 11,
     "metadata": {},
     "output_type": "execute_result"
    }
   ],
   "source": [
    "df_waze_0.isnull().sum()"
   ]
  },
  {
   "cell_type": "markdown",
   "id": "b23d5ae2-15b1-440c-8109-8a3db176b70f",
   "metadata": {},
   "source": [
    "We observe that the only null values in our dataframe are contained in `label` column, there are 700 of them"
   ]
  },
  {
   "cell_type": "markdown",
   "id": "a8dd5ffa-81f1-4ec9-96c8-1b94da922bf3",
   "metadata": {},
   "source": [
    "We will split out dataset for two parts: one where `label` is not null, and another where there are null values in `label` column. Next we will look if there are any differencies in distributions of another variables based on whether `label` columns is null or not"
   ]
  },
  {
   "cell_type": "code",
   "execution_count": 14,
   "id": "4b3dc9e2-9b3e-476e-b731-bf1038e01d2a",
   "metadata": {},
   "outputs": [],
   "source": [
    "df_waze_not_null = df_waze_0[~df_waze_0[\"label\"].isna()]\n",
    "df_waze_null = df_waze_0[df_waze_0[\"label\"].isna()]"
   ]
  },
  {
   "cell_type": "code",
   "execution_count": 15,
   "id": "90107bb9-a33a-4a1d-a00b-5d641dc487ed",
   "metadata": {},
   "outputs": [
    {
     "name": "stdout",
     "output_type": "stream",
     "text": [
      "(14299, 13)\n",
      "(700, 13)\n"
     ]
    }
   ],
   "source": [
    "print(df_waze_not_null.shape)\n",
    "print(df_waze_null.shape)"
   ]
  },
  {
   "cell_type": "markdown",
   "id": "3f4de3ac-d239-4634-a61c-4475cdf9746f",
   "metadata": {},
   "source": [
    "For quantitative variables, we will use **describe()** method to calculate summary statistics of each variable:"
   ]
  },
  {
   "cell_type": "code",
   "execution_count": 17,
   "id": "d4710f84-d187-43ec-b298-1b906d7f34d5",
   "metadata": {},
   "outputs": [
    {
     "data": {
      "text/html": [
       "<div>\n",
       "<style scoped>\n",
       "    .dataframe tbody tr th:only-of-type {\n",
       "        vertical-align: middle;\n",
       "    }\n",
       "\n",
       "    .dataframe tbody tr th {\n",
       "        vertical-align: top;\n",
       "    }\n",
       "\n",
       "    .dataframe thead th {\n",
       "        text-align: right;\n",
       "    }\n",
       "</style>\n",
       "<table border=\"1\" class=\"dataframe\">\n",
       "  <thead>\n",
       "    <tr style=\"text-align: right;\">\n",
       "      <th></th>\n",
       "      <th>ID</th>\n",
       "      <th>sessions</th>\n",
       "      <th>drives</th>\n",
       "      <th>total_sessions</th>\n",
       "      <th>n_days_after_onboarding</th>\n",
       "      <th>total_navigations_fav1</th>\n",
       "      <th>total_navigations_fav2</th>\n",
       "      <th>driven_km_drives</th>\n",
       "      <th>duration_minutes_drives</th>\n",
       "      <th>activity_days</th>\n",
       "      <th>driving_days</th>\n",
       "    </tr>\n",
       "  </thead>\n",
       "  <tbody>\n",
       "    <tr>\n",
       "      <th>count</th>\n",
       "      <td>14299.000000</td>\n",
       "      <td>14299.000000</td>\n",
       "      <td>14299.000000</td>\n",
       "      <td>14299.000000</td>\n",
       "      <td>14299.000000</td>\n",
       "      <td>14299.000000</td>\n",
       "      <td>14299.000000</td>\n",
       "      <td>14299.000000</td>\n",
       "      <td>14299.000000</td>\n",
       "      <td>14299.000000</td>\n",
       "      <td>14299.000000</td>\n",
       "    </tr>\n",
       "    <tr>\n",
       "      <th>mean</th>\n",
       "      <td>7503.573117</td>\n",
       "      <td>80.623820</td>\n",
       "      <td>67.255822</td>\n",
       "      <td>189.547409</td>\n",
       "      <td>1751.822505</td>\n",
       "      <td>121.747395</td>\n",
       "      <td>29.638296</td>\n",
       "      <td>4044.401535</td>\n",
       "      <td>1864.199794</td>\n",
       "      <td>15.544653</td>\n",
       "      <td>12.182530</td>\n",
       "    </tr>\n",
       "    <tr>\n",
       "      <th>std</th>\n",
       "      <td>4331.207621</td>\n",
       "      <td>80.736502</td>\n",
       "      <td>65.947295</td>\n",
       "      <td>136.189764</td>\n",
       "      <td>1008.663834</td>\n",
       "      <td>147.713428</td>\n",
       "      <td>45.350890</td>\n",
       "      <td>2504.977970</td>\n",
       "      <td>1448.005047</td>\n",
       "      <td>9.016088</td>\n",
       "      <td>7.833835</td>\n",
       "    </tr>\n",
       "    <tr>\n",
       "      <th>min</th>\n",
       "      <td>0.000000</td>\n",
       "      <td>0.000000</td>\n",
       "      <td>0.000000</td>\n",
       "      <td>0.220211</td>\n",
       "      <td>4.000000</td>\n",
       "      <td>0.000000</td>\n",
       "      <td>0.000000</td>\n",
       "      <td>60.441250</td>\n",
       "      <td>18.282082</td>\n",
       "      <td>0.000000</td>\n",
       "      <td>0.000000</td>\n",
       "    </tr>\n",
       "    <tr>\n",
       "      <th>25%</th>\n",
       "      <td>3749.500000</td>\n",
       "      <td>23.000000</td>\n",
       "      <td>20.000000</td>\n",
       "      <td>90.457733</td>\n",
       "      <td>878.500000</td>\n",
       "      <td>10.000000</td>\n",
       "      <td>0.000000</td>\n",
       "      <td>2217.319909</td>\n",
       "      <td>840.181344</td>\n",
       "      <td>8.000000</td>\n",
       "      <td>5.000000</td>\n",
       "    </tr>\n",
       "    <tr>\n",
       "      <th>50%</th>\n",
       "      <td>7504.000000</td>\n",
       "      <td>56.000000</td>\n",
       "      <td>48.000000</td>\n",
       "      <td>158.718571</td>\n",
       "      <td>1749.000000</td>\n",
       "      <td>71.000000</td>\n",
       "      <td>9.000000</td>\n",
       "      <td>3496.545617</td>\n",
       "      <td>1479.394387</td>\n",
       "      <td>16.000000</td>\n",
       "      <td>12.000000</td>\n",
       "    </tr>\n",
       "    <tr>\n",
       "      <th>75%</th>\n",
       "      <td>11257.500000</td>\n",
       "      <td>111.000000</td>\n",
       "      <td>93.000000</td>\n",
       "      <td>253.540450</td>\n",
       "      <td>2627.500000</td>\n",
       "      <td>178.000000</td>\n",
       "      <td>43.000000</td>\n",
       "      <td>5299.972162</td>\n",
       "      <td>2466.928876</td>\n",
       "      <td>23.000000</td>\n",
       "      <td>19.000000</td>\n",
       "    </tr>\n",
       "    <tr>\n",
       "      <th>max</th>\n",
       "      <td>14998.000000</td>\n",
       "      <td>743.000000</td>\n",
       "      <td>596.000000</td>\n",
       "      <td>1216.154633</td>\n",
       "      <td>3500.000000</td>\n",
       "      <td>1236.000000</td>\n",
       "      <td>415.000000</td>\n",
       "      <td>21183.401890</td>\n",
       "      <td>15851.727160</td>\n",
       "      <td>31.000000</td>\n",
       "      <td>30.000000</td>\n",
       "    </tr>\n",
       "  </tbody>\n",
       "</table>\n",
       "</div>"
      ],
      "text/plain": [
       "                 ID      sessions        drives  total_sessions  \\\n",
       "count  14299.000000  14299.000000  14299.000000    14299.000000   \n",
       "mean    7503.573117     80.623820     67.255822      189.547409   \n",
       "std     4331.207621     80.736502     65.947295      136.189764   \n",
       "min        0.000000      0.000000      0.000000        0.220211   \n",
       "25%     3749.500000     23.000000     20.000000       90.457733   \n",
       "50%     7504.000000     56.000000     48.000000      158.718571   \n",
       "75%    11257.500000    111.000000     93.000000      253.540450   \n",
       "max    14998.000000    743.000000    596.000000     1216.154633   \n",
       "\n",
       "       n_days_after_onboarding  total_navigations_fav1  \\\n",
       "count             14299.000000            14299.000000   \n",
       "mean               1751.822505              121.747395   \n",
       "std                1008.663834              147.713428   \n",
       "min                   4.000000                0.000000   \n",
       "25%                 878.500000               10.000000   \n",
       "50%                1749.000000               71.000000   \n",
       "75%                2627.500000              178.000000   \n",
       "max                3500.000000             1236.000000   \n",
       "\n",
       "       total_navigations_fav2  driven_km_drives  duration_minutes_drives  \\\n",
       "count            14299.000000      14299.000000             14299.000000   \n",
       "mean                29.638296       4044.401535              1864.199794   \n",
       "std                 45.350890       2504.977970              1448.005047   \n",
       "min                  0.000000         60.441250                18.282082   \n",
       "25%                  0.000000       2217.319909               840.181344   \n",
       "50%                  9.000000       3496.545617              1479.394387   \n",
       "75%                 43.000000       5299.972162              2466.928876   \n",
       "max                415.000000      21183.401890             15851.727160   \n",
       "\n",
       "       activity_days  driving_days  \n",
       "count   14299.000000  14299.000000  \n",
       "mean       15.544653     12.182530  \n",
       "std         9.016088      7.833835  \n",
       "min         0.000000      0.000000  \n",
       "25%         8.000000      5.000000  \n",
       "50%        16.000000     12.000000  \n",
       "75%        23.000000     19.000000  \n",
       "max        31.000000     30.000000  "
      ]
     },
     "execution_count": 17,
     "metadata": {},
     "output_type": "execute_result"
    }
   ],
   "source": [
    "df_waze_not_null.describe()"
   ]
  },
  {
   "cell_type": "code",
   "execution_count": 18,
   "id": "1c5048af-100f-41c2-839b-b4a11b1076cf",
   "metadata": {},
   "outputs": [
    {
     "data": {
      "text/html": [
       "<div>\n",
       "<style scoped>\n",
       "    .dataframe tbody tr th:only-of-type {\n",
       "        vertical-align: middle;\n",
       "    }\n",
       "\n",
       "    .dataframe tbody tr th {\n",
       "        vertical-align: top;\n",
       "    }\n",
       "\n",
       "    .dataframe thead th {\n",
       "        text-align: right;\n",
       "    }\n",
       "</style>\n",
       "<table border=\"1\" class=\"dataframe\">\n",
       "  <thead>\n",
       "    <tr style=\"text-align: right;\">\n",
       "      <th></th>\n",
       "      <th>ID</th>\n",
       "      <th>sessions</th>\n",
       "      <th>drives</th>\n",
       "      <th>total_sessions</th>\n",
       "      <th>n_days_after_onboarding</th>\n",
       "      <th>total_navigations_fav1</th>\n",
       "      <th>total_navigations_fav2</th>\n",
       "      <th>driven_km_drives</th>\n",
       "      <th>duration_minutes_drives</th>\n",
       "      <th>activity_days</th>\n",
       "      <th>driving_days</th>\n",
       "    </tr>\n",
       "  </thead>\n",
       "  <tbody>\n",
       "    <tr>\n",
       "      <th>count</th>\n",
       "      <td>700.000000</td>\n",
       "      <td>700.000000</td>\n",
       "      <td>700.000000</td>\n",
       "      <td>700.000000</td>\n",
       "      <td>700.000000</td>\n",
       "      <td>700.000000</td>\n",
       "      <td>700.000000</td>\n",
       "      <td>700.000000</td>\n",
       "      <td>700.000000</td>\n",
       "      <td>700.000000</td>\n",
       "      <td>700.000000</td>\n",
       "    </tr>\n",
       "    <tr>\n",
       "      <th>mean</th>\n",
       "      <td>7405.584286</td>\n",
       "      <td>80.837143</td>\n",
       "      <td>67.798571</td>\n",
       "      <td>198.483348</td>\n",
       "      <td>1709.295714</td>\n",
       "      <td>118.717143</td>\n",
       "      <td>30.371429</td>\n",
       "      <td>3935.967029</td>\n",
       "      <td>1795.123358</td>\n",
       "      <td>15.382857</td>\n",
       "      <td>12.125714</td>\n",
       "    </tr>\n",
       "    <tr>\n",
       "      <th>std</th>\n",
       "      <td>4306.900234</td>\n",
       "      <td>79.987440</td>\n",
       "      <td>65.271926</td>\n",
       "      <td>140.561715</td>\n",
       "      <td>1005.306562</td>\n",
       "      <td>156.308140</td>\n",
       "      <td>46.306984</td>\n",
       "      <td>2443.107121</td>\n",
       "      <td>1419.242246</td>\n",
       "      <td>8.772714</td>\n",
       "      <td>7.626373</td>\n",
       "    </tr>\n",
       "    <tr>\n",
       "      <th>min</th>\n",
       "      <td>77.000000</td>\n",
       "      <td>0.000000</td>\n",
       "      <td>0.000000</td>\n",
       "      <td>5.582648</td>\n",
       "      <td>16.000000</td>\n",
       "      <td>0.000000</td>\n",
       "      <td>0.000000</td>\n",
       "      <td>290.119811</td>\n",
       "      <td>66.588493</td>\n",
       "      <td>0.000000</td>\n",
       "      <td>0.000000</td>\n",
       "    </tr>\n",
       "    <tr>\n",
       "      <th>25%</th>\n",
       "      <td>3744.500000</td>\n",
       "      <td>23.000000</td>\n",
       "      <td>20.000000</td>\n",
       "      <td>94.056340</td>\n",
       "      <td>869.000000</td>\n",
       "      <td>4.000000</td>\n",
       "      <td>0.000000</td>\n",
       "      <td>2119.344818</td>\n",
       "      <td>779.009271</td>\n",
       "      <td>8.000000</td>\n",
       "      <td>6.000000</td>\n",
       "    </tr>\n",
       "    <tr>\n",
       "      <th>50%</th>\n",
       "      <td>7443.000000</td>\n",
       "      <td>56.000000</td>\n",
       "      <td>47.500000</td>\n",
       "      <td>177.255925</td>\n",
       "      <td>1650.500000</td>\n",
       "      <td>62.500000</td>\n",
       "      <td>10.000000</td>\n",
       "      <td>3421.156721</td>\n",
       "      <td>1414.966279</td>\n",
       "      <td>15.000000</td>\n",
       "      <td>12.000000</td>\n",
       "    </tr>\n",
       "    <tr>\n",
       "      <th>75%</th>\n",
       "      <td>11007.000000</td>\n",
       "      <td>112.250000</td>\n",
       "      <td>94.000000</td>\n",
       "      <td>266.058022</td>\n",
       "      <td>2508.750000</td>\n",
       "      <td>169.250000</td>\n",
       "      <td>43.000000</td>\n",
       "      <td>5166.097373</td>\n",
       "      <td>2443.955404</td>\n",
       "      <td>23.000000</td>\n",
       "      <td>18.000000</td>\n",
       "    </tr>\n",
       "    <tr>\n",
       "      <th>max</th>\n",
       "      <td>14993.000000</td>\n",
       "      <td>556.000000</td>\n",
       "      <td>445.000000</td>\n",
       "      <td>1076.879741</td>\n",
       "      <td>3498.000000</td>\n",
       "      <td>1096.000000</td>\n",
       "      <td>352.000000</td>\n",
       "      <td>15135.391280</td>\n",
       "      <td>9746.253023</td>\n",
       "      <td>31.000000</td>\n",
       "      <td>30.000000</td>\n",
       "    </tr>\n",
       "  </tbody>\n",
       "</table>\n",
       "</div>"
      ],
      "text/plain": [
       "                 ID    sessions      drives  total_sessions  \\\n",
       "count    700.000000  700.000000  700.000000      700.000000   \n",
       "mean    7405.584286   80.837143   67.798571      198.483348   \n",
       "std     4306.900234   79.987440   65.271926      140.561715   \n",
       "min       77.000000    0.000000    0.000000        5.582648   \n",
       "25%     3744.500000   23.000000   20.000000       94.056340   \n",
       "50%     7443.000000   56.000000   47.500000      177.255925   \n",
       "75%    11007.000000  112.250000   94.000000      266.058022   \n",
       "max    14993.000000  556.000000  445.000000     1076.879741   \n",
       "\n",
       "       n_days_after_onboarding  total_navigations_fav1  \\\n",
       "count               700.000000              700.000000   \n",
       "mean               1709.295714              118.717143   \n",
       "std                1005.306562              156.308140   \n",
       "min                  16.000000                0.000000   \n",
       "25%                 869.000000                4.000000   \n",
       "50%                1650.500000               62.500000   \n",
       "75%                2508.750000              169.250000   \n",
       "max                3498.000000             1096.000000   \n",
       "\n",
       "       total_navigations_fav2  driven_km_drives  duration_minutes_drives  \\\n",
       "count              700.000000        700.000000               700.000000   \n",
       "mean                30.371429       3935.967029              1795.123358   \n",
       "std                 46.306984       2443.107121              1419.242246   \n",
       "min                  0.000000        290.119811                66.588493   \n",
       "25%                  0.000000       2119.344818               779.009271   \n",
       "50%                 10.000000       3421.156721              1414.966279   \n",
       "75%                 43.000000       5166.097373              2443.955404   \n",
       "max                352.000000      15135.391280              9746.253023   \n",
       "\n",
       "       activity_days  driving_days  \n",
       "count     700.000000    700.000000  \n",
       "mean       15.382857     12.125714  \n",
       "std         8.772714      7.626373  \n",
       "min         0.000000      0.000000  \n",
       "25%         8.000000      6.000000  \n",
       "50%        15.000000     12.000000  \n",
       "75%        23.000000     18.000000  \n",
       "max        31.000000     30.000000  "
      ]
     },
     "execution_count": 18,
     "metadata": {},
     "output_type": "execute_result"
    }
   ],
   "source": [
    "df_waze_null.describe()"
   ]
  },
  {
   "cell_type": "markdown",
   "id": "403a3dcc-24a7-4191-97b3-b4aca10a804b",
   "metadata": {},
   "source": [
    "Comparison of observation where `label` value is missing with those that are not missing didn't reveal anything noteworthy. By this, we mean that means and standard deviations are very consistent across both groups."
   ]
  },
  {
   "cell_type": "markdown",
   "id": "e2fd3d5f-d42c-4668-be8b-eb6da972c24b",
   "metadata": {},
   "source": [
    "For qualitative variable `device` - we will calculate distributions for both group by using **value_counts()** method from *pandas*."
   ]
  },
  {
   "cell_type": "code",
   "execution_count": 27,
   "id": "9332ac20-071d-4bcd-a57f-66c82aef6ffa",
   "metadata": {},
   "outputs": [
    {
     "name": "stdout",
     "output_type": "stream",
     "text": [
      "device\n",
      "iPhone     9225\n",
      "Android    5074\n",
      "Name: count, dtype: int64\n",
      "device\n",
      "iPhone     0.64515\n",
      "Android    0.35485\n",
      "Name: proportion, dtype: float64\n"
     ]
    }
   ],
   "source": [
    "print(df_waze_not_null['device'].value_counts())\n",
    "print(df_waze_not_null['device'].value_counts(normalize = True))"
   ]
  },
  {
   "cell_type": "code",
   "execution_count": 28,
   "id": "e0be915f-94f4-4859-8ab6-e62d0079d9ea",
   "metadata": {},
   "outputs": [
    {
     "name": "stdout",
     "output_type": "stream",
     "text": [
      "device\n",
      "iPhone     447\n",
      "Android    253\n",
      "Name: count, dtype: int64\n",
      "device\n",
      "iPhone     0.638571\n",
      "Android    0.361429\n",
      "Name: proportion, dtype: float64\n"
     ]
    }
   ],
   "source": [
    "print(df_waze_null['device'].value_counts())\n",
    "print(df_waze_null['device'].value_counts(normalize = True))"
   ]
  },
  {
   "cell_type": "markdown",
   "id": "2b5ac060-aea8-4459-aa21-79b7bb49b3bb",
   "metadata": {},
   "source": [
    "Also there, we see that there is nothing unusual in those distributions. Both are very similar.\n",
    "\n",
    "There is nothing to suggest a non-random cause of the missing data in our dataset."
   ]
  },
  {
   "cell_type": "markdown",
   "id": "5695cc78-e4b0-4c63-b000-e2b40a20a55a",
   "metadata": {},
   "source": [
    "In next step, we want to check for distribution in our target variable - `label`. We will use a **value_counts()** method again, once for numbers, and once for percentages, with parameter *normalize = True*."
   ]
  },
  {
   "cell_type": "code",
   "execution_count": 30,
   "id": "132647a9-6538-4f8b-b7e7-23b4771e9bff",
   "metadata": {},
   "outputs": [
    {
     "name": "stdout",
     "output_type": "stream",
     "text": [
      "label\n",
      "retained    11763\n",
      "churned      2536\n",
      "Name: count, dtype: int64\n",
      "label\n",
      "retained    0.822645\n",
      "churned     0.177355\n",
      "Name: proportion, dtype: float64\n"
     ]
    }
   ],
   "source": [
    "print(df_waze_0[\"label\"].value_counts())\n",
    "print(df_waze_0[\"label\"].value_counts(normalize = True))"
   ]
  },
  {
   "cell_type": "markdown",
   "id": "6c049710-421b-4cea-9fa1-395c496f65ed",
   "metadata": {},
   "source": [
    "Our dataset contains over 80% of retained users."
   ]
  },
  {
   "cell_type": "markdown",
   "id": "7bc95e9a-fac4-48bc-b6a8-3c68f7abbdc2",
   "metadata": {},
   "source": [
    "Next, we will look for median values of numerical variables for retained and churned users of Waze app. We use median instead of mean because it is resistant for outliers. We will use **groupby()** and **median()** methods from *pandas* module. "
   ]
  },
  {
   "cell_type": "code",
   "execution_count": 33,
   "id": "e7745ed6-1e37-4781-b9ed-b93f829723a4",
   "metadata": {},
   "outputs": [
    {
     "data": {
      "text/html": [
       "<div>\n",
       "<style scoped>\n",
       "    .dataframe tbody tr th:only-of-type {\n",
       "        vertical-align: middle;\n",
       "    }\n",
       "\n",
       "    .dataframe tbody tr th {\n",
       "        vertical-align: top;\n",
       "    }\n",
       "\n",
       "    .dataframe thead th {\n",
       "        text-align: right;\n",
       "    }\n",
       "</style>\n",
       "<table border=\"1\" class=\"dataframe\">\n",
       "  <thead>\n",
       "    <tr style=\"text-align: right;\">\n",
       "      <th></th>\n",
       "      <th>ID</th>\n",
       "      <th>sessions</th>\n",
       "      <th>drives</th>\n",
       "      <th>total_sessions</th>\n",
       "      <th>n_days_after_onboarding</th>\n",
       "      <th>total_navigations_fav1</th>\n",
       "      <th>total_navigations_fav2</th>\n",
       "      <th>driven_km_drives</th>\n",
       "      <th>duration_minutes_drives</th>\n",
       "      <th>activity_days</th>\n",
       "      <th>driving_days</th>\n",
       "    </tr>\n",
       "    <tr>\n",
       "      <th>label</th>\n",
       "      <th></th>\n",
       "      <th></th>\n",
       "      <th></th>\n",
       "      <th></th>\n",
       "      <th></th>\n",
       "      <th></th>\n",
       "      <th></th>\n",
       "      <th></th>\n",
       "      <th></th>\n",
       "      <th></th>\n",
       "      <th></th>\n",
       "    </tr>\n",
       "  </thead>\n",
       "  <tbody>\n",
       "    <tr>\n",
       "      <th>churned</th>\n",
       "      <td>7477.5</td>\n",
       "      <td>59.0</td>\n",
       "      <td>50.0</td>\n",
       "      <td>164.339042</td>\n",
       "      <td>1321.0</td>\n",
       "      <td>84.5</td>\n",
       "      <td>11.0</td>\n",
       "      <td>3652.655666</td>\n",
       "      <td>1607.183785</td>\n",
       "      <td>8.0</td>\n",
       "      <td>6.0</td>\n",
       "    </tr>\n",
       "    <tr>\n",
       "      <th>retained</th>\n",
       "      <td>7509.0</td>\n",
       "      <td>56.0</td>\n",
       "      <td>47.0</td>\n",
       "      <td>157.586756</td>\n",
       "      <td>1843.0</td>\n",
       "      <td>68.0</td>\n",
       "      <td>9.0</td>\n",
       "      <td>3464.684614</td>\n",
       "      <td>1458.046141</td>\n",
       "      <td>17.0</td>\n",
       "      <td>14.0</td>\n",
       "    </tr>\n",
       "  </tbody>\n",
       "</table>\n",
       "</div>"
      ],
      "text/plain": [
       "              ID  sessions  drives  total_sessions  n_days_after_onboarding  \\\n",
       "label                                                                         \n",
       "churned   7477.5      59.0    50.0      164.339042                   1321.0   \n",
       "retained  7509.0      56.0    47.0      157.586756                   1843.0   \n",
       "\n",
       "          total_navigations_fav1  total_navigations_fav2  driven_km_drives  \\\n",
       "label                                                                        \n",
       "churned                     84.5                    11.0       3652.655666   \n",
       "retained                    68.0                     9.0       3464.684614   \n",
       "\n",
       "          duration_minutes_drives  activity_days  driving_days  \n",
       "label                                                           \n",
       "churned               1607.183785            8.0           6.0  \n",
       "retained              1458.046141           17.0          14.0  "
      ]
     },
     "execution_count": 33,
     "metadata": {},
     "output_type": "execute_result"
    }
   ],
   "source": [
    "df_waze_0.groupby(\"label\").median(numeric_only = True)"
   ]
  },
  {
   "cell_type": "markdown",
   "id": "8168d14b-ed8a-4616-be86-c067c28052d2",
   "metadata": {},
   "source": [
    "This comparison offers an interesting snapshot of the two groups, churned vs. retained:\n",
    "\n",
    "Users who churned averaged about 3 more drives per month, but they got an over 2 times lower activity on app, counted in days. They also have more than 2 times less driving days throughout whole month than retained users. However, despite this fact, churned users drived more kms. It seems that users who left the app were doing longer drives in shorter period of time. To confirm this, we will create another column `km_driven_per_drive` which will help us calculate median kilometers per drive in the last month for both retained and churned users."
   ]
  },
  {
   "cell_type": "code",
   "execution_count": 34,
   "id": "06e66570-2838-45a5-86f2-b414af93e1c0",
   "metadata": {},
   "outputs": [],
   "source": [
    "df_waze_0[\"km_driven_per_drive\"] = df_waze_0[\"driven_km_drives\"] / df_waze_0[\"drives\"]"
   ]
  },
  {
   "cell_type": "markdown",
   "id": "49b60ebf-92d1-48e8-976e-f22841c10beb",
   "metadata": {},
   "source": [
    "As we divide by `drives` column, we want to check whether this column contains some zeros, and therefore whether our new created column contains some infinity values (np.inf)."
   ]
  },
  {
   "cell_type": "code",
   "execution_count": 70,
   "id": "48bed88d-1b94-4338-8a75-eb3a02dffdc7",
   "metadata": {},
   "outputs": [
    {
     "data": {
      "text/html": [
       "<div>\n",
       "<style scoped>\n",
       "    .dataframe tbody tr th:only-of-type {\n",
       "        vertical-align: middle;\n",
       "    }\n",
       "\n",
       "    .dataframe tbody tr th {\n",
       "        vertical-align: top;\n",
       "    }\n",
       "\n",
       "    .dataframe thead th {\n",
       "        text-align: right;\n",
       "    }\n",
       "</style>\n",
       "<table border=\"1\" class=\"dataframe\">\n",
       "  <thead>\n",
       "    <tr style=\"text-align: right;\">\n",
       "      <th></th>\n",
       "      <th>label</th>\n",
       "      <th>sessions</th>\n",
       "      <th>drives</th>\n",
       "      <th>total_sessions</th>\n",
       "      <th>n_days_after_onboarding</th>\n",
       "      <th>total_navigations_fav1</th>\n",
       "      <th>total_navigations_fav2</th>\n",
       "      <th>driven_km_drives</th>\n",
       "      <th>duration_minutes_drives</th>\n",
       "      <th>activity_days</th>\n",
       "      <th>driving_days</th>\n",
       "      <th>device</th>\n",
       "      <th>km_driven_per_drive</th>\n",
       "      <th>km_driven_per_driving_day</th>\n",
       "      <th>drives_per_driving_day</th>\n",
       "    </tr>\n",
       "  </thead>\n",
       "  <tbody>\n",
       "    <tr>\n",
       "      <th>25</th>\n",
       "      <td>retained</td>\n",
       "      <td>0</td>\n",
       "      <td>0</td>\n",
       "      <td>139.194969</td>\n",
       "      <td>2731</td>\n",
       "      <td>13</td>\n",
       "      <td>4</td>\n",
       "      <td>5702.339466</td>\n",
       "      <td>4582.737478</td>\n",
       "      <td>6</td>\n",
       "      <td>2</td>\n",
       "      <td>Android</td>\n",
       "      <td>inf</td>\n",
       "      <td>2851.169733</td>\n",
       "      <td>0.0</td>\n",
       "    </tr>\n",
       "    <tr>\n",
       "      <th>97</th>\n",
       "      <td>retained</td>\n",
       "      <td>0</td>\n",
       "      <td>0</td>\n",
       "      <td>559.547112</td>\n",
       "      <td>2879</td>\n",
       "      <td>0</td>\n",
       "      <td>0</td>\n",
       "      <td>6668.844350</td>\n",
       "      <td>3511.370419</td>\n",
       "      <td>28</td>\n",
       "      <td>24</td>\n",
       "      <td>Android</td>\n",
       "      <td>inf</td>\n",
       "      <td>277.868515</td>\n",
       "      <td>0.0</td>\n",
       "    </tr>\n",
       "    <tr>\n",
       "      <th>217</th>\n",
       "      <td>retained</td>\n",
       "      <td>0</td>\n",
       "      <td>0</td>\n",
       "      <td>33.710210</td>\n",
       "      <td>629</td>\n",
       "      <td>160</td>\n",
       "      <td>0</td>\n",
       "      <td>6103.881670</td>\n",
       "      <td>1767.846528</td>\n",
       "      <td>8</td>\n",
       "      <td>2</td>\n",
       "      <td>iPhone</td>\n",
       "      <td>inf</td>\n",
       "      <td>3051.940835</td>\n",
       "      <td>0.0</td>\n",
       "    </tr>\n",
       "    <tr>\n",
       "      <th>339</th>\n",
       "      <td>retained</td>\n",
       "      <td>0</td>\n",
       "      <td>0</td>\n",
       "      <td>0.220211</td>\n",
       "      <td>347</td>\n",
       "      <td>130</td>\n",
       "      <td>0</td>\n",
       "      <td>2520.850896</td>\n",
       "      <td>1539.318152</td>\n",
       "      <td>20</td>\n",
       "      <td>15</td>\n",
       "      <td>iPhone</td>\n",
       "      <td>inf</td>\n",
       "      <td>168.056726</td>\n",
       "      <td>0.0</td>\n",
       "    </tr>\n",
       "    <tr>\n",
       "      <th>485</th>\n",
       "      <td>NaN</td>\n",
       "      <td>0</td>\n",
       "      <td>0</td>\n",
       "      <td>90.747466</td>\n",
       "      <td>579</td>\n",
       "      <td>229</td>\n",
       "      <td>0</td>\n",
       "      <td>1363.206140</td>\n",
       "      <td>66.588493</td>\n",
       "      <td>15</td>\n",
       "      <td>11</td>\n",
       "      <td>iPhone</td>\n",
       "      <td>inf</td>\n",
       "      <td>123.927831</td>\n",
       "      <td>0.0</td>\n",
       "    </tr>\n",
       "    <tr>\n",
       "      <th>...</th>\n",
       "      <td>...</td>\n",
       "      <td>...</td>\n",
       "      <td>...</td>\n",
       "      <td>...</td>\n",
       "      <td>...</td>\n",
       "      <td>...</td>\n",
       "      <td>...</td>\n",
       "      <td>...</td>\n",
       "      <td>...</td>\n",
       "      <td>...</td>\n",
       "      <td>...</td>\n",
       "      <td>...</td>\n",
       "      <td>...</td>\n",
       "      <td>...</td>\n",
       "      <td>...</td>\n",
       "    </tr>\n",
       "    <tr>\n",
       "      <th>14411</th>\n",
       "      <td>retained</td>\n",
       "      <td>0</td>\n",
       "      <td>0</td>\n",
       "      <td>472.078785</td>\n",
       "      <td>1746</td>\n",
       "      <td>126</td>\n",
       "      <td>0</td>\n",
       "      <td>3148.136679</td>\n",
       "      <td>1685.365455</td>\n",
       "      <td>20</td>\n",
       "      <td>18</td>\n",
       "      <td>Android</td>\n",
       "      <td>inf</td>\n",
       "      <td>174.896482</td>\n",
       "      <td>0.0</td>\n",
       "    </tr>\n",
       "    <tr>\n",
       "      <th>14549</th>\n",
       "      <td>retained</td>\n",
       "      <td>0</td>\n",
       "      <td>0</td>\n",
       "      <td>96.781778</td>\n",
       "      <td>2732</td>\n",
       "      <td>425</td>\n",
       "      <td>16</td>\n",
       "      <td>1394.604767</td>\n",
       "      <td>573.591169</td>\n",
       "      <td>18</td>\n",
       "      <td>10</td>\n",
       "      <td>iPhone</td>\n",
       "      <td>inf</td>\n",
       "      <td>139.460477</td>\n",
       "      <td>0.0</td>\n",
       "    </tr>\n",
       "    <tr>\n",
       "      <th>14562</th>\n",
       "      <td>retained</td>\n",
       "      <td>0</td>\n",
       "      <td>0</td>\n",
       "      <td>20.067490</td>\n",
       "      <td>1355</td>\n",
       "      <td>83</td>\n",
       "      <td>98</td>\n",
       "      <td>1805.177261</td>\n",
       "      <td>271.398262</td>\n",
       "      <td>23</td>\n",
       "      <td>17</td>\n",
       "      <td>iPhone</td>\n",
       "      <td>inf</td>\n",
       "      <td>106.186898</td>\n",
       "      <td>0.0</td>\n",
       "    </tr>\n",
       "    <tr>\n",
       "      <th>14668</th>\n",
       "      <td>retained</td>\n",
       "      <td>0</td>\n",
       "      <td>0</td>\n",
       "      <td>5.626862</td>\n",
       "      <td>592</td>\n",
       "      <td>0</td>\n",
       "      <td>0</td>\n",
       "      <td>7959.247975</td>\n",
       "      <td>869.674910</td>\n",
       "      <td>13</td>\n",
       "      <td>9</td>\n",
       "      <td>Android</td>\n",
       "      <td>inf</td>\n",
       "      <td>884.360886</td>\n",
       "      <td>0.0</td>\n",
       "    </tr>\n",
       "    <tr>\n",
       "      <th>14861</th>\n",
       "      <td>retained</td>\n",
       "      <td>0</td>\n",
       "      <td>0</td>\n",
       "      <td>94.920955</td>\n",
       "      <td>3047</td>\n",
       "      <td>13</td>\n",
       "      <td>3</td>\n",
       "      <td>7924.880981</td>\n",
       "      <td>5294.748260</td>\n",
       "      <td>26</td>\n",
       "      <td>22</td>\n",
       "      <td>iPhone</td>\n",
       "      <td>inf</td>\n",
       "      <td>360.221863</td>\n",
       "      <td>0.0</td>\n",
       "    </tr>\n",
       "  </tbody>\n",
       "</table>\n",
       "<p>106 rows × 15 columns</p>\n",
       "</div>"
      ],
      "text/plain": [
       "          label  sessions  drives  total_sessions  n_days_after_onboarding  \\\n",
       "25     retained         0       0      139.194969                     2731   \n",
       "97     retained         0       0      559.547112                     2879   \n",
       "217    retained         0       0       33.710210                      629   \n",
       "339    retained         0       0        0.220211                      347   \n",
       "485         NaN         0       0       90.747466                      579   \n",
       "...         ...       ...     ...             ...                      ...   \n",
       "14411  retained         0       0      472.078785                     1746   \n",
       "14549  retained         0       0       96.781778                     2732   \n",
       "14562  retained         0       0       20.067490                     1355   \n",
       "14668  retained         0       0        5.626862                      592   \n",
       "14861  retained         0       0       94.920955                     3047   \n",
       "\n",
       "       total_navigations_fav1  total_navigations_fav2  driven_km_drives  \\\n",
       "25                         13                       4       5702.339466   \n",
       "97                          0                       0       6668.844350   \n",
       "217                       160                       0       6103.881670   \n",
       "339                       130                       0       2520.850896   \n",
       "485                       229                       0       1363.206140   \n",
       "...                       ...                     ...               ...   \n",
       "14411                     126                       0       3148.136679   \n",
       "14549                     425                      16       1394.604767   \n",
       "14562                      83                      98       1805.177261   \n",
       "14668                       0                       0       7959.247975   \n",
       "14861                      13                       3       7924.880981   \n",
       "\n",
       "       duration_minutes_drives  activity_days  driving_days   device  \\\n",
       "25                 4582.737478              6             2  Android   \n",
       "97                 3511.370419             28            24  Android   \n",
       "217                1767.846528              8             2   iPhone   \n",
       "339                1539.318152             20            15   iPhone   \n",
       "485                  66.588493             15            11   iPhone   \n",
       "...                        ...            ...           ...      ...   \n",
       "14411              1685.365455             20            18  Android   \n",
       "14549               573.591169             18            10   iPhone   \n",
       "14562               271.398262             23            17   iPhone   \n",
       "14668               869.674910             13             9  Android   \n",
       "14861              5294.748260             26            22   iPhone   \n",
       "\n",
       "       km_driven_per_drive  km_driven_per_driving_day  drives_per_driving_day  \n",
       "25                     inf                2851.169733                     0.0  \n",
       "97                     inf                 277.868515                     0.0  \n",
       "217                    inf                3051.940835                     0.0  \n",
       "339                    inf                 168.056726                     0.0  \n",
       "485                    inf                 123.927831                     0.0  \n",
       "...                    ...                        ...                     ...  \n",
       "14411                  inf                 174.896482                     0.0  \n",
       "14549                  inf                 139.460477                     0.0  \n",
       "14562                  inf                 106.186898                     0.0  \n",
       "14668                  inf                 884.360886                     0.0  \n",
       "14861                  inf                 360.221863                     0.0  \n",
       "\n",
       "[106 rows x 15 columns]"
      ]
     },
     "execution_count": 70,
     "metadata": {},
     "output_type": "execute_result"
    }
   ],
   "source": [
    "df_waze_0[ df_waze_0[\"km_driven_per_drive\"] == np.inf ]"
   ]
  },
  {
   "cell_type": "markdown",
   "id": "7eb80f16-7b36-40c5-9b6e-7883f643a5bd",
   "metadata": {},
   "source": [
    "As we see above, there are 106 np.inf values for our new column. We dont want them, so we assign those obsevations manually with zero value."
   ]
  },
  {
   "cell_type": "code",
   "execution_count": 79,
   "id": "1da45440-956f-4795-a94e-22ddef82a30b",
   "metadata": {
    "scrolled": true
   },
   "outputs": [],
   "source": [
    "df_waze_0[\"km_driven_per_drive\"] = df_waze_0[\"km_driven_per_drive\"].replace(np.inf, 0)"
   ]
  },
  {
   "cell_type": "code",
   "execution_count": 78,
   "id": "feff9fce-5856-4a91-8353-f2a523550dc5",
   "metadata": {},
   "outputs": [
    {
     "data": {
      "text/html": [
       "<div>\n",
       "<style scoped>\n",
       "    .dataframe tbody tr th:only-of-type {\n",
       "        vertical-align: middle;\n",
       "    }\n",
       "\n",
       "    .dataframe tbody tr th {\n",
       "        vertical-align: top;\n",
       "    }\n",
       "\n",
       "    .dataframe thead th {\n",
       "        text-align: right;\n",
       "    }\n",
       "</style>\n",
       "<table border=\"1\" class=\"dataframe\">\n",
       "  <thead>\n",
       "    <tr style=\"text-align: right;\">\n",
       "      <th></th>\n",
       "      <th>label</th>\n",
       "      <th>sessions</th>\n",
       "      <th>drives</th>\n",
       "      <th>total_sessions</th>\n",
       "      <th>n_days_after_onboarding</th>\n",
       "      <th>total_navigations_fav1</th>\n",
       "      <th>total_navigations_fav2</th>\n",
       "      <th>driven_km_drives</th>\n",
       "      <th>duration_minutes_drives</th>\n",
       "      <th>activity_days</th>\n",
       "      <th>driving_days</th>\n",
       "      <th>device</th>\n",
       "      <th>km_driven_per_drive</th>\n",
       "      <th>km_driven_per_driving_day</th>\n",
       "      <th>drives_per_driving_day</th>\n",
       "    </tr>\n",
       "  </thead>\n",
       "  <tbody>\n",
       "  </tbody>\n",
       "</table>\n",
       "</div>"
      ],
      "text/plain": [
       "Empty DataFrame\n",
       "Columns: [label, sessions, drives, total_sessions, n_days_after_onboarding, total_navigations_fav1, total_navigations_fav2, driven_km_drives, duration_minutes_drives, activity_days, driving_days, device, km_driven_per_drive, km_driven_per_driving_day, drives_per_driving_day]\n",
       "Index: []"
      ]
     },
     "execution_count": 78,
     "metadata": {},
     "output_type": "execute_result"
    }
   ],
   "source": [
    "df_waze_0[ df_waze_0[\"km_driven_per_drive\"] == np.inf ]"
   ]
  },
  {
   "cell_type": "markdown",
   "id": "21976352-15a1-4b70-9ea8-4f978610dd42",
   "metadata": {},
   "source": [
    "As we checked above, our operation was succeed. We can now calculate median values."
   ]
  },
  {
   "cell_type": "code",
   "execution_count": 38,
   "id": "23505248-ee22-4c8e-88b7-151a6a6c4678",
   "metadata": {
    "scrolled": true
   },
   "outputs": [
    {
     "data": {
      "text/html": [
       "<div>\n",
       "<style scoped>\n",
       "    .dataframe tbody tr th:only-of-type {\n",
       "        vertical-align: middle;\n",
       "    }\n",
       "\n",
       "    .dataframe tbody tr th {\n",
       "        vertical-align: top;\n",
       "    }\n",
       "\n",
       "    .dataframe thead th {\n",
       "        text-align: right;\n",
       "    }\n",
       "</style>\n",
       "<table border=\"1\" class=\"dataframe\">\n",
       "  <thead>\n",
       "    <tr style=\"text-align: right;\">\n",
       "      <th></th>\n",
       "      <th>km_driven_per_drive</th>\n",
       "    </tr>\n",
       "    <tr>\n",
       "      <th>label</th>\n",
       "      <th></th>\n",
       "    </tr>\n",
       "  </thead>\n",
       "  <tbody>\n",
       "    <tr>\n",
       "      <th>churned</th>\n",
       "      <td>74.109416</td>\n",
       "    </tr>\n",
       "    <tr>\n",
       "      <th>retained</th>\n",
       "      <td>75.014702</td>\n",
       "    </tr>\n",
       "  </tbody>\n",
       "</table>\n",
       "</div>"
      ],
      "text/plain": [
       "          km_driven_per_drive\n",
       "label                        \n",
       "churned             74.109416\n",
       "retained            75.014702"
      ]
     },
     "execution_count": 38,
     "metadata": {},
     "output_type": "execute_result"
    }
   ],
   "source": [
    "df_waze_0[[\"km_driven_per_drive\", \"label\"]].groupby(\"label\").median()"
   ]
  },
  {
   "cell_type": "markdown",
   "id": "851eeb6a-b145-42c6-9190-570f8f3c3075",
   "metadata": {},
   "source": [
    "The users who are more loyal to our app have averaged almost one more km per drive than churned users."
   ]
  },
  {
   "cell_type": "markdown",
   "id": "a38afe08-7a5c-47d8-a106-f40c02c4794d",
   "metadata": {},
   "source": [
    "We will also try the same thing, just investigating number of kms per driving days instead of particular drives."
   ]
  },
  {
   "cell_type": "code",
   "execution_count": 42,
   "id": "162e8967-b747-471e-9597-0f9e1fb9afe7",
   "metadata": {},
   "outputs": [],
   "source": [
    "df_waze_0[\"km_driven_per_driving_day\"] = df_waze_0[\"driven_km_drives\"] / df_waze_0[\"driving_days\"]"
   ]
  },
  {
   "cell_type": "code",
   "execution_count": 80,
   "id": "bc488347-2680-469b-92e3-1ff8282b6ffd",
   "metadata": {},
   "outputs": [],
   "source": [
    "df_waze_0[\"km_driven_per_driving_day\"] = df_waze_0[\"km_driven_per_driving_day\"].replace(np.inf, 0)"
   ]
  },
  {
   "cell_type": "code",
   "execution_count": 43,
   "id": "c5c19f60-85fd-47bb-a316-e14312b47898",
   "metadata": {},
   "outputs": [
    {
     "data": {
      "text/html": [
       "<div>\n",
       "<style scoped>\n",
       "    .dataframe tbody tr th:only-of-type {\n",
       "        vertical-align: middle;\n",
       "    }\n",
       "\n",
       "    .dataframe tbody tr th {\n",
       "        vertical-align: top;\n",
       "    }\n",
       "\n",
       "    .dataframe thead th {\n",
       "        text-align: right;\n",
       "    }\n",
       "</style>\n",
       "<table border=\"1\" class=\"dataframe\">\n",
       "  <thead>\n",
       "    <tr style=\"text-align: right;\">\n",
       "      <th></th>\n",
       "      <th>km_driven_per_driving_day</th>\n",
       "    </tr>\n",
       "    <tr>\n",
       "      <th>label</th>\n",
       "      <th></th>\n",
       "    </tr>\n",
       "  </thead>\n",
       "  <tbody>\n",
       "    <tr>\n",
       "      <th>churned</th>\n",
       "      <td>697.541999</td>\n",
       "    </tr>\n",
       "    <tr>\n",
       "      <th>retained</th>\n",
       "      <td>289.549333</td>\n",
       "    </tr>\n",
       "  </tbody>\n",
       "</table>\n",
       "</div>"
      ],
      "text/plain": [
       "          km_driven_per_driving_day\n",
       "label                              \n",
       "churned                  697.541999\n",
       "retained                 289.549333"
      ]
     },
     "execution_count": 43,
     "metadata": {},
     "output_type": "execute_result"
    }
   ],
   "source": [
    "df_waze_0[[\"km_driven_per_driving_day\", \"label\"]].groupby(\"label\").median()"
   ]
  },
  {
   "cell_type": "markdown",
   "id": "0dc99a16-d1b7-4aa0-b9c1-235d91eac850",
   "metadata": {},
   "source": [
    "We also check the ratio of amount of drives for each driving day for our studied groups:"
   ]
  },
  {
   "cell_type": "code",
   "execution_count": 81,
   "id": "d62ee850-6b7a-4854-8a4d-638e02623b2b",
   "metadata": {},
   "outputs": [
    {
     "data": {
      "text/html": [
       "<div>\n",
       "<style scoped>\n",
       "    .dataframe tbody tr th:only-of-type {\n",
       "        vertical-align: middle;\n",
       "    }\n",
       "\n",
       "    .dataframe tbody tr th {\n",
       "        vertical-align: top;\n",
       "    }\n",
       "\n",
       "    .dataframe thead th {\n",
       "        text-align: right;\n",
       "    }\n",
       "</style>\n",
       "<table border=\"1\" class=\"dataframe\">\n",
       "  <thead>\n",
       "    <tr style=\"text-align: right;\">\n",
       "      <th></th>\n",
       "      <th>drives_per_driving_day</th>\n",
       "    </tr>\n",
       "    <tr>\n",
       "      <th>label</th>\n",
       "      <th></th>\n",
       "    </tr>\n",
       "  </thead>\n",
       "  <tbody>\n",
       "    <tr>\n",
       "      <th>churned</th>\n",
       "      <td>5.500000</td>\n",
       "    </tr>\n",
       "    <tr>\n",
       "      <th>retained</th>\n",
       "      <td>3.470588</td>\n",
       "    </tr>\n",
       "  </tbody>\n",
       "</table>\n",
       "</div>"
      ],
      "text/plain": [
       "          drives_per_driving_day\n",
       "label                           \n",
       "churned                 5.500000\n",
       "retained                3.470588"
      ]
     },
     "execution_count": 81,
     "metadata": {},
     "output_type": "execute_result"
    }
   ],
   "source": [
    "df_waze_0[\"drives_per_driving_day\"] = df_waze_0[\"drives\"] / df_waze_0[\"driving_days\"]\n",
    "df_waze_0[\"drives_per_driving_day\"] = df_waze_0[\"drives_per_driving_day\"].replace(np.inf, 0)\n",
    "df_waze_0[[\"drives_per_driving_day\", \"label\"]].groupby(\"label\").median()"
   ]
  },
  {
   "cell_type": "markdown",
   "id": "0b28db6d-1dd1-40fe-aedb-82658e93fc52",
   "metadata": {},
   "source": [
    "The median user who churned drove 698 kilometers each day. They drove last month almost 2.5 times(!) more than retained users per driving day. What's more, we see that those users also have more drives per each day, with very similar proportion (240%-250% more) comparing to retained users group. \n",
    "<br>\n",
    "It is more than clear that all users, no matter whether they churned or not, are driving a lot. With almost 300kms and 700kms per each group, it is safe to assume that those numbers does not represent casual drivers. It is really likely that our dataset represents some kind of proffesional drivers. It would be good idea to recommend gather more data on those super drivers. Maybe the reason why they drive so much is also the reason why they leave our app more often, because it does not meet their specific needs which could differ from more casual drivers. "
   ]
  },
  {
   "cell_type": "markdown",
   "id": "e09fed2c-394c-404a-8770-ee430ba1d9ab",
   "metadata": {},
   "source": [
    "Also, we want to check whether there is any relationship between churn and our only qualitative explanatory variable."
   ]
  },
  {
   "cell_type": "code",
   "execution_count": 46,
   "id": "1858192b-13e5-4651-8738-5c88ec1115ad",
   "metadata": {},
   "outputs": [
    {
     "data": {
      "text/plain": [
       "label     device \n",
       "churned   iPhone     1645\n",
       "          Android     891\n",
       "retained  iPhone     7580\n",
       "          Android    4183\n",
       "Name: count, dtype: int64"
      ]
     },
     "execution_count": 46,
     "metadata": {},
     "output_type": "execute_result"
    }
   ],
   "source": [
    "df_waze_0.groupby(\"label\")[\"device\"].value_counts()"
   ]
  },
  {
   "cell_type": "code",
   "execution_count": 47,
   "id": "4f486852-a307-49aa-862e-5099095b8281",
   "metadata": {},
   "outputs": [
    {
     "data": {
      "text/plain": [
       "label     device \n",
       "churned   iPhone     0.648659\n",
       "          Android    0.351341\n",
       "retained  iPhone     0.644393\n",
       "          Android    0.355607\n",
       "Name: proportion, dtype: float64"
      ]
     },
     "execution_count": 47,
     "metadata": {},
     "output_type": "execute_result"
    }
   ],
   "source": [
    "df_waze_0.groupby(\"label\")[\"device\"].value_counts(normalize = True)"
   ]
  },
  {
   "cell_type": "markdown",
   "id": "8994c482-fb7c-4660-97f2-3c47c0161b6b",
   "metadata": {},
   "source": [
    "The ratio between iPhone and Android users is very consistent between churned group and those who retained with our app."
   ]
  },
  {
   "cell_type": "markdown",
   "id": "4e937b10-f0f7-4fd9-b220-07571d2c02da",
   "metadata": {},
   "source": [
    "## <center>  2. Cleaning and pre-processing data to prepare it for further analysis   </center>\n"
   ]
  },
  {
   "cell_type": "markdown",
   "id": "0c2978ca-bb84-4b88-a02d-2f32f8d633ce",
   "metadata": {},
   "source": [
    "Given our scenario, we will choose which columns are most applicable. Since we are interested in user churn, the `label` column is necessary. Beside that, we will recognize all columns related to any kind of user behavior as applicable to our task. The only column that does not provide useful information is `ID` as we do not want to identificate particular users. Therefore, we will drop this column."
   ]
  },
  {
   "cell_type": "code",
   "execution_count": 52,
   "id": "d8fe28c3-e059-4a36-b9ff-cc91b3dd7492",
   "metadata": {},
   "outputs": [],
   "source": [
    "df_waze_0 = df_waze_0.drop(\"ID\", axis = 1)"
   ]
  },
  {
   "cell_type": "code",
   "execution_count": 54,
   "id": "410caa2c-25f1-47e0-9b9d-87be62e0d8a8",
   "metadata": {},
   "outputs": [
    {
     "data": {
      "text/html": [
       "<div>\n",
       "<style scoped>\n",
       "    .dataframe tbody tr th:only-of-type {\n",
       "        vertical-align: middle;\n",
       "    }\n",
       "\n",
       "    .dataframe tbody tr th {\n",
       "        vertical-align: top;\n",
       "    }\n",
       "\n",
       "    .dataframe thead th {\n",
       "        text-align: right;\n",
       "    }\n",
       "</style>\n",
       "<table border=\"1\" class=\"dataframe\">\n",
       "  <thead>\n",
       "    <tr style=\"text-align: right;\">\n",
       "      <th></th>\n",
       "      <th>label</th>\n",
       "      <th>sessions</th>\n",
       "      <th>drives</th>\n",
       "      <th>total_sessions</th>\n",
       "      <th>n_days_after_onboarding</th>\n",
       "      <th>total_navigations_fav1</th>\n",
       "      <th>total_navigations_fav2</th>\n",
       "      <th>driven_km_drives</th>\n",
       "      <th>duration_minutes_drives</th>\n",
       "      <th>activity_days</th>\n",
       "      <th>driving_days</th>\n",
       "      <th>device</th>\n",
       "      <th>km_driven_per_drive</th>\n",
       "      <th>km_driven_per_driving_day</th>\n",
       "      <th>drives_per_driving_day</th>\n",
       "    </tr>\n",
       "  </thead>\n",
       "  <tbody>\n",
       "    <tr>\n",
       "      <th>0</th>\n",
       "      <td>retained</td>\n",
       "      <td>283</td>\n",
       "      <td>226</td>\n",
       "      <td>296.748273</td>\n",
       "      <td>2276</td>\n",
       "      <td>208</td>\n",
       "      <td>0</td>\n",
       "      <td>2628.845068</td>\n",
       "      <td>1985.775061</td>\n",
       "      <td>28</td>\n",
       "      <td>19</td>\n",
       "      <td>Android</td>\n",
       "      <td>11.632058</td>\n",
       "      <td>138.360267</td>\n",
       "      <td>11.894737</td>\n",
       "    </tr>\n",
       "    <tr>\n",
       "      <th>1</th>\n",
       "      <td>retained</td>\n",
       "      <td>133</td>\n",
       "      <td>107</td>\n",
       "      <td>326.896596</td>\n",
       "      <td>1225</td>\n",
       "      <td>19</td>\n",
       "      <td>64</td>\n",
       "      <td>13715.920550</td>\n",
       "      <td>3160.472914</td>\n",
       "      <td>13</td>\n",
       "      <td>11</td>\n",
       "      <td>iPhone</td>\n",
       "      <td>128.186173</td>\n",
       "      <td>1246.901868</td>\n",
       "      <td>9.727273</td>\n",
       "    </tr>\n",
       "    <tr>\n",
       "      <th>2</th>\n",
       "      <td>retained</td>\n",
       "      <td>114</td>\n",
       "      <td>95</td>\n",
       "      <td>135.522926</td>\n",
       "      <td>2651</td>\n",
       "      <td>0</td>\n",
       "      <td>0</td>\n",
       "      <td>3059.148818</td>\n",
       "      <td>1610.735904</td>\n",
       "      <td>14</td>\n",
       "      <td>8</td>\n",
       "      <td>Android</td>\n",
       "      <td>32.201567</td>\n",
       "      <td>382.393602</td>\n",
       "      <td>11.875000</td>\n",
       "    </tr>\n",
       "    <tr>\n",
       "      <th>3</th>\n",
       "      <td>retained</td>\n",
       "      <td>49</td>\n",
       "      <td>40</td>\n",
       "      <td>67.589221</td>\n",
       "      <td>15</td>\n",
       "      <td>322</td>\n",
       "      <td>7</td>\n",
       "      <td>913.591123</td>\n",
       "      <td>587.196542</td>\n",
       "      <td>7</td>\n",
       "      <td>3</td>\n",
       "      <td>iPhone</td>\n",
       "      <td>22.839778</td>\n",
       "      <td>304.530374</td>\n",
       "      <td>13.333333</td>\n",
       "    </tr>\n",
       "    <tr>\n",
       "      <th>4</th>\n",
       "      <td>retained</td>\n",
       "      <td>84</td>\n",
       "      <td>68</td>\n",
       "      <td>168.247020</td>\n",
       "      <td>1562</td>\n",
       "      <td>166</td>\n",
       "      <td>5</td>\n",
       "      <td>3950.202008</td>\n",
       "      <td>1219.555924</td>\n",
       "      <td>27</td>\n",
       "      <td>18</td>\n",
       "      <td>Android</td>\n",
       "      <td>58.091206</td>\n",
       "      <td>219.455667</td>\n",
       "      <td>3.777778</td>\n",
       "    </tr>\n",
       "  </tbody>\n",
       "</table>\n",
       "</div>"
      ],
      "text/plain": [
       "      label  sessions  drives  total_sessions  n_days_after_onboarding  \\\n",
       "0  retained       283     226      296.748273                     2276   \n",
       "1  retained       133     107      326.896596                     1225   \n",
       "2  retained       114      95      135.522926                     2651   \n",
       "3  retained        49      40       67.589221                       15   \n",
       "4  retained        84      68      168.247020                     1562   \n",
       "\n",
       "   total_navigations_fav1  total_navigations_fav2  driven_km_drives  \\\n",
       "0                     208                       0       2628.845068   \n",
       "1                      19                      64      13715.920550   \n",
       "2                       0                       0       3059.148818   \n",
       "3                     322                       7        913.591123   \n",
       "4                     166                       5       3950.202008   \n",
       "\n",
       "   duration_minutes_drives  activity_days  driving_days   device  \\\n",
       "0              1985.775061             28            19  Android   \n",
       "1              3160.472914             13            11   iPhone   \n",
       "2              1610.735904             14             8  Android   \n",
       "3               587.196542              7             3   iPhone   \n",
       "4              1219.555924             27            18  Android   \n",
       "\n",
       "   km_driven_per_drive  km_driven_per_driving_day  drives_per_driving_day  \n",
       "0            11.632058                 138.360267               11.894737  \n",
       "1           128.186173                1246.901868                9.727273  \n",
       "2            32.201567                 382.393602               11.875000  \n",
       "3            22.839778                 304.530374               13.333333  \n",
       "4            58.091206                 219.455667                3.777778  "
      ]
     },
     "execution_count": 54,
     "metadata": {},
     "output_type": "execute_result"
    }
   ],
   "source": [
    "df_waze_0.head()"
   ]
  },
  {
   "cell_type": "markdown",
   "id": "62309020-f69d-4bf3-a254-612a16abcb5b",
   "metadata": {},
   "source": [
    "Next step will include handling with outliers. To identify them, we will use mean and median values as well as boxplots which will provide us visual representation of potential outliers. "
   ]
  },
  {
   "cell_type": "code",
   "execution_count": 83,
   "id": "5f90970f-04fc-462d-bd8c-7d2ea49cbee9",
   "metadata": {},
   "outputs": [
    {
     "data": {
      "text/html": [
       "<div>\n",
       "<style scoped>\n",
       "    .dataframe tbody tr th:only-of-type {\n",
       "        vertical-align: middle;\n",
       "    }\n",
       "\n",
       "    .dataframe tbody tr th {\n",
       "        vertical-align: top;\n",
       "    }\n",
       "\n",
       "    .dataframe thead th {\n",
       "        text-align: right;\n",
       "    }\n",
       "</style>\n",
       "<table border=\"1\" class=\"dataframe\">\n",
       "  <thead>\n",
       "    <tr style=\"text-align: right;\">\n",
       "      <th></th>\n",
       "      <th>sessions</th>\n",
       "      <th>drives</th>\n",
       "      <th>total_sessions</th>\n",
       "      <th>n_days_after_onboarding</th>\n",
       "      <th>total_navigations_fav1</th>\n",
       "      <th>total_navigations_fav2</th>\n",
       "      <th>driven_km_drives</th>\n",
       "      <th>duration_minutes_drives</th>\n",
       "      <th>activity_days</th>\n",
       "      <th>driving_days</th>\n",
       "      <th>km_driven_per_drive</th>\n",
       "      <th>km_driven_per_driving_day</th>\n",
       "      <th>drives_per_driving_day</th>\n",
       "    </tr>\n",
       "  </thead>\n",
       "  <tbody>\n",
       "    <tr>\n",
       "      <th>count</th>\n",
       "      <td>14999.000000</td>\n",
       "      <td>14999.000000</td>\n",
       "      <td>14999.000000</td>\n",
       "      <td>14999.000000</td>\n",
       "      <td>14999.000000</td>\n",
       "      <td>14999.000000</td>\n",
       "      <td>14999.000000</td>\n",
       "      <td>14999.000000</td>\n",
       "      <td>14999.000000</td>\n",
       "      <td>14999.000000</td>\n",
       "      <td>14999.000000</td>\n",
       "      <td>14999.000000</td>\n",
       "      <td>14992.000000</td>\n",
       "    </tr>\n",
       "    <tr>\n",
       "      <th>mean</th>\n",
       "      <td>80.633776</td>\n",
       "      <td>67.281152</td>\n",
       "      <td>189.964447</td>\n",
       "      <td>1749.837789</td>\n",
       "      <td>121.605974</td>\n",
       "      <td>29.672512</td>\n",
       "      <td>4039.340921</td>\n",
       "      <td>1860.976012</td>\n",
       "      <td>15.537102</td>\n",
       "      <td>12.179879</td>\n",
       "      <td>232.817946</td>\n",
       "      <td>578.963113</td>\n",
       "      <td>9.387368</td>\n",
       "    </tr>\n",
       "    <tr>\n",
       "      <th>std</th>\n",
       "      <td>80.699065</td>\n",
       "      <td>65.913872</td>\n",
       "      <td>136.405128</td>\n",
       "      <td>1008.513876</td>\n",
       "      <td>148.121544</td>\n",
       "      <td>45.394651</td>\n",
       "      <td>2502.149334</td>\n",
       "      <td>1446.702288</td>\n",
       "      <td>9.004655</td>\n",
       "      <td>7.824036</td>\n",
       "      <td>620.622351</td>\n",
       "      <td>1030.094384</td>\n",
       "      <td>19.826097</td>\n",
       "    </tr>\n",
       "    <tr>\n",
       "      <th>min</th>\n",
       "      <td>0.000000</td>\n",
       "      <td>0.000000</td>\n",
       "      <td>0.220211</td>\n",
       "      <td>4.000000</td>\n",
       "      <td>0.000000</td>\n",
       "      <td>0.000000</td>\n",
       "      <td>60.441250</td>\n",
       "      <td>18.282082</td>\n",
       "      <td>0.000000</td>\n",
       "      <td>0.000000</td>\n",
       "      <td>0.000000</td>\n",
       "      <td>0.000000</td>\n",
       "      <td>0.000000</td>\n",
       "    </tr>\n",
       "    <tr>\n",
       "      <th>25%</th>\n",
       "      <td>23.000000</td>\n",
       "      <td>20.000000</td>\n",
       "      <td>90.661156</td>\n",
       "      <td>878.000000</td>\n",
       "      <td>9.000000</td>\n",
       "      <td>0.000000</td>\n",
       "      <td>2212.600607</td>\n",
       "      <td>835.996260</td>\n",
       "      <td>8.000000</td>\n",
       "      <td>5.000000</td>\n",
       "      <td>32.424301</td>\n",
       "      <td>136.238895</td>\n",
       "      <td>1.250000</td>\n",
       "    </tr>\n",
       "    <tr>\n",
       "      <th>50%</th>\n",
       "      <td>56.000000</td>\n",
       "      <td>48.000000</td>\n",
       "      <td>159.568115</td>\n",
       "      <td>1741.000000</td>\n",
       "      <td>71.000000</td>\n",
       "      <td>9.000000</td>\n",
       "      <td>3493.858085</td>\n",
       "      <td>1478.249859</td>\n",
       "      <td>16.000000</td>\n",
       "      <td>12.000000</td>\n",
       "      <td>72.854343</td>\n",
       "      <td>272.889272</td>\n",
       "      <td>3.666667</td>\n",
       "    </tr>\n",
       "    <tr>\n",
       "      <th>75%</th>\n",
       "      <td>112.000000</td>\n",
       "      <td>93.000000</td>\n",
       "      <td>254.192341</td>\n",
       "      <td>2623.500000</td>\n",
       "      <td>178.000000</td>\n",
       "      <td>43.000000</td>\n",
       "      <td>5289.861262</td>\n",
       "      <td>2464.362632</td>\n",
       "      <td>23.000000</td>\n",
       "      <td>19.000000</td>\n",
       "      <td>179.347527</td>\n",
       "      <td>558.686918</td>\n",
       "      <td>9.000000</td>\n",
       "    </tr>\n",
       "    <tr>\n",
       "      <th>max</th>\n",
       "      <td>743.000000</td>\n",
       "      <td>596.000000</td>\n",
       "      <td>1216.154633</td>\n",
       "      <td>3500.000000</td>\n",
       "      <td>1236.000000</td>\n",
       "      <td>415.000000</td>\n",
       "      <td>21183.401890</td>\n",
       "      <td>15851.727160</td>\n",
       "      <td>31.000000</td>\n",
       "      <td>30.000000</td>\n",
       "      <td>15777.426560</td>\n",
       "      <td>15420.234110</td>\n",
       "      <td>395.000000</td>\n",
       "    </tr>\n",
       "  </tbody>\n",
       "</table>\n",
       "</div>"
      ],
      "text/plain": [
       "           sessions        drives  total_sessions  n_days_after_onboarding  \\\n",
       "count  14999.000000  14999.000000    14999.000000             14999.000000   \n",
       "mean      80.633776     67.281152      189.964447              1749.837789   \n",
       "std       80.699065     65.913872      136.405128              1008.513876   \n",
       "min        0.000000      0.000000        0.220211                 4.000000   \n",
       "25%       23.000000     20.000000       90.661156               878.000000   \n",
       "50%       56.000000     48.000000      159.568115              1741.000000   \n",
       "75%      112.000000     93.000000      254.192341              2623.500000   \n",
       "max      743.000000    596.000000     1216.154633              3500.000000   \n",
       "\n",
       "       total_navigations_fav1  total_navigations_fav2  driven_km_drives  \\\n",
       "count            14999.000000            14999.000000      14999.000000   \n",
       "mean               121.605974               29.672512       4039.340921   \n",
       "std                148.121544               45.394651       2502.149334   \n",
       "min                  0.000000                0.000000         60.441250   \n",
       "25%                  9.000000                0.000000       2212.600607   \n",
       "50%                 71.000000                9.000000       3493.858085   \n",
       "75%                178.000000               43.000000       5289.861262   \n",
       "max               1236.000000              415.000000      21183.401890   \n",
       "\n",
       "       duration_minutes_drives  activity_days  driving_days  \\\n",
       "count             14999.000000   14999.000000  14999.000000   \n",
       "mean               1860.976012      15.537102     12.179879   \n",
       "std                1446.702288       9.004655      7.824036   \n",
       "min                  18.282082       0.000000      0.000000   \n",
       "25%                 835.996260       8.000000      5.000000   \n",
       "50%                1478.249859      16.000000     12.000000   \n",
       "75%                2464.362632      23.000000     19.000000   \n",
       "max               15851.727160      31.000000     30.000000   \n",
       "\n",
       "       km_driven_per_drive  km_driven_per_driving_day  drives_per_driving_day  \n",
       "count         14999.000000               14999.000000            14992.000000  \n",
       "mean            232.817946                 578.963113                9.387368  \n",
       "std             620.622351                1030.094384               19.826097  \n",
       "min               0.000000                   0.000000                0.000000  \n",
       "25%              32.424301                 136.238895                1.250000  \n",
       "50%              72.854343                 272.889272                3.666667  \n",
       "75%             179.347527                 558.686918                9.000000  \n",
       "max           15777.426560               15420.234110              395.000000  "
      ]
     },
     "execution_count": 83,
     "metadata": {},
     "output_type": "execute_result"
    }
   ],
   "source": [
    "df_waze_0.describe()"
   ]
  },
  {
   "cell_type": "markdown",
   "id": "e03d7317-7329-4143-8ca3-1dea4ea95c58",
   "metadata": {},
   "source": [
    "In seaborn library, there is an option to turn on another theme by **sns.set()** instruction. It is different from default matplotlib.pyplot theme, if we wanted to return to this default option, we should execute **sns.reset_orig()** command."
   ]
  },
  {
   "cell_type": "code",
   "execution_count": 118,
   "id": "1350e0ac-6c60-4378-a189-66333b8aa7a4",
   "metadata": {},
   "outputs": [],
   "source": [
    "sns.set()\n",
    "#sns.reset_orig()"
   ]
  },
  {
   "cell_type": "code",
   "execution_count": 162,
   "id": "9977eecf-9efe-40ea-83a7-13246632d7da",
   "metadata": {
    "scrolled": true
   },
   "outputs": [],
   "source": [
    "# example plot\n",
    "\n",
    "# fig, ax = plt.subplots(figsize = (6,1.5))\n",
    "# sns.boxplot(x = df_waze_0[\"sessions\"], ax = ax)\n",
    "# plt.show()"
   ]
  },
  {
   "cell_type": "code",
   "execution_count": null,
   "id": "f3ad4ee9-5c96-4874-9459-ef5809221a1f",
   "metadata": {
    "scrolled": true
   },
   "outputs": [],
   "source": [
    "# function for plotting boxplot in plt\n",
    "\n",
    "# def boxplot_plt(col_arg, figsize_arg = None):\n",
    "#    # fig, ax = plt.subplots(figsize = (6,1.5))\n",
    "\n",
    "#     if figsize_arg == None:\n",
    "#         fig, ax = plt.subplots()\n",
    "#     else:\n",
    "#         fig, ax = plt.subplots(figsize = figsize_arg)\n",
    "#     ax = plt.boxplot( col_arg, orientation = 'horizontal', widths = 0.5)\n",
    "#     plt.show()\n",
    "\n",
    "# boxplot_plt( col_arg = df_waze_0[\"sessions\"], figsize_arg = (6,2))"
   ]
  },
  {
   "cell_type": "markdown",
   "id": "1014c95d-8ad4-4860-aa91-4f177e29337d",
   "metadata": {},
   "source": [
    "Below, we define our custom function to plot a boxplot for certain numerical variable given by user. User can also modify size of plotted figure by entering a two-value tuple as a second argument."
   ]
  },
  {
   "cell_type": "code",
   "execution_count": 167,
   "id": "2ccd377f-40f8-46f6-bed5-79fe94d85579",
   "metadata": {},
   "outputs": [],
   "source": [
    "import pandas.api.types as ptypes"
   ]
  },
  {
   "cell_type": "code",
   "execution_count": 175,
   "id": "de22412d-c017-400b-8701-49da29a7c851",
   "metadata": {},
   "outputs": [],
   "source": [
    "def boxplot_sns(col_arg, figsize_arg = None):\n",
    "\n",
    "    if ptypes.is_numeric_dtype(col_arg):\n",
    "        pass\n",
    "    else:\n",
    "        print(\"Please enter numeric column!\")\n",
    "        return   # end function\n",
    "        \n",
    "    if figsize_arg is None:\n",
    "        fig, ax = plt.subplots()\n",
    "    else:\n",
    "        fig, ax = plt.subplots( figsize = figsize_arg )\n",
    "    \n",
    "    sns.boxplot(x = col_arg, ax = ax)    \n",
    "    plt.show()\n",
    "    # fig, ax = plt.subplots\n",
    "    # sns.boxplot(x = df_waze_0[\"sessions\"], ax = ax)\n",
    "    # plt.show()"
   ]
  },
  {
   "cell_type": "code",
   "execution_count": 176,
   "id": "06786fbb-3548-458e-8183-390287ad09ec",
   "metadata": {},
   "outputs": [
    {
     "name": "stdout",
     "output_type": "stream",
     "text": [
      "Please enter numeric column!\n"
     ]
    }
   ],
   "source": [
    "boxplot_sns(col_arg = df_waze_0[\"label\"], figsize_arg = (6,1))"
   ]
  },
  {
   "cell_type": "code",
   "execution_count": 123,
   "id": "63230c48-908e-42f5-8f67-b1f06a975cdf",
   "metadata": {
    "scrolled": true
   },
   "outputs": [
    {
     "data": {
      "image/png": "[encoded data removed]",
      "text/plain": [
       "<Figure size 600x100 with 1 Axes>"
      ]
     },
     "metadata": {},
     "output_type": "display_data"
    }
   ],
   "source": [
    "boxplot_sns(col_arg = df_waze_0[\"sessions\"], figsize_arg = (6,1))"
   ]
  },
  {
   "cell_type": "markdown",
   "id": "5126eb9b-869e-4560-a7f7-b61682a0e48e",
   "metadata": {},
   "source": [
    "We get a list of all numerical variables included in our dataset:"
   ]
  },
  {
   "cell_type": "code",
   "execution_count": 156,
   "id": "8ea8c30b-431c-4fc6-8ab5-988c2cd3f8ac",
   "metadata": {
    "scrolled": true
   },
   "outputs": [],
   "source": [
    "num_cols = df_waze_0.select_dtypes(include=['number']).columns.tolist()"
   ]
  },
  {
   "cell_type": "markdown",
   "id": "dbe49b12-8253-4da6-98fb-eb9c8fcbba75",
   "metadata": {},
   "source": [
    "Now we execute our **boxplot_sns()** function to each of numerical column contained in a list above:"
   ]
  },
  {
   "cell_type": "code",
   "execution_count": 158,
   "id": "d3722262-ae7c-43d0-9d13-da7bbd29d308",
   "metadata": {},
   "outputs": [
    {
     "data": {
      "image/png": "[encoded data removed]",
      "text/plain": [
       "<Figure size 500x100 with 1 Axes>"
      ]
     },
     "metadata": {},
     "output_type": "display_data"
    },
    {
     "data": {
      "image/png": "[encoded data removed]",
      "text/plain": [
       "<Figure size 500x100 with 1 Axes>"
      ]
     },
     "metadata": {},
     "output_type": "display_data"
    },
    {
     "data": {
      "image/png": "[encoded data removed]",
      "text/plain": [
       "<Figure size 500x100 with 1 Axes>"
      ]
     },
     "metadata": {},
     "output_type": "display_data"
    },
    {
     "data": {
      "image/png": "[encoded data removed]",
      "text/plain": [
       "<Figure size 500x100 with 1 Axes>"
      ]
     },
     "metadata": {},
     "output_type": "display_data"
    },
    {
     "data": {
      "image/png": "[encoded data removed]",
      "text/plain": [
       "<Figure size 500x100 with 1 Axes>"
      ]
     },
     "metadata": {},
     "output_type": "display_data"
    },
    {
     "data": {
      "image/png": "[encoded data removed]",
      "text/plain": [
       "<Figure size 500x100 with 1 Axes>"
      ]
     },
     "metadata": {},
     "output_type": "display_data"
    },
    {
     "data": {
      "image/png": "[encoded data removed]",
      "text/plain": [
       "<Figure size 500x100 with 1 Axes>"
      ]
     },
     "metadata": {},
     "output_type": "display_data"
    },
    {
     "data": {
      "image/png": "[encoded data removed]",
      "text/plain": [
       "<Figure size 500x100 with 1 Axes>"
      ]
     },
     "metadata": {},
     "output_type": "display_data"
    },
    {
     "data": {
      "image/png": "[encoded data removed]",
      "text/plain": [
       "<Figure size 500x100 with 1 Axes>"
      ]
     },
     "metadata": {},
     "output_type": "display_data"
    },
    {
     "data": {
      "image/png": "[encoded data removed]",
      "text/plain": [
       "<Figure size 500x100 with 1 Axes>"
      ]
     },
     "metadata": {},
     "output_type": "display_data"
    },
    {
     "data": {
      "image/png": "[encoded data removed]",
      "text/plain": [
       "<Figure size 500x100 with 1 Axes>"
      ]
     },
     "metadata": {},
     "output_type": "display_data"
    },
    {
     "data": {
      "image/png": "[encoded data removed]",
      "text/plain": [
       "<Figure size 500x100 with 1 Axes>"
      ]
     },
     "metadata": {},
     "output_type": "display_data"
    },
    {
     "data": {
      "image/png": "[encoded data removed]",
      "text/plain": [
       "<Figure size 500x100 with 1 Axes>"
      ]
     },
     "metadata": {},
     "output_type": "display_data"
    }
   ],
   "source": [
    "for col in num_cols:\n",
    "    boxplot_sns( df_waze_0[col], (5, 1))"
   ]
  },
  {
   "cell_type": "code",
   "execution_count": null,
   "id": "b7d19b96-1d97-44ce-9cc7-ec06ab368261",
   "metadata": {},
   "outputs": [],
   "source": []
  }
 ],
 "metadata": {
  "kernelspec": {
   "display_name": "my-python3-kernel",
   "language": "python",
   "name": "my-python3-kernel"
  },
  "language_info": {
   "codemirror_mode": {
    "name": "ipython",
    "version": 3
   },
   "file_extension": ".py",
   "mimetype": "text/x-python",
   "name": "python",
   "nbconvert_exporter": "python",
   "pygments_lexer": "ipython3",
   "version": "3.12.7"
  }
 },
 "nbformat": 4,
 "nbformat_minor": 5
}
